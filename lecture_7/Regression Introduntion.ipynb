{
 "cells": [
  {
   "cell_type": "code",
   "execution_count": 1,
   "metadata": {},
   "outputs": [],
   "source": [
    "import numpy as np\n",
    "from sklearn.datasets import make_regression\n",
    "import matplotlib.pyplot as plt"
   ]
  },
  {
   "cell_type": "code",
   "execution_count": 5,
   "metadata": {},
   "outputs": [],
   "source": [
    "def hypo(theta, x):\n",
    "    return x*theta[1] + theta[0]"
   ]
  },
  {
   "cell_type": "markdown",
   "metadata": {},
   "source": [
    "## Manually generating data"
   ]
  },
  {
   "cell_type": "code",
   "execution_count": 23,
   "metadata": {},
   "outputs": [],
   "source": [
    "count = 100\n",
    "\n",
    "X = np.linspace(0, 100, count)\n",
    "error = np.random.randint(-10, 10, count)"
   ]
  },
  {
   "cell_type": "code",
   "execution_count": 24,
   "metadata": {},
   "outputs": [],
   "source": [
    "theta = np.array([1,1])\n",
    "\n",
    "Y = hypo(theta, X) + error"
   ]
  },
  {
   "cell_type": "code",
   "execution_count": 25,
   "metadata": {},
   "outputs": [
    {
     "data": {
      "text/plain": [
       "<matplotlib.collections.PathCollection at 0x12485f438>"
      ]
     },
     "execution_count": 25,
     "metadata": {},
     "output_type": "execute_result"
    },
    {
     "data": {
      "image/png": "[encoded data removed]",
      "text/plain": [
       "<Figure size 432x288 with 1 Axes>"
      ]
     },
     "metadata": {
      "needs_background": "light"
     },
     "output_type": "display_data"
    }
   ],
   "source": [
    "plt.scatter(X, Y)"
   ]
  },
  {
   "cell_type": "code",
   "execution_count": 30,
   "metadata": {},
   "outputs": [],
   "source": []
  },
  {
   "cell_type": "markdown",
   "metadata": {},
   "source": [
    "## Using scikit for generating data"
   ]
  },
  {
   "cell_type": "code",
   "execution_count": 96,
   "metadata": {},
   "outputs": [
    {
     "data": {
      "text/plain": [
       "<matplotlib.collections.PathCollection at 0x12748d438>"
      ]
     },
     "execution_count": 96,
     "metadata": {},
     "output_type": "execute_result"
    },
    {
     "data": {
      "image/png": "[encoded data removed]",
      "text/plain": [
       "<Figure size 432x288 with 1 Axes>"
      ]
     },
     "metadata": {
      "needs_background": "light"
     },
     "output_type": "display_data"
    }
   ],
   "source": [
    "X, Y = make_regression(n_samples=100, n_features=1, noise=5)\n",
    "plt.scatter(X, Y)\n",
    "# print(Y.shape)\n"
   ]
  },
  {
   "cell_type": "code",
   "execution_count": 78,
   "metadata": {},
   "outputs": [],
   "source": [
    "def hypo(theta, x):\n",
    "    return x*theta[1] + theta[0]\n",
    "\n",
    "def error(X, Y, theta):\n",
    "    Yh = hypo(theta, X)\n",
    "    return np.sum((Y-Yh)**2)"
   ]
  },
  {
   "cell_type": "code",
   "execution_count": 79,
   "metadata": {},
   "outputs": [],
   "source": [
    "\n",
    "\n",
    "# print(error(X, Y, theta))"
   ]
  },
  {
   "cell_type": "code",
   "execution_count": 97,
   "metadata": {},
   "outputs": [],
   "source": [
    "def grad_decent(X, Y, theta, lr):\n",
    "    Yh = hypo(theta, X)\n",
    "    \n",
    "    print(Y.shape, Yh.shape)\n",
    "    \n",
    "    change_inter = (np.sum((Y - Yh) * 1)/X.shape[0]) * lr\n",
    "    change_slop = (np.sum((Y - Yh) * X)/X.shape[0]) * lr\n",
    "    \n",
    "#     print(change_inter, change_slop)\n",
    "    \n",
    "    theta[0] += change_inter\n",
    "    theta[1] += change_slop\n",
    "    \n",
    "    e = error(X, Y, theta)\n",
    "    \n",
    "    return theta, e\n",
    "    "
   ]
  },
  {
   "cell_type": "code",
   "execution_count": 98,
   "metadata": {},
   "outputs": [
    {
     "name": "stdout",
     "output_type": "stream",
     "text": [
      "(100,) (100, 1)\n",
      "790199.4553898948\n",
      "(100,) (100, 1)\n",
      "32584476.271491073\n",
      "(100,) (100, 1)\n",
      "2824153095.5194216\n",
      "(100,) (100, 1)\n",
      "260921346592.3015\n",
      "(100,) (100, 1)\n",
      "25119380128321.777\n",
      "(100,) (100, 1)\n",
      "2497085250766411.0\n",
      "(100,) (100, 1)\n",
      "2.5415330048394586e+17\n",
      "(100,) (100, 1)\n",
      "2.6299048577377763e+19\n",
      "(100,) (100, 1)\n",
      "2.752041242868178e+21\n",
      "(100,) (100, 1)\n",
      "2.9013307732732758e+23\n"
     ]
    }
   ],
   "source": [
    "theta = np.array([0, 0])\n",
    "for i in range(10):\n",
    "    theta, e = grad_decent(X, Y, theta, .1)\n",
    "    print(e)"
   ]
  },
  {
   "cell_type": "code",
   "execution_count": null,
   "metadata": {},
   "outputs": [],
   "source": []
  }
 ],
 "metadata": {
  "kernelspec": {
   "display_name": "Python 3",
   "language": "python",
   "name": "python3"
  },
  "language_info": {
   "codemirror_mode": {
    "name": "ipython",
    "version": 3
   },
   "file_extension": ".py",
   "mimetype": "text/x-python",
   "name": "python",
   "nbconvert_exporter": "python",
   "pygments_lexer": "ipython3",
   "version": "3.7.1"
  }
 },
 "nbformat": 4,
 "nbformat_minor": 2
}

{
 "cells": [
  {
   "cell_type": "code",
   "execution_count": 9,
   "metadata": {},
   "outputs": [],
   "source": [
    "import numpy as np\n",
    "from sklearn.datasets import make_blobs\n",
    "import matplotlib.pyplot as plt"
   ]
  },
  {
   "cell_type": "code",
   "execution_count": 10,
   "metadata": {},
   "outputs": [],
   "source": [
    "def generate_model(layers):\n",
    "    \n",
    "    model = {}\n",
    "    model[\"input_size\"] = layers[0]\n",
    "    model[\"output_size\"] = layers[-1]\n",
    "    \n",
    "    seq = []\n",
    "    \n",
    "    for l in range(1, len(layers)):\n",
    "        w = np.random.randn(layers[l-1], layers[l])\n",
    "        b = np.zeros([layers[l]])\n",
    "        seq.append((w, b))\n",
    "    \n",
    "    model[\"seq\"] = seq\n",
    "\n",
    "    return model"
   ]
  },
  {
   "cell_type": "code",
   "execution_count": 11,
   "metadata": {},
   "outputs": [],
   "source": [
    "m = generate_model([2, 3, 2, 3])"
   ]
  },
  {
   "cell_type": "code",
   "execution_count": 12,
   "metadata": {},
   "outputs": [
    {
     "data": {
      "text/plain": [
       "{'input_size': 2,\n",
       " 'output_size': 3,\n",
       " 'seq': [(array([[-0.21231812, -1.38461704,  2.03912291],\n",
       "          [ 0.17611878,  0.49423768,  0.87888747]]), array([0., 0., 0.])),\n",
       "  (array([[ 0.58021654, -1.26644034],\n",
       "          [ 0.4268335 , -0.72594557],\n",
       "          [-1.99917742,  0.77612832]]), array([0., 0.])),\n",
       "  (array([[ 2.23091366,  2.40711323,  0.47805534],\n",
       "          [-0.05606261,  0.57216846,  0.22035792]]), array([0., 0., 0.]))]}"
      ]
     },
     "execution_count": 12,
     "metadata": {},
     "output_type": "execute_result"
    }
   ],
   "source": [
    "m"
   ]
  },
  {
   "cell_type": "code",
   "execution_count": 43,
   "metadata": {},
   "outputs": [],
   "source": [
    "def sigmoid(z):\n",
    "    return 1 / (1 + np.exp(-z))\n",
    "\n",
    "def soft_max(z):\n",
    "    ex = np.exp(z)\n",
    "    print(ex.shape)\n",
    "    total = np.sum(ex, axis=1, keepdims=1)\n",
    "    \n",
    "    return ex/total\n",
    "    "
   ]
  },
  {
   "cell_type": "code",
   "execution_count": null,
   "metadata": {},
   "outputs": [],
   "source": []
  },
  {
   "cell_type": "code",
   "execution_count": 44,
   "metadata": {},
   "outputs": [],
   "source": [
    "X, y = make_blobs(n_samples=1000, n_features=2, centers=2)"
   ]
  },
  {
   "cell_type": "code",
   "execution_count": 45,
   "metadata": {},
   "outputs": [
    {
     "data": {
      "text/plain": [
       "<matplotlib.collections.PathCollection at 0x117e053c8>"
      ]
     },
     "execution_count": 45,
     "metadata": {},
     "output_type": "execute_result"
    },
    {
     "data": {
      "image/png": "[encoded data removed]",
      "text/plain": [
       "<Figure size 432x288 with 1 Axes>"
      ]
     },
     "metadata": {
      "needs_background": "light"
     },
     "output_type": "display_data"
    }
   ],
   "source": [
    "plt.scatter(X[:, 0], X[:, 1], c=y)"
   ]
  },
  {
   "cell_type": "code",
   "execution_count": 46,
   "metadata": {},
   "outputs": [],
   "source": [
    "def forward_pass(x_data, model):\n",
    "    \n",
    "    a = x_data\n",
    "    seq = model[\"seq\"]\n",
    "    for i, layer in enumerate(seq):\n",
    "        w = layer[0]\n",
    "        b = layer[1]\n",
    "        \n",
    "        z = np.dot(a, w) - b\n",
    "        \n",
    "        if i < len(seq) - 1:\n",
    "            a = sigmoid(z)\n",
    "        else:\n",
    "            a = soft_max(z)\n",
    "    \n",
    "    return a"
   ]
  },
  {
   "cell_type": "code",
   "execution_count": 48,
   "metadata": {},
   "outputs": [
    {
     "name": "stdout",
     "output_type": "stream",
     "text": [
      "(1000, 2)\n",
      "[[0.00888479 0.99111521]\n",
      " [0.19701776 0.80298224]\n",
      " [0.12553857 0.87446143]\n",
      " [0.00726728 0.99273272]\n",
      " [0.00851764 0.99148236]\n",
      " [0.00723575 0.99276425]\n",
      " [0.19508653 0.80491347]\n",
      " [0.09192397 0.90807603]\n",
      " [0.19721473 0.80278527]\n",
      " [0.00844277 0.99155723]]\n"
     ]
    }
   ],
   "source": [
    "m1 = generate_model([2, 5, 100, 200, 2])\n",
    "\n",
    "res = forward_pass(X, m1)\n",
    "\n",
    "print(res[:10])"
   ]
  },
  {
   "cell_type": "code",
   "execution_count": 96,
   "metadata": {},
   "outputs": [],
   "source": [
    "nums = np.array([1, 2, 1, 2])"
   ]
  },
  {
   "cell_type": "code",
   "execution_count": 97,
   "metadata": {},
   "outputs": [],
   "source": [
    "from sklearn.preprocessing import OneHotEncoder"
   ]
  },
  {
   "cell_type": "code",
   "execution_count": 100,
   "metadata": {},
   "outputs": [],
   "source": [
    "en = OneHotEncoder(categories=\"auto\")"
   ]
  },
  {
   "cell_type": "code",
   "execution_count": 102,
   "metadata": {},
   "outputs": [
    {
     "data": {
      "text/plain": [
       "OneHotEncoder(categorical_features=None, categories='auto',\n",
       "       dtype=<class 'numpy.float64'>, handle_unknown='error',\n",
       "       n_values=None, sparse=True)"
      ]
     },
     "execution_count": 102,
     "metadata": {},
     "output_type": "execute_result"
    }
   ],
   "source": [
    "en.fit(y.reshape(-1, 1))"
   ]
  },
  {
   "cell_type": "code",
   "execution_count": 104,
   "metadata": {},
   "outputs": [],
   "source": [
    "t = en.transform(y.reshape(-1, 1))"
   ]
  },
  {
   "cell_type": "code",
   "execution_count": 105,
   "metadata": {},
   "outputs": [
    {
     "name": "stdout",
     "output_type": "stream",
     "text": [
      "[[0. 1.]\n",
      " [1. 0.]\n",
      " [1. 0.]\n",
      " ...\n",
      " [0. 1.]\n",
      " [0. 1.]\n",
      " [1. 0.]]\n"
     ]
    }
   ],
   "source": [
    "print(t.todense())"
   ]
  },
  {
   "cell_type": "code",
   "execution_count": null,
   "metadata": {},
   "outputs": [],
   "source": []
  },
  {
   "cell_type": "code",
   "execution_count": null,
   "metadata": {},
   "outputs": [],
   "source": []
  }
 ],
 "metadata": {
  "kernelspec": {
   "display_name": "Python 3",
   "language": "python",
   "name": "python3"
  },
  "language_info": {
   "codemirror_mode": {
    "name": "ipython",
    "version": 3
   },
   "file_extension": ".py",
   "mimetype": "text/x-python",
   "name": "python",
   "nbconvert_exporter": "python",
   "pygments_lexer": "ipython3",
   "version": "3.7.2"
  }
 },
 "nbformat": 4,
 "nbformat_minor": 2
}

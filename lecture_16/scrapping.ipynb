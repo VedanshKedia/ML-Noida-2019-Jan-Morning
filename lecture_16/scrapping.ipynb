{
 "cells": [
  {
   "cell_type": "code",
   "execution_count": 1,
   "metadata": {},
   "outputs": [],
   "source": [
    "import requests\n",
    "\n",
    "from bs4 import BeautifulSoup"
   ]
  },
  {
   "cell_type": "code",
   "execution_count": 2,
   "metadata": {},
   "outputs": [],
   "source": [
    "url = \"https://www.goodreads.com/quotes\""
   ]
  },
  {
   "cell_type": "code",
   "execution_count": 3,
   "metadata": {},
   "outputs": [],
   "source": [
    "data = requests.get(url)"
   ]
  },
  {
   "cell_type": "code",
   "execution_count": 4,
   "metadata": {},
   "outputs": [],
   "source": [
    "f = open(\"index.html\", \"w\", encoding=\"utf16\")\n",
    "\n",
    "f.write(data.text)\n",
    "\n",
    "f.close()"
   ]
  },
  {
   "cell_type": "code",
   "execution_count": null,
   "metadata": {},
   "outputs": [],
   "source": []
  },
  {
   "cell_type": "code",
   "execution_count": 5,
   "metadata": {},
   "outputs": [],
   "source": [
    "soup = BeautifulSoup(data.text)"
   ]
  },
  {
   "cell_type": "code",
   "execution_count": 6,
   "metadata": {},
   "outputs": [
    {
     "data": {
      "text/plain": [
       "bs4.BeautifulSoup"
      ]
     },
     "execution_count": 6,
     "metadata": {},
     "output_type": "execute_result"
    }
   ],
   "source": [
    "type(soup)"
   ]
  },
  {
   "cell_type": "code",
   "execution_count": 7,
   "metadata": {},
   "outputs": [
    {
     "data": {
      "text/plain": [
       "<title>Popular Quotes</title>"
      ]
     },
     "execution_count": 7,
     "metadata": {},
     "output_type": "execute_result"
    }
   ],
   "source": [
    "soup.html.head.title"
   ]
  },
  {
   "cell_type": "code",
   "execution_count": 8,
   "metadata": {},
   "outputs": [],
   "source": [
    "quote = soup.find_all(\"div\", attrs={\"class\" : \"quote\"})[0]"
   ]
  },
  {
   "cell_type": "code",
   "execution_count": 9,
   "metadata": {},
   "outputs": [],
   "source": [
    "# quoteText = quote.select_one(\"div.quoteText\")"
   ]
  },
  {
   "cell_type": "code",
   "execution_count": 10,
   "metadata": {},
   "outputs": [],
   "source": [
    "# text = quoteText.text.split(\"\\n\")"
   ]
  },
  {
   "cell_type": "code",
   "execution_count": 11,
   "metadata": {},
   "outputs": [],
   "source": [
    "# print(text[-3].strip())"
   ]
  },
  {
   "cell_type": "code",
   "execution_count": 12,
   "metadata": {},
   "outputs": [],
   "source": [
    "# footer = quote.select_one(\"div.quoteFooter\")"
   ]
  },
  {
   "cell_type": "code",
   "execution_count": 13,
   "metadata": {},
   "outputs": [],
   "source": [
    "# tags = footer.select_one(\"div.greyText\")"
   ]
  },
  {
   "cell_type": "code",
   "execution_count": 14,
   "metadata": {},
   "outputs": [],
   "source": [
    "# for tag in tags.find_all(\"a\"):\n",
    "#     print(tag.text)"
   ]
  },
  {
   "cell_type": "code",
   "execution_count": 15,
   "metadata": {},
   "outputs": [],
   "source": [
    "def gen_data(quote):\n",
    "    quoteText = quote.select_one(\"div.quoteText\")\n",
    "    text = quoteText.text.split(\"\\n\")\n",
    "    author = text[-3].strip()\n",
    "    quote_text = text[1].strip()\n",
    "    \n",
    "    footer = quote.select_one(\"div.quoteFooter\")\n",
    "    tags_list = footer.select_one(\"div.greyText\")\n",
    "    tags = []\n",
    "    if tags_list:\n",
    "        for tag in tags_list.find_all(\"a\"):\n",
    "            tags.append(tag.text)\n",
    "    \n",
    "    deatails = {}\n",
    "    deatails[\"author\"] = author\n",
    "    deatails[\"quote\"] = quote_text\n",
    "    deatails[\"tags\"] = tags\n",
    "    \n",
    "    return deatails"
   ]
  },
  {
   "cell_type": "code",
   "execution_count": 16,
   "metadata": {},
   "outputs": [],
   "source": [
    "def grab(url):\n",
    "    data = requests.get(url).text\n",
    "    soup = BeautifulSoup(data)\n",
    "    quotes_data = soup.find_all(\"div\", attrs={\"class\" : \"quote\"})\n",
    "    quotes = []\n",
    "    \n",
    "    for q in quotes_data:\n",
    "        quotes.append(gen_data(q))\n",
    "    \n",
    "    return quotes\n",
    "# gen_data(quote)"
   ]
  },
  {
   "cell_type": "code",
   "execution_count": 17,
   "metadata": {},
   "outputs": [
    {
     "name": "stdout",
     "output_type": "stream",
     "text": [
      "scrapping page 1\n",
      "scrapping page 2\n",
      "scrapping page 3\n",
      "90\n"
     ]
    }
   ],
   "source": [
    "base = \"https://www.goodreads.com/quotes/tag/life?page=\"\n",
    "\n",
    "all_quotes = []\n",
    "\n",
    "for i in range(1, 4):\n",
    "    all_quotes += grab(base+str(i))\n",
    "    print(\"scrapping page \" + str(i))\n",
    "    \n",
    "print(len(all_quotes))"
   ]
  },
  {
   "cell_type": "code",
   "execution_count": null,
   "metadata": {},
   "outputs": [],
   "source": []
  },
  {
   "cell_type": "code",
   "execution_count": 24,
   "metadata": {},
   "outputs": [],
   "source": [
    "import json"
   ]
  },
  {
   "cell_type": "code",
   "execution_count": 32,
   "metadata": {},
   "outputs": [],
   "source": [
    "json.dump(all_quotes, open(\"quotes.json\", \"w\", encoding=\"utf16\"))"
   ]
  },
  {
   "cell_type": "code",
   "execution_count": null,
   "metadata": {},
   "outputs": [],
   "source": [
    "\n"
   ]
  },
  {
   "cell_type": "code",
   "execution_count": null,
   "metadata": {},
   "outputs": [],
   "source": []
  },
  {
   "cell_type": "code",
   "execution_count": 33,
   "metadata": {},
   "outputs": [
    {
     "data": {
      "text/plain": [
       "'[{\"author\": \"Dr. Seuss\", \"quote\": \"\\\\u201cDon\\'t cry because it\\'s over, smile because it happened.\\\\u201d\", \"tags\": [\"attributed-no-source\", \"cry\", \"crying\", \"experience\", \"happiness\", \"joy\", \"life\", \"misattributed-dr-seuss\", \"optimism\", \"sadness\", \"smile\", \"smiling\"]}, {\"author\": \"Marilyn Monroe\", \"quote\": \"\\\\u201cI\\'m selfish, impatient and a little insecure. I make mistakes, I am out of control and at times hard to handle. But if you can\\'t handle me at my worst, then you sure as hell don\\'t deserve me at my best.\\\\u201d\", \"tags\": [\"attributed-no-source\", \"best\", \"life\", \"love\", \"mistakes\", \"out-of-control\", \"truth\", \"worst\"]}, {\"author\": \"William W. Purkey\", \"quote\": \"\\\\u201cYou\\'ve gotta dance like there\\'s nobody watching,Love like you\\'ll never be hurt,Sing like there\\'s nobody listening,And live like it\\'s heaven on earth.\\\\u201d\", \"tags\": [\"dance\", \"heaven\", \"hurt\", \"inspirational\", \"life\", \"love\", \"sing\"]}, {\"author\": \"Mae West\", \"quote\": \"\\\\u201cYou only live once, but if you do it right, once is enough.\\\\u201d\", \"tags\": [\"humor\", \"life\"]}, {\"author\": \"Robert Frost\", \"quote\": \"\\\\u201cIn three words I can sum up everything I\\'ve learned about life: it goes on.\\\\u201d\", \"tags\": [\"life\"]}, {\"author\": \"Oscar Wilde\", \"quote\": \"\\\\u201cTo live is the rarest thing in the world. Most people exist, that is all.\\\\u201d\", \"tags\": [\"life\"]}, {\"author\": \"Narcotics Anonymous\", \"quote\": \"\\\\u201cInsanity is doing the same thing, over and over again, but expecting different results.\\\\u201d\", \"tags\": [\"humor\", \"insanity\", \"life\", \"misattributed-ben-franklin\", \"misattributed-mark-twain\", \"misattributed-to-einstein\"]}, {\"author\": \"//]]>\", \"quote\": \"\\\\u201cIt is better to be hated for what you are than to be loved for what you are not.\\\\u201d\", \"tags\": [\"life\", \"love\"]}, {\"author\": \"//]]>\", \"quote\": \"\\\\u201cIt does not do to dwell on dreams and forget to live.\\\\u201d\", \"tags\": [\"dreams\", \"life\"]}, {\"author\": \"Albert Einstein\", \"quote\": \"\\\\u201cThere are only two ways to live your life. One is as though nothing is a miracle. The other is as though everything is a miracle.\\\\u201d\", \"tags\": [\"attributed-no-source\", \"inspirational\", \"life\", \"live\", \"miracle\", \"miracles\"]}, {\"author\": \"Mark Twain\", \"quote\": \"\\\\u201cGood friends, good books, and a sleepy conscience: this is the ideal life.\\\\u201d\", \"tags\": [\"books\", \"contentment\", \"friends\", \"friendship\", \"life\"]}, {\"author\": \"Allen Saunders\", \"quote\": \"\\\\u201cLife is what happens to us while we are making other plans.\\\\u201d\", \"tags\": [\"fate\", \"life\", \"misattributed-john-lennon\", \"planning\", \"plans\"]}, {\"author\": \"//]]>\", \"quote\": \"\\\\u201cI may not have gone where I intended to go, but I think I have ended up where I needed to be.\\\\u201d\", \"tags\": [\"life\", \"navigation\"]}, {\"author\": \"Marilyn Monroe\", \"quote\": \"\\\\u201cThis life is what you make it. No matter what, you\\'re going to mess up sometimes, it\\'s a universal truth. But the good part is you get to decide how you\\'re going to mess it up. Girls will be your friends - they\\'ll act like it anyway. But just remember, some come, some go. The ones that stay with you through everything - they\\'re your true best friends. Don\\'t let go of them. Also remember, sisters make the best friends in the world. As for lovers, well, they\\'ll come and go too. And baby, I hate to say it, most of them - actually pretty much all of them are going to break your heart, but you can\\'t give up because if you give up, you\\'ll never find your soulmate. You\\'ll never find that half who makes you whole and that goes for everything. Just because you fail once, doesn\\'t mean you\\'re gonna fail at everything. Keep trying, hold on, and always, always, always believe in yourself, because if you don\\'t, then who will, sweetie? So keep your head high, keep your chin up, and most importantly, keep smiling, because life\\'s a beautiful thing and there\\'s so much to smile about.\\\\u201d\", \"tags\": [\"attributed-no-source\", \"friends\", \"heartbreak\", \"inspirational\", \"life\", \"love\", \"sisters\"]}, {\"author\": \"Pablo Picasso\", \"quote\": \"\\\\u201cEverything you can imagine is real.\\\\u201d\", \"tags\": [\"art\", \"imagination\", \"inspirational\", \"life\"]}, {\"author\": \"Dr. Seuss\", \"quote\": \"\\\\u201cSometimes the questions are complicated and the answers are simple.\\\\u201d\", \"tags\": [\"attributed-no-source\", \"life\"]}, {\"author\": \"//]]>\", \"quote\": \"\\\\u201cToday you are You, that is truer than true. There is no one alive who is Youer than You.\\\\u201d\", \"tags\": [\"comedy\", \"life\", \"yourself\"]}, {\"author\": \"Woody Allen\", \"quote\": \"\\\\u201cI\\'m not afraid of death; I just don\\'t want to be there when it happens.\\\\u201d\", \"tags\": [\"death\", \"fear\", \"humor\", \"life\"]}, {\"author\": \"George Bernard Shaw\", \"quote\": \"\\\\u201cLife isn\\'t about finding yourself. Life is about creating yourself.\\\\u201d\", \"tags\": [\"inspirational\", \"life\", \"yourself\"]}, {\"author\": \"//]]>\", \"quote\": \"\\\\u201cSometimes people are beautiful.Not in looks.Not in what they say.Just in what they are.\\\\u201d\", \"tags\": [\"beauty\", \"life\"]}, {\"author\": \"Albert Einstein\", \"quote\": \"\\\\u201cLife is like riding a bicycle. To keep your balance, you must keep moving.\\\\u201d\", \"tags\": [\"life\", \"simile\"]}, {\"author\": \"//]]>\", \"quote\": \"\\\\u201cSome infinities are bigger than other infinities.\\\\u201d\", \"tags\": [\"infinity\", \"john-green\", \"life\", \"tfios\", \"the-fault-in-our-stars\"]}, {\"author\": \"Bob Marley\", \"quote\": \"\\\\u201cWho are you to judge the life I live?I know I\\'m not perfect-and I don\\'t live to be-but before you start pointing fingers...make sure you hands are clean!\\\\u201d\", \"tags\": [\"judge\", \"life\", \"live\", \"perfection\"]}, {\"author\": \"//]]>\", \"quote\": \"\\\\u201cReality continues to ruin my life.\\\\u201d\", \"tags\": [\"calvin-and-hobbes\", \"humor\", \"life\"]}, {\"author\": \"//]]>\", \"quote\": \"\\\\u201cThings change. And friends leave. Life doesn\\'t stop for anybody.\\\\u201d\", \"tags\": [\"change\", \"life\"]}, {\"author\": \"//]]>\", \"quote\": \"\\\\u201cThe only way out of the labyrinth of suffering is to forgive.\\\\u201d\", \"tags\": [\"compassion\", \"life\", \"suffering\"]}, {\"author\": \"//]]>\", \"quote\": \"\\\\u201cHe has achieved success who has lived well, laughed often, and loved much;Who has enjoyed the trust of pure women, the respect of intelligent men and the love of little children;Who has filled his niche and accomplished his task;Who has never lacked appreciation of Earth\\'s beauty or failed to express it;Who has left the world better than he found it,Whether an improved poppy, a perfect poem, or a rescued soul;Who has always looked for the best in others and given them the best he had;Whose life was an inspiration;Whose memory a benediction.\\\\u201d\", \"tags\": [\"life\", \"misattributed-to-emerson\", \"success\", \"widely-misattributed\"]}, {\"author\": \"//]]>\", \"quote\": \"\\\\u201cDumbledore watched her fly away, and as her silvery glow faded he turned back to Snape, and his eyes were full of tears.\\\\\"After all this time?\\\\\"\\\\\"Always,\\\\\" said Snape.\\\\u201d\", \"tags\": [\"dumbledore\", \"life\", \"love\", \"snape\"]}, {\"author\": \"//]]>\", \"quote\": \"\\\\u201cWhen someone loves you, the way they talk about you is different. You feel safe and comfortable.\\\\u201d\", \"tags\": [\"desire\", \"emotion\", \"friendship\", \"honesty\", \"imagination\", \"individuality\", \"life\", \"love\", \"passion\", \"reality\", \"relationships\", \"romance\", \"truth\", \"wisdom\", \"wise-words\"]}, {\"author\": \"Ralph Waldo Emerson\", \"quote\": \"\\\\u201cFinish each day and be done with it. You have done what you could. Some blunders and absurdities no doubt crept in; forget them as soon as you can. Tomorrow is a new day. You shall begin it serenely and with too high a spirit to be encumbered with your old nonsense.\\\\u201d\", \"tags\": [\"life\", \"regrets\"]}, {\"author\": \"//]]>\", \"quote\": \"\\\\u201cI\\'m the one that\\'s got to die when it\\'s time for me to die, so let me live my life the way I want to.\\\\u201d\", \"tags\": [\"death\", \"life\"]}, {\"author\": \"Khaled Hosseini\", \"quote\": \"\\\\u201cBut better to get hurt by the truth than comforted with a lie.\\\\u201d\", \"tags\": [\"life\"]}, {\"author\": \"//]]>\", \"quote\": \"\\\\u201cWe are what we pretend to be, so we must be careful about what we pretend to be.\\\\u201d\", \"tags\": [\"action\", \"attitude\", \"choice\", \"imagination\", \"inspiration\", \"life\", \"pretend\"]}, {\"author\": \"Mark Twain\", \"quote\": \"\\\\u201cThe fear of death follows from the fear of life. A man who lives fully is prepared to die at any time.\\\\u201d\", \"tags\": [\"death\", \"life\"]}, {\"author\": \"//]]>\", \"quote\": \"\\\\u201cJust when you think it can\\'t get any worse, it can. And just when you think it can\\'t get any better, it can.\\\\u201d\", \"tags\": [\"life\", \"love\"]}, {\"author\": \"//]]>\", \"quote\": \"\\\\u201cI can never read all the books I want; I can never be all the people I want and live all the lives I want. I can never train myself in all the skills I want. And why do I want? I want to live and feel all the shades, tones and variations of mental and physical experience possible in my life. And I am horribly limited.\\\\u201d\", \"tags\": [\"books\", \"life\", \"limits\"]}, {\"author\": \"//]]>\", \"quote\": \"\\\\u201cThe one you love and the one who loves you are never, ever the same person.\\\\u201d\", \"tags\": [\"life\", \"love\"]}, {\"author\": \"Albert Einstein\", \"quote\": \"\\\\u201cI speak to everyone in the same way, whether he is the garbage man or the president of the university.\\\\u201d\", \"tags\": [\"life\", \"respect\"]}, {\"author\": \"//]]>\", \"quote\": \"\\\\u201cHow wonderful it is that nobody need wait a single moment before starting to improve the world.\\\\u201d\", \"tags\": [\"activism\", \"life\", \"optimism\", \"philosophy\", \"world\"]}, {\"author\": \"//]]>\", \"quote\": \"\\\\u201cWe\\'re all human, aren\\'t we? Every human life is worth the same, and worth saving.\\\\u201d\", \"tags\": [\"human\", \"life\", \"value\", \"worth\"]}, {\"author\": \"Isaac Asimov\", \"quote\": \"\\\\u201cThe saddest aspect of life right now is that science gathers knowledge faster than society gathers wisdom.\\\\u201d\", \"tags\": [\"life\", \"science\", \"wisdom\"]}, {\"author\": \"George Harrison\", \"quote\": \"\\\\u201cIf you don\\'t know where you\\'re going, any road\\'ll take you there\\\\u201d\", \"tags\": [\"life\", \"paraphrase-of-lewis-carroll\"]}, {\"author\": \"//]]>\", \"quote\": \"\\\\u201cAll God does is watch us and kill us when we get boring. We must never, ever be boring.\\\\u201d\", \"tags\": [\"god\", \"humor\", \"life\"]}, {\"author\": \"//]]>\", \"quote\": \"\\\\u201cThis life\\\\u2019s hard, but it\\\\u2019s harder if you\\\\u2019re stupid.\\\\u201d\", \"tags\": [\"humor\", \"life\", \"misattributed-john-wayne\"]}, {\"author\": \"Henry Wadsworth Longfellow\", \"quote\": \"\\\\u201cEvery man has his secret sorrows which the world knows not; and often times we call a man cold when he is only sad.\\\\u201d\", \"tags\": [\"coldness\", \"depression\", \"happiness\", \"life\", \"sad\", \"sadness\", \"sorrow\"]}, {\"author\": \"//]]>\", \"quote\": \"\\\\u201cSometimes I can hear my bones straining under the weight of all the lives I\\'m not living.\\\\u201d\", \"tags\": [\"life\"]}, {\"author\": \"//]]>\", \"quote\": \"\\\\u201cDeath ends a life, not a relationship.\\\\u201d\", \"tags\": [\"death\", \"life\"]}, {\"author\": \"Margaret Mead\", \"quote\": \"\\\\u201cNever doubt that a small group of thoughtful, committed, citizens can change the world. Indeed, it is the only thing that ever has.\\\\u201d\", \"tags\": [\"activism\", \"attributed-no-source\", \"change\", \"inspirational\", \"life\", \"philosophy\", \"world\"]}, {\"author\": \"Gustave Flaubert\", \"quote\": \"\\\\u201cDo not read, as children do, to amuse yourself, or like the ambitious, for the purpose of instruction. No, read in order to live.\\\\u201d\", \"tags\": [\"books\", \"inspirational\", \"life\", \"reading\"]}, {\"author\": \"//]]>\", \"quote\": \"\\\\u201cYou cannot find peace by avoiding life.\\\\u201d\", \"tags\": [\"life\", \"peace\"]}, {\"author\": \"Gilda Radner\", \"quote\": \"\\\\u201cI wanted a perfect ending. Now I\\'ve learned, the hard way, that some poems don\\'t rhyme, and some stories don\\'t have a clear beginning, middle, and end. Life is about not knowing, having to change, taking the moment and making the best of it, without knowing what\\'s going to happen next.Delicious Ambiguity.\\\\u201d\", \"tags\": [\"ambiguity\", \"life\", \"stories\", \"uncertainty\", \"unpredictability\"]}, {\"author\": \"//]]>\", \"quote\": \"\\\\u201cLife will break you. Nobody can protect you from that, and living alone won\\'t either, for solitude will also break you with its yearning. You have to love. You have to feel. It is the reason you are here on earth. You are here to risk your heart. You are here to be swallowed up. And when it happens that you are broken, or betrayed, or left, or hurt, or death brushes near, let yourself sit by an apple tree and listen to the apples falling all around you in heaps, wasting their sweetness. Tell yourself you tasted as many as you could.\\\\u201d\", \"tags\": [\"heartbreak\", \"life\", \"living\", \"love\", \"strength\"]}, {\"author\": \"Mahatma Gandhi\", \"quote\": \"\\\\u201cWhere there is love there is life.\\\\u201d\", \"tags\": [\"life\", \"love\"]}, {\"author\": \"Jonathan Swift\", \"quote\": \"\\\\u201cMay you live every day of your life.\\\\u201d\", \"tags\": [\"inspirational\", \"life\", \"philosophy\", \"wisdom\"]}, {\"author\": \"John Lennon\", \"quote\": \"\\\\u201cThere are two basic motivating forces: fear and love. When we are afraid, we pull back from life. When we are in love, we open to all that life has to offer with passion, excitement, and acceptance. We need to learn to love ourselves first, in all our glory and our imperfections. If we cannot love ourselves, we cannot fully open to our ability to love others or our potential to create. Evolution and all hopes for a better world rest in the fearlessness and open-hearted vision of people who embrace life.\\\\u201d\", \"tags\": [\"beatles\", \"fear\", \"life\", \"love\"]}, {\"author\": \"E.B. White\", \"quote\": \"\\\\u201cIf the world were merely seductive, that would be easy. If it were merely challenging, that would be no problem. But I arise in the morning torn between a desire to improve the world and a desire to enjoy the world. This makes it hard to plan the day.\\\\u201d\", \"tags\": [\"activism\", \"humor\", \"life\", \"pleasure\"]}, {\"author\": \"//]]>\", \"quote\": \"\\\\u201cGet busy living or get busy dying.\\\\u201d\", \"tags\": [\"life\"]}, {\"author\": \"//]]>\", \"quote\": \"\\\\u201cThese woods are lovely, dark and deep,But I have promises to keep,And miles to go before I sleep,And miles to go before I sleep.\\\\u201d\", \"tags\": [\"life\"]}, {\"author\": \"//]]>\", \"quote\": \"\\\\u201cTo love. To be loved. To never forget your own insignificance. To never get used to the unspeakable violence and the vulgar disparity of life around you. To seek joy in the saddest places. To pursue beauty to its lair. To never simplify what is complicated or complicate what is simple. To respect strength, never power. Above all, to watch. To try and understand. To never look away. And never, never to forget.\\\\u201d\", \"tags\": [\"life\"]}, {\"author\": \"//]]>\", \"quote\": \"\\\\u201cAll the world is made of faith, and trust, and pixie dust.\\\\u201d\", \"tags\": [\"faith\", \"life\", \"pixie-dust\", \"trust\"]}, {\"author\": \"//]]>\", \"quote\": \"\\\\u201cThere will come a time when all of us are dead. All of us. There will come a time when there are no human beings remaining to remember that anyone ever existed or that our species ever did anything. There will be no one left to remember Aristotle or Cleopatra, let alone you. Everything that we did and built and wrote and thought and discovered will be forgotten and all of this will have been for naught. Maybe that time is coming soon and maybe it is millions of years away, but even if we survive the collapse of our sun, we will not survive forever. There was time before organisms experienced consciousness, and there will be time after. And if the inevitability of human oblivion worries you, I encourage you to ignore it. God knows that\\\\u2019s what everyone else does.\\\\u201d\", \"tags\": [\"existence\", \"life\"]}, {\"author\": \"//]]>\", \"quote\": \"\\\\u201cI DON\\'T CARE!\\\\\" Harry yelled at them, snatching up a lunascope and throwing it into the fireplace. \\\\\"I\\'VE HAD ENOUGH, I\\'VE SEEN ENOUGH, I WANT OUT, I WANT IT TO END, I DON\\'T CARE ANYMORE!\\\\\"\\\\\"You do care,\\\\\" said Dumbledore. He had not flinched or made a single move to stop Harry demolishing his office. His expression was calm, almost detached. \\\\\"You care so much you feel as though you will bleed to death with the pain of it.\\\\u201d\", \"tags\": [\"ache\", \"death\", \"dumbledore\", \"harry-potter\", \"hurt\", \"life\", \"pain\"]}, {\"author\": \"May Sarton\", \"quote\": \"\\\\u201cWe have to dare to be ourselves, however frightening or strange that self may prove to be.\\\\u201d\", \"tags\": [\"authenticity\", \"life\", \"philosophy\", \"self\"]}, {\"author\": \"Oscar Wilde\", \"quote\": \"\\\\u201cAnyone who lives within their means suffers from a lack of imagination.\\\\u201d\", \"tags\": [\"imagination\", \"life\", \"money\"]}, {\"author\": \"//]]>\", \"quote\": \"\\\\u201cIf my life is going to mean anything, I have to live it myself.\\\\u201d\", \"tags\": [\"inspirational\", \"life\", \"meaning\"]}, {\"author\": \"John Lennon\", \"quote\": \"\\\\u201cWhen I was 5 years old, my mother always told me that happiness was the key to life. When I went to school, they asked me what I wanted to be when I grew up. I wrote down \\\\u2018happy\\\\u2019. They told me I didn\\\\u2019t understand the assignment, and I told them they didn\\\\u2019t understand life.\\\\u201d\", \"tags\": [\"inspirational\", \"life\"]}, {\"author\": \"//]]>\", \"quote\": \"\\\\u201cLife is a book and there are a thousand pages I have not yet read.\\\\u201d\", \"tags\": [\"chapter-24\", \"life\", \"will-herondale\"]}, {\"author\": \"//]]>\", \"quote\": \"\\\\u201cOf all sad words of tongue or pen, the saddest are these, \\'It might have been.\\\\u201d\", \"tags\": [\"life\", \"words\"]}, {\"author\": \"George Bernard Shaw\", \"quote\": \"\\\\u201cA life spent making mistakes is not only more honorable, but more useful than a life spent doing nothing.\\\\u201d\", \"tags\": [\"art\", \"life\"]}, {\"author\": \"//]]>\", \"quote\": \"\\\\u201cDo not let your fire go out, spark by irreplaceable spark in the hopeless swamps of the not-quite, the not-yet, and the not-at-all. Do not let the hero in your soul perish in lonely frustration for the life you deserved and have never been able to reach. The world you desire can be won. It exists.. it is real.. it is possible.. it\\'s yours.\\\\u201d\", \"tags\": [\"inspirational\", \"life\"]}, {\"author\": \"//]]>\", \"quote\": \"\\\\u201cIf you\\'re reading this...Congratulations, you\\'re alive.If that\\'s not something to smile about,then I don\\'t know what is.\\\\u201d\", \"tags\": [\"alive\", \"congratulations\", \"hope\", \"humanity\", \"inspiration\", \"inspirational\", \"inspire\", \"life\", \"poetry\", \"smile\", \"wisdom\"]}, {\"author\": \"//]]>\", \"quote\": \"\\\\u201cThe flower that blooms in adversity is the rarest and most beautiful of all.\\\\u201d\", \"tags\": [\"inspiration\", \"life\"]}, {\"author\": \"Stephen King\", \"quote\": \"\\\\u201cMonsters are real, and ghosts are real too. They live inside us, and sometimes, they win.\\\\u201d\", \"tags\": [\"life\"]}, {\"author\": \"S\\\\u00f8ren Kierkegaard\", \"quote\": \"\\\\u201cLife can only be understood backwards; but it must be lived forwards.\\\\u201d\", \"tags\": [\"future\", \"life\", \"past\", \"reflection\", \"understanding\"]}, {\"author\": \"Abigail Van Buren\", \"quote\": \"\\\\u201cThe best index to a person\\'s character is how he treats people who can\\'t do him any good, and how he treats people who can\\'t fight back.\\\\u201d\", \"tags\": [\"character\", \"life\", \"wisdom\"]}, {\"author\": \"Audrey Hepburn\", \"quote\": \"\\\\u201cThe most important thing is to enjoy your life\\\\u2014to be happy\\\\u2014it\\'s all that matters.\\\\u201d\", \"tags\": [\"happiness\", \"life\"]}, {\"author\": \"//]]>\", \"quote\": \"\\\\u201cPeople aren\\'t either wicked or noble. They\\'re like chef\\'s salads, with good things and bad things chopped and mixed together in a vinaigrette of confusion and conflict.\\\\u201d\", \"tags\": [\"life\"]}, {\"author\": \"Ralph Waldo Emerson\", \"quote\": \"\\\\u201cDo not go where the path may lead, go instead where there is no path and leave a trail.\\\\u201d\", \"tags\": [\"inspirational\", \"life\"]}, {\"author\": \"Alan Moore\", \"quote\": \"\\\\u201cMy experience of life is that it is not divided up into genres; it\\\\u2019s a horrifying, romantic, tragic, comical, science-fiction cowboy detective novel. You know, with a bit of pornography if you\\'re lucky.\\\\u201d\", \"tags\": [\"life\"]}, {\"author\": \"Woody Allen\", \"quote\": \"\\\\u201cI don\\'t know the question, but sex is definitely the answer.\\\\u201d\", \"tags\": [\"humor\", \"life\", \"sex\"]}, {\"author\": \"maya angelou\", \"quote\": \"\\\\u201cI love to see a young girl go out and grab the world by the lapels. Life\\'s a bitch. You\\'ve got to go out and kick ass.\\\\u201d\", \"tags\": [\"humor\", \"inspirational\", \"life\"]}, {\"author\": \"Arthur C. Clarke\", \"quote\": \"\\\\u201cTwo possibilities exist: either we are alone in the Universe or we are not. Both are equally terrifying.\\\\u201d\", \"tags\": [\"distance\", \"life\", \"loneliness\", \"qotd\", \"sense-of-wonder\", \"universe\"]}, {\"author\": \"//]]>\", \"quote\": \"\\\\u201cRemember: the time you feel lonely is the time you most need to be by yourself. Life\\'s cruelest irony.\\\\u201d\", \"tags\": [\"irony\", \"life\", \"loneliness\"]}, {\"author\": \"George Carlin\", \"quote\": \"\\\\u201cReligion has actually convinced people that there\\'s an invisible man living in the sky who watches everything you do, every minute of every day. And the invisible man has a special list of ten things he does not want you to do. And if you do any of these ten things, he has a special place, full of fire and smoke and burning and torture and anguish, where he will send you to live and suffer and burn and choke and scream and cry forever and ever \\'til the end of time!But He loves you. He loves you, and He needs money! He always needs money! He\\'s all-powerful, all-perfect, all-knowing, and all-wise, somehow just can\\'t handle money!\\\\u201d\", \"tags\": [\"atheism\", \"humor\", \"life\", \"religion\"]}, {\"author\": \"Albert Camus\", \"quote\": \"\\\\u201cNobody realizes that some people expend tremendous energy merely to be normal.\\\\u201d\", \"tags\": [\"humanity\", \"life\", \"mankind\", \"mortality\"]}, {\"author\": \"Jim Morrison\", \"quote\": \"\\\\u201cPeople are afraid of themselves, of their own reality; their feelings most of all. People talk about how great love is, but that\\\\u2019s bullshit. Love hurts. Feelings are disturbing. People are taught that pain is evil and dangerous. How can they deal with love if they\\\\u2019re afraid to feel? Pain is meant to wake us up. People try to hide their pain. But they\\\\u2019re wrong. Pain is something to carry, like a radio. You feel your strength in the experience of pain. It\\\\u2019s all in how you carry it. That\\\\u2019s what matters. Pain is a feeling. Your feelings are a part of you. Your own reality. If you feel ashamed of them, and hide them, you\\\\u2019re letting society destroy your reality. You should stand up for your right to feel your pain.\\\\u201d\", \"tags\": [\"jim\", \"life\", \"morrison\", \"pain\", \"reality\"]}, {\"author\": \"//]]>\", \"quote\": \"\\\\u201cLife is pain, highness. Anyone who says differently is selling something.\\\\u201d\", \"tags\": [\"life\", \"pain\"]}, {\"author\": \"//]]>\", \"quote\": \"\\\\u201cIt is said that your life flashes before your eyes just before you die. That is true, it\\'s called Life.\\\\u201d\", \"tags\": [\"death\", \"humor\", \"life\"]}, {\"author\": \"//]]>\", \"quote\": \"\\\\u201cIt may be unfair, but what happens in a few days, sometimes even a single day, can change the course of a whole lifetime...\\\\u201d\", \"tags\": [\"fair\", \"life\"]}, {\"author\": \"//]]>\", \"quote\": \"\\\\u201cIt isn\\'t what you have or who you are or where you are or what you are doing that makes you happy or unhappy. It is what you think about it.\\\\u201d\", \"tags\": [\"attitude\", \"contentment\", \"happiness\", \"inspirational\", \"life\"]}]'"
      ]
     },
     "execution_count": 33,
     "metadata": {},
     "output_type": "execute_result"
    }
   ],
   "source": [
    "f = open(\"quotes.json\", \"r\", encoding=\"utf16\")\n",
    "\n",
    "f.read()"
   ]
  },
  {
   "cell_type": "code",
   "execution_count": 31,
   "metadata": {},
   "outputs": [
    {
     "data": {
      "text/plain": [
       "'“'"
      ]
     },
     "execution_count": 31,
     "metadata": {},
     "output_type": "execute_result"
    }
   ],
   "source": [
    "\"\\u201c\""
   ]
  },
  {
   "cell_type": "code",
   "execution_count": null,
   "metadata": {},
   "outputs": [],
   "source": []
  }
 ],
 "metadata": {
  "kernelspec": {
   "display_name": "Python 3",
   "language": "python",
   "name": "python3"
  },
  "language_info": {
   "codemirror_mode": {
    "name": "ipython",
    "version": 3
   },
   "file_extension": ".py",
   "mimetype": "text/x-python",
   "name": "python",
   "nbconvert_exporter": "python",
   "pygments_lexer": "ipython3",
   "version": "3.7.2"
  }
 },
 "nbformat": 4,
 "nbformat_minor": 2
}

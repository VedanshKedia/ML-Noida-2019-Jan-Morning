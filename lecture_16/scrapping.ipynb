{
 "cells": [
  {
   "cell_type": "code",
   "execution_count": 34,
   "metadata": {},
   "outputs": [],
   "source": [
    "import requests\n",
    "\n",
    "from bs4 import BeautifulSoup"
   ]
  },
  {
   "cell_type": "code",
   "execution_count": 35,
   "metadata": {},
   "outputs": [],
   "source": [
    "url = \"https://www.goodreads.com/quotes\""
   ]
  },
  {
   "cell_type": "code",
   "execution_count": 36,
   "metadata": {},
   "outputs": [],
   "source": [
    "data = requests.get(url)"
   ]
  },
  {
   "cell_type": "code",
   "execution_count": 37,
   "metadata": {},
   "outputs": [],
   "source": [
    "f = open(\"index.html\", \"w\", encoding=\"utf16\")\n",
    "\n",
    "f.write(data.text)\n",
    "\n",
    "f.close()"
   ]
  },
  {
   "cell_type": "code",
   "execution_count": null,
   "metadata": {},
   "outputs": [],
   "source": []
  },
  {
   "cell_type": "code",
   "execution_count": 38,
   "metadata": {},
   "outputs": [],
   "source": [
    "soup = BeautifulSoup(data.text)"
   ]
  },
  {
   "cell_type": "code",
   "execution_count": 39,
   "metadata": {},
   "outputs": [
    {
     "data": {
      "text/plain": [
       "bs4.BeautifulSoup"
      ]
     },
     "execution_count": 39,
     "metadata": {},
     "output_type": "execute_result"
    }
   ],
   "source": [
    "type(soup)"
   ]
  },
  {
   "cell_type": "code",
   "execution_count": 40,
   "metadata": {},
   "outputs": [
    {
     "data": {
      "text/plain": [
       "<title>Popular Quotes</title>"
      ]
     },
     "execution_count": 40,
     "metadata": {},
     "output_type": "execute_result"
    }
   ],
   "source": [
    "soup.html.head.title"
   ]
  },
  {
   "cell_type": "code",
   "execution_count": 41,
   "metadata": {},
   "outputs": [],
   "source": [
    "quote = soup.find_all(\"div\", attrs={\"class\" : \"quote\"})[0]"
   ]
  },
  {
   "cell_type": "code",
   "execution_count": 42,
   "metadata": {},
   "outputs": [],
   "source": [
    "# quoteText = quote.select_one(\"div.quoteText\")"
   ]
  },
  {
   "cell_type": "code",
   "execution_count": 43,
   "metadata": {},
   "outputs": [],
   "source": [
    "# text = quoteText.text.split(\"\\n\")"
   ]
  },
  {
   "cell_type": "code",
   "execution_count": 44,
   "metadata": {},
   "outputs": [],
   "source": [
    "# print(text[-3].strip())"
   ]
  },
  {
   "cell_type": "code",
   "execution_count": 45,
   "metadata": {},
   "outputs": [],
   "source": [
    "# footer = quote.select_one(\"div.quoteFooter\")"
   ]
  },
  {
   "cell_type": "code",
   "execution_count": 46,
   "metadata": {},
   "outputs": [],
   "source": [
    "# tags = footer.select_one(\"div.greyText\")"
   ]
  },
  {
   "cell_type": "code",
   "execution_count": 47,
   "metadata": {},
   "outputs": [],
   "source": [
    "# for tag in tags.find_all(\"a\"):\n",
    "#     print(tag.text)"
   ]
  },
  {
   "cell_type": "code",
   "execution_count": 48,
   "metadata": {},
   "outputs": [],
   "source": [
    "def gen_data(quote):\n",
    "    quoteText = quote.select_one(\"div.quoteText\")\n",
    "    text = quoteText.text.split(\"\\n\")\n",
    "    author = text[-3].strip()\n",
    "    quote_text = text[1].strip()\n",
    "    \n",
    "    footer = quote.select_one(\"div.quoteFooter\")\n",
    "    tags_list = footer.select_one(\"div.greyText\")\n",
    "    tags = []\n",
    "    if tags_list:\n",
    "        for tag in tags_list.find_all(\"a\"):\n",
    "            tags.append(tag.text)\n",
    "    \n",
    "    deatails = {}\n",
    "    deatails[\"author\"] = author\n",
    "    deatails[\"quote\"] = quote_text\n",
    "    deatails[\"tags\"] = tags\n",
    "    \n",
    "    return deatails"
   ]
  },
  {
   "cell_type": "code",
   "execution_count": 49,
   "metadata": {},
   "outputs": [],
   "source": [
    "def grab(url):\n",
    "    data = requests.get(url).text\n",
    "    soup = BeautifulSoup(data)\n",
    "    quotes_data = soup.find_all(\"div\", attrs={\"class\" : \"quote\"})\n",
    "    quotes = []\n",
    "    \n",
    "    for q in quotes_data:\n",
    "        quotes.append(gen_data(q))\n",
    "    \n",
    "    return quotes\n",
    "# gen_data(quote)"
   ]
  },
  {
   "cell_type": "code",
   "execution_count": 50,
   "metadata": {},
   "outputs": [
    {
     "name": "stdout",
     "output_type": "stream",
     "text": [
      "scrapping page 1\n",
      "scrapping page 2\n",
      "scrapping page 3\n",
      "90\n"
     ]
    }
   ],
   "source": [
    "base = \"https://www.goodreads.com/quotes/tag/life?page=\"\n",
    "\n",
    "all_quotes = []\n",
    "\n",
    "for i in range(1, 4):\n",
    "    all_quotes += grab(base+str(i))\n",
    "    print(\"scrapping page \" + str(i))\n",
    "    \n",
    "print(len(all_quotes))"
   ]
  },
  {
   "cell_type": "code",
   "execution_count": 53,
   "metadata": {},
   "outputs": [
    {
     "data": {
      "text/plain": [
       "{'author': 'Dr. Seuss',\n",
       " 'quote': \"“Don't cry because it's over, smile because it happened.”\",\n",
       " 'tags': ['attributed-no-source',\n",
       "  'cry',\n",
       "  'crying',\n",
       "  'experience',\n",
       "  'happiness',\n",
       "  'joy',\n",
       "  'life',\n",
       "  'misattributed-dr-seuss',\n",
       "  'optimism',\n",
       "  'sadness',\n",
       "  'smile',\n",
       "  'smiling']}"
      ]
     },
     "execution_count": 53,
     "metadata": {},
     "output_type": "execute_result"
    }
   ],
   "source": [
    "all_quotes[0]"
   ]
  },
  {
   "cell_type": "code",
   "execution_count": 51,
   "metadata": {},
   "outputs": [],
   "source": [
    "import json"
   ]
  },
  {
   "cell_type": "code",
   "execution_count": 52,
   "metadata": {},
   "outputs": [],
   "source": [
    "json.dump(all_quotes, open(\"quotes.json\", \"w\", encoding=\"utf16\"))"
   ]
  },
  {
   "cell_type": "code",
   "execution_count": null,
   "metadata": {},
   "outputs": [],
   "source": [
    "\n"
   ]
  },
  {
   "cell_type": "code",
   "execution_count": 58,
   "metadata": {},
   "outputs": [],
   "source": [
    "back = json.load(open(\"quotes.json\", \"r\", encoding=\"utf16\"))"
   ]
  },
  {
   "cell_type": "code",
   "execution_count": 59,
   "metadata": {},
   "outputs": [
    {
     "data": {
      "text/plain": [
       "{'author': 'Marilyn Monroe',\n",
       " 'quote': \"“I'm selfish, impatient and a little insecure. I make mistakes, I am out of control and at times hard to handle. But if you can't handle me at my worst, then you sure as hell don't deserve me at my best.”\",\n",
       " 'tags': ['attributed-no-source',\n",
       "  'best',\n",
       "  'life',\n",
       "  'love',\n",
       "  'mistakes',\n",
       "  'out-of-control',\n",
       "  'truth',\n",
       "  'worst']}"
      ]
     },
     "execution_count": 59,
     "metadata": {},
     "output_type": "execute_result"
    }
   ],
   "source": [
    "back[1]"
   ]
  },
  {
   "cell_type": "code",
   "execution_count": 31,
   "metadata": {},
   "outputs": [
    {
     "data": {
      "text/plain": [
       "'“'"
      ]
     },
     "execution_count": 31,
     "metadata": {},
     "output_type": "execute_result"
    }
   ],
   "source": []
  },
  {
   "cell_type": "code",
   "execution_count": null,
   "metadata": {},
   "outputs": [],
   "source": []
  }
 ],
 "metadata": {
  "kernelspec": {
   "display_name": "Python 3",
   "language": "python",
   "name": "python3"
  },
  "language_info": {
   "codemirror_mode": {
    "name": "ipython",
    "version": 3
   },
   "file_extension": ".py",
   "mimetype": "text/x-python",
   "name": "python",
   "nbconvert_exporter": "python",
   "pygments_lexer": "ipython3",
   "version": "3.7.2"
  }
 },
 "nbformat": 4,
 "nbformat_minor": 2
}

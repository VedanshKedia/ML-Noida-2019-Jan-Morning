{
 "cells": [
  {
   "cell_type": "code",
   "execution_count": 1,
   "metadata": {},
   "outputs": [],
   "source": [
    "import tweepy"
   ]
  },
  {
   "cell_type": "code",
   "execution_count": 2,
   "metadata": {},
   "outputs": [],
   "source": [
    "class MyStreamListener(tweepy.StreamListener):\n",
    "\n",
    "    def on_status(self, status):\n",
    "        print(status.text)\n",
    "        \n",
    "    def on_error(self, status_code):\n",
    "        if status_code == 420:\n",
    "            #returning False in on_data disconnects the stream\n",
    "            return False"
   ]
  },
  {
   "cell_type": "code",
   "execution_count": 3,
   "metadata": {},
   "outputs": [],
   "source": [
    "consumer_key = \"uXHlYpdz6zReIn7chUfiPXd4S\"\n",
    "consumer_sec = \"P1wbm8tkPj8EK7XLwEmROaVKhvVe4BQQayGdAQYChjMvY1lxar\"\n",
    "\n",
    "auth = tweepy.OAuthHandler(consumer_key, consumer_sec)"
   ]
  },
  {
   "cell_type": "code",
   "execution_count": 4,
   "metadata": {},
   "outputs": [],
   "source": [
    "access_key = \"571963749-aInHa0J6CviWKuEVZHsprZiISTXL3lilRiYptCpw\"\n",
    "access_sec = \"EdAnPMxDUdy3UiN48MGuTPWCTQGdUEH2Vg2mwL7IUIT9X\"\n",
    "\n",
    "auth.set_access_token(access_key, access_sec)"
   ]
  },
  {
   "cell_type": "code",
   "execution_count": 5,
   "metadata": {},
   "outputs": [],
   "source": [
    "myStreamListener = MyStreamListener()\n",
    "myStream = tweepy.Stream(auth = auth, listener=myStreamListener)"
   ]
  },
  {
   "cell_type": "code",
   "execution_count": null,
   "metadata": {},
   "outputs": [
    {
     "name": "stdout",
     "output_type": "stream",
     "text": [
      "codingblocks\n",
      "hi codingblocks\n",
      "bye codingblocks\n",
      "What are we actually planning to do??\n",
      "codingblocks\n",
      "so much to learn #codingblocks\n"
     ]
    }
   ],
   "source": [
    "myStream.filter(track=['codingblocks'])"
   ]
  },
  {
   "cell_type": "code",
   "execution_count": null,
   "metadata": {},
   "outputs": [],
   "source": []
  }
 ],
 "metadata": {
  "kernelspec": {
   "display_name": "Python 3",
   "language": "python",
   "name": "python3"
  },
  "language_info": {
   "codemirror_mode": {
    "name": "ipython",
    "version": 3
   },
   "file_extension": ".py",
   "mimetype": "text/x-python",
   "name": "python",
   "nbconvert_exporter": "python",
   "pygments_lexer": "ipython3",
   "version": "3.7.2"
  }
 },
 "nbformat": 4,
 "nbformat_minor": 2
}

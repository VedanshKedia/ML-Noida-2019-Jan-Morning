{
 "cells": [
  {
   "cell_type": "code",
   "execution_count": 1,
   "metadata": {},
   "outputs": [],
   "source": [
    "import numpy as np\n",
    "import matplotlib.pyplot as plt\n",
    "from sklearn.preprocessing import scale\n",
    "from sklearn.preprocessing import StandardScaler\n",
    "import pandas as pd"
   ]
  },
  {
   "cell_type": "code",
   "execution_count": 2,
   "metadata": {},
   "outputs": [],
   "source": [
    "mnist = pd.read_csv(\"../dataset/mnist_train_small.csv\").values"
   ]
  },
  {
   "cell_type": "code",
   "execution_count": 3,
   "metadata": {},
   "outputs": [],
   "source": [
    "X, Y = mnist[:, 2:], mnist[:, 1]"
   ]
  },
  {
   "cell_type": "code",
   "execution_count": 4,
   "metadata": {},
   "outputs": [
    {
     "data": {
      "text/plain": [
       "(8000, 784)"
      ]
     },
     "execution_count": 4,
     "metadata": {},
     "output_type": "execute_result"
    }
   ],
   "source": [
    "X.shape"
   ]
  },
  {
   "cell_type": "code",
   "execution_count": 5,
   "metadata": {},
   "outputs": [
    {
     "data": {
      "text/plain": [
       "(784,)"
      ]
     },
     "execution_count": 5,
     "metadata": {},
     "output_type": "execute_result"
    }
   ],
   "source": [
    "np.mean(X, axis=0).shape"
   ]
  },
  {
   "cell_type": "code",
   "execution_count": 6,
   "metadata": {},
   "outputs": [
    {
     "data": {
      "text/plain": [
       "(784,)"
      ]
     },
     "execution_count": 6,
     "metadata": {},
     "output_type": "execute_result"
    }
   ],
   "source": [
    "np.std(X, axis=0).shape"
   ]
  },
  {
   "cell_type": "code",
   "execution_count": 7,
   "metadata": {},
   "outputs": [
    {
     "data": {
      "text/plain": [
       "function"
      ]
     },
     "execution_count": 7,
     "metadata": {},
     "output_type": "execute_result"
    }
   ],
   "source": [
    "type(scale)"
   ]
  },
  {
   "cell_type": "code",
   "execution_count": 8,
   "metadata": {},
   "outputs": [],
   "source": [
    "X = X.astype(float)"
   ]
  },
  {
   "cell_type": "code",
   "execution_count": 9,
   "metadata": {},
   "outputs": [
    {
     "data": {
      "text/plain": [
       "dtype('float64')"
      ]
     },
     "execution_count": 9,
     "metadata": {},
     "output_type": "execute_result"
    }
   ],
   "source": [
    "X.dtype"
   ]
  },
  {
   "cell_type": "code",
   "execution_count": 10,
   "metadata": {},
   "outputs": [],
   "source": [
    "sc = StandardScaler()"
   ]
  },
  {
   "cell_type": "code",
   "execution_count": 11,
   "metadata": {},
   "outputs": [],
   "source": [
    "X_proc = sc.fit_transform(X)"
   ]
  },
  {
   "cell_type": "code",
   "execution_count": 12,
   "metadata": {},
   "outputs": [],
   "source": [
    "cov = np.cov(X_proc, rowvar=False)"
   ]
  },
  {
   "cell_type": "code",
   "execution_count": null,
   "metadata": {},
   "outputs": [],
   "source": []
  },
  {
   "cell_type": "code",
   "execution_count": 13,
   "metadata": {},
   "outputs": [
    {
     "data": {
      "text/plain": [
       "(784, 784)"
      ]
     },
     "execution_count": 13,
     "metadata": {},
     "output_type": "execute_result"
    }
   ],
   "source": [
    "cov.shape"
   ]
  },
  {
   "cell_type": "code",
   "execution_count": 14,
   "metadata": {},
   "outputs": [],
   "source": [
    "eig = np.linalg.eig(cov)"
   ]
  },
  {
   "cell_type": "code",
   "execution_count": 15,
   "metadata": {},
   "outputs": [
    {
     "data": {
      "text/plain": [
       "tuple"
      ]
     },
     "execution_count": 15,
     "metadata": {},
     "output_type": "execute_result"
    }
   ],
   "source": [
    "type(eig)"
   ]
  },
  {
   "cell_type": "code",
   "execution_count": 16,
   "metadata": {},
   "outputs": [],
   "source": [
    "values, vectors = eig"
   ]
  },
  {
   "cell_type": "code",
   "execution_count": 17,
   "metadata": {},
   "outputs": [
    {
     "data": {
      "text/plain": [
       "(784, 784)"
      ]
     },
     "execution_count": 17,
     "metadata": {},
     "output_type": "execute_result"
    }
   ],
   "source": [
    "vectors.shape"
   ]
  },
  {
   "cell_type": "code",
   "execution_count": 18,
   "metadata": {},
   "outputs": [
    {
     "name": "stderr",
     "output_type": "stream",
     "text": [
      "/usr/local/lib/python3.7/site-packages/numpy/core/numeric.py:538: ComplexWarning: Casting complex values to real discards the imaginary part\n",
      "  return array(a, dtype, copy=False, order=order)\n"
     ]
    },
    {
     "data": {
      "text/plain": [
       "[<matplotlib.lines.Line2D at 0x1107c1160>]"
      ]
     },
     "execution_count": 18,
     "metadata": {},
     "output_type": "execute_result"
    },
    {
     "data": {
      "image/png": "[encoded data removed]",
      "text/plain": [
       "<Figure size 432x288 with 1 Axes>"
      ]
     },
     "metadata": {
      "needs_background": "light"
     },
     "output_type": "display_data"
    }
   ],
   "source": [
    "plt.plot(values)"
   ]
  },
  {
   "cell_type": "code",
   "execution_count": 19,
   "metadata": {},
   "outputs": [],
   "source": [
    "data = []\n",
    "\n",
    "for val, vec in zip(values, vectors):\n",
    "    data.append((val, vec))\n",
    "\n",
    "data_sorted = sorted(data, key=lambda x : x[0])"
   ]
  },
  {
   "cell_type": "code",
   "execution_count": 20,
   "metadata": {},
   "outputs": [
    {
     "data": {
      "text/plain": [
       "(0j, array([-3.35734710e-03+0.00000000e+00j, -1.23480331e-02+0.00000000e+00j,\n",
       "        -1.04590906e-02+0.00000000e+00j, -3.43938430e-03+0.00000000e+00j,\n",
       "        -8.86019247e-03+0.00000000e+00j, -2.31329971e-02+0.00000000e+00j,\n",
       "        -3.97318629e-03+0.00000000e+00j,  6.51352433e-03+0.00000000e+00j,\n",
       "         2.27732008e-02+0.00000000e+00j,  8.60159122e-03+0.00000000e+00j,\n",
       "        -1.41691454e-02+0.00000000e+00j, -3.71261435e-02+0.00000000e+00j,\n",
       "         2.09079824e-03+0.00000000e+00j,  2.13809244e-02+0.00000000e+00j,\n",
       "         3.80454579e-02+0.00000000e+00j, -2.51947778e-02+0.00000000e+00j,\n",
       "         2.66787854e-02+0.00000000e+00j, -2.32179640e-03+0.00000000e+00j,\n",
       "         2.25606487e-02+0.00000000e+00j, -5.10242183e-02+0.00000000e+00j,\n",
       "        -3.74965684e-02+0.00000000e+00j, -3.27664196e-02+0.00000000e+00j,\n",
       "         2.49459825e-02+0.00000000e+00j,  1.42097033e-02+0.00000000e+00j,\n",
       "         5.20383751e-03+0.00000000e+00j,  6.83997131e-02+0.00000000e+00j,\n",
       "        -7.65013810e-02+0.00000000e+00j, -6.63455479e-03+0.00000000e+00j,\n",
       "        -4.71484391e-02+0.00000000e+00j, -6.71992870e-03+0.00000000e+00j,\n",
       "         1.15347318e-01+0.00000000e+00j,  7.22756091e-02+0.00000000e+00j,\n",
       "        -7.00878064e-02+0.00000000e+00j, -4.66183101e-03+0.00000000e+00j,\n",
       "        -4.23437692e-04+0.00000000e+00j,  9.57190029e-02+0.00000000e+00j,\n",
       "        -3.56015782e-02+0.00000000e+00j, -2.17884382e-02+0.00000000e+00j,\n",
       "         1.23007616e-01+0.00000000e+00j, -9.82016081e-02+0.00000000e+00j,\n",
       "         5.10702543e-02+0.00000000e+00j, -5.74481936e-02+0.00000000e+00j,\n",
       "         7.42776977e-03+0.00000000e+00j, -5.50703523e-02+0.00000000e+00j,\n",
       "         1.31458826e-01+0.00000000e+00j,  1.28490692e-02+0.00000000e+00j,\n",
       "         1.17304411e-02+0.00000000e+00j, -1.36109408e-02+0.00000000e+00j,\n",
       "        -7.82542573e-03+0.00000000e+00j,  2.61987228e-02+0.00000000e+00j,\n",
       "         4.25419083e-02+0.00000000e+00j,  5.71412639e-02+0.00000000e+00j,\n",
       "         1.99770858e-02+0.00000000e+00j, -7.45871525e-02+0.00000000e+00j,\n",
       "        -1.42576646e-03+0.00000000e+00j, -1.35056804e-01+0.00000000e+00j,\n",
       "        -3.33540121e-02+0.00000000e+00j, -7.98874921e-02+0.00000000e+00j,\n",
       "        -3.45419682e-02+0.00000000e+00j, -2.36006784e-02+0.00000000e+00j,\n",
       "        -4.27922643e-02+0.00000000e+00j, -1.15412432e-02+0.00000000e+00j,\n",
       "        -1.78954447e-02+0.00000000e+00j, -7.51283432e-02+0.00000000e+00j,\n",
       "         1.19728734e-02+0.00000000e+00j,  1.08583405e-01+0.00000000e+00j,\n",
       "         1.48438389e-02+0.00000000e+00j,  2.57377918e-02+0.00000000e+00j,\n",
       "         1.90867548e-02+0.00000000e+00j, -3.88254008e-02+0.00000000e+00j,\n",
       "         3.05442500e-02+0.00000000e+00j, -8.91614208e-02+0.00000000e+00j,\n",
       "        -5.94612808e-02+0.00000000e+00j, -5.54986798e-02+0.00000000e+00j,\n",
       "         4.54811651e-02+0.00000000e+00j, -1.06574485e-01+0.00000000e+00j,\n",
       "        -1.56915848e-02+0.00000000e+00j,  9.43847900e-02+0.00000000e+00j,\n",
       "         9.48576700e-02+0.00000000e+00j,  1.59462756e-02+0.00000000e+00j,\n",
       "         5.25558546e-02+0.00000000e+00j, -2.25869811e-05+0.00000000e+00j,\n",
       "        -1.26014867e-02+0.00000000e+00j, -7.47241826e-02+0.00000000e+00j,\n",
       "         4.83595919e-02+0.00000000e+00j, -1.43501988e-02+0.00000000e+00j,\n",
       "        -2.79618118e-02+0.00000000e+00j, -3.17758770e-02+0.00000000e+00j,\n",
       "        -2.89246182e-02+0.00000000e+00j, -1.62591458e-02+0.00000000e+00j,\n",
       "        -5.05461515e-02+0.00000000e+00j, -1.09661293e-02+0.00000000e+00j,\n",
       "        -2.42546426e-02+0.00000000e+00j,  6.75285134e-02+0.00000000e+00j,\n",
       "        -2.02953331e-02+0.00000000e+00j, -6.61613521e-04+0.00000000e+00j,\n",
       "         5.40641080e-03+0.00000000e+00j, -5.88445740e-02+0.00000000e+00j,\n",
       "         3.55719265e-02+0.00000000e+00j, -2.00869992e-02+0.00000000e+00j,\n",
       "         1.30054813e-02+0.00000000e+00j, -2.00747532e-02+0.00000000e+00j,\n",
       "        -1.62542118e-02+0.00000000e+00j, -3.34273803e-02+0.00000000e+00j,\n",
       "         2.67454379e-02+0.00000000e+00j, -3.98897426e-02+0.00000000e+00j,\n",
       "        -2.17574497e-02+0.00000000e+00j, -3.55179602e-02+0.00000000e+00j,\n",
       "        -2.45287123e-03+0.00000000e+00j,  2.13163064e-02+0.00000000e+00j,\n",
       "         2.35630510e-03+0.00000000e+00j,  3.85974879e-02+0.00000000e+00j,\n",
       "        -2.60258690e-03+0.00000000e+00j,  2.55142076e-02+0.00000000e+00j,\n",
       "         8.91814776e-03+0.00000000e+00j, -1.40024815e-02+0.00000000e+00j,\n",
       "         4.24289453e-02+0.00000000e+00j,  2.72925688e-03+0.00000000e+00j,\n",
       "        -1.56103213e-02+0.00000000e+00j,  2.14900916e-02+0.00000000e+00j,\n",
       "         2.88237231e-04+0.00000000e+00j,  6.21209372e-03+0.00000000e+00j,\n",
       "         2.06817061e-02+0.00000000e+00j, -1.45312847e-02+0.00000000e+00j,\n",
       "         1.35452955e-02+0.00000000e+00j, -3.19694556e-02+0.00000000e+00j,\n",
       "        -9.11499872e-03+0.00000000e+00j, -6.73499091e-04+0.00000000e+00j,\n",
       "         6.04009876e-04+0.00000000e+00j, -1.74462695e-02+0.00000000e+00j,\n",
       "        -1.41020740e-02+0.00000000e+00j, -1.16203460e-02+0.00000000e+00j,\n",
       "         2.20827716e-02+0.00000000e+00j,  8.00354908e-03+0.00000000e+00j,\n",
       "         1.69195850e-03+0.00000000e+00j,  1.33721083e-02+0.00000000e+00j,\n",
       "        -2.74821835e-02+0.00000000e+00j,  9.34116169e-03+0.00000000e+00j,\n",
       "         3.67100837e-03+0.00000000e+00j, -1.26397813e-02+0.00000000e+00j,\n",
       "        -3.08642858e-03+0.00000000e+00j, -1.91789884e-02+0.00000000e+00j,\n",
       "         4.75647805e-02+0.00000000e+00j,  1.20590190e-02+0.00000000e+00j,\n",
       "         1.36842767e-02+0.00000000e+00j, -8.81914433e-03+0.00000000e+00j,\n",
       "         1.03254822e-02+0.00000000e+00j,  2.98058051e-03+0.00000000e+00j,\n",
       "        -8.62269195e-02+0.00000000e+00j,  1.17459782e-02+0.00000000e+00j,\n",
       "         7.10042170e-03+0.00000000e+00j,  4.79437981e-03+0.00000000e+00j,\n",
       "         1.50840654e-02+0.00000000e+00j,  1.57332155e-02+0.00000000e+00j,\n",
       "         6.75418816e-02+0.00000000e+00j, -9.53424302e-02+0.00000000e+00j,\n",
       "         8.79992689e-03+0.00000000e+00j, -2.65254283e-02+0.00000000e+00j,\n",
       "         1.46877524e-02+0.00000000e+00j, -5.64414485e-03+0.00000000e+00j,\n",
       "        -1.81070760e-02+0.00000000e+00j,  4.55938879e-02+0.00000000e+00j,\n",
       "        -3.40255378e-02+0.00000000e+00j,  4.49646836e-02+0.00000000e+00j,\n",
       "        -1.57083015e-02+0.00000000e+00j, -1.52687482e-02+0.00000000e+00j,\n",
       "        -1.73936096e-03+0.00000000e+00j,  5.59257061e-03+0.00000000e+00j,\n",
       "        -1.10880836e-04+0.00000000e+00j,  2.22277218e-02+0.00000000e+00j,\n",
       "        -2.77661805e-02+0.00000000e+00j,  8.35237030e-03+0.00000000e+00j,\n",
       "        -1.39141634e-02+0.00000000e+00j, -6.65414286e-02+0.00000000e+00j,\n",
       "         2.43038924e-03+0.00000000e+00j, -1.15453992e-02+0.00000000e+00j,\n",
       "         3.32155895e-02+0.00000000e+00j, -2.00581786e-02+0.00000000e+00j,\n",
       "         2.69745885e-05+0.00000000e+00j,  4.97432900e-02+0.00000000e+00j,\n",
       "        -2.28045979e-02+0.00000000e+00j,  1.04053558e-02+0.00000000e+00j,\n",
       "        -2.19966951e-02+0.00000000e+00j, -5.70134433e-03+0.00000000e+00j,\n",
       "         1.19946818e-02+0.00000000e+00j, -5.99942002e-04+0.00000000e+00j,\n",
       "         3.93167813e-02+0.00000000e+00j, -4.55961945e-02+0.00000000e+00j,\n",
       "         7.13194476e-03+0.00000000e+00j, -7.94255650e-03+0.00000000e+00j,\n",
       "        -2.31655765e-02+0.00000000e+00j,  5.22502636e-03+0.00000000e+00j,\n",
       "        -1.42326296e-02+0.00000000e+00j, -3.01314103e-02+0.00000000e+00j,\n",
       "         2.92058939e-02+0.00000000e+00j, -1.39729824e-02+0.00000000e+00j,\n",
       "        -1.13003231e-02+0.00000000e+00j, -2.76782753e-02+0.00000000e+00j,\n",
       "         5.41737249e-03+0.00000000e+00j, -2.22564506e-02+0.00000000e+00j,\n",
       "        -2.84072380e-02+0.00000000e+00j,  2.30933147e-02+0.00000000e+00j,\n",
       "        -3.18225605e-02+0.00000000e+00j,  5.92949379e-02+0.00000000e+00j,\n",
       "        -2.45337817e-02+0.00000000e+00j, -4.49249849e-03+0.00000000e+00j,\n",
       "         2.27074004e-03+0.00000000e+00j, -1.79843850e-02+0.00000000e+00j,\n",
       "         3.76035783e-02+0.00000000e+00j, -2.43897426e-02+0.00000000e+00j,\n",
       "        -4.79851049e-03+0.00000000e+00j, -1.08929550e-02+0.00000000e+00j,\n",
       "         2.28083882e-02+0.00000000e+00j, -5.66415410e-02+0.00000000e+00j,\n",
       "         3.84989759e-02+0.00000000e+00j, -2.05597476e-02+0.00000000e+00j,\n",
       "         6.13622225e-02+0.00000000e+00j, -6.75708267e-04+0.00000000e+00j,\n",
       "        -4.71878537e-04+0.00000000e+00j,  4.06893571e-02+0.00000000e+00j,\n",
       "         1.32545383e-02+0.00000000e+00j,  3.51574255e-02+0.00000000e+00j,\n",
       "         7.18584839e-02+0.00000000e+00j,  2.80810882e-02+0.00000000e+00j,\n",
       "         1.62003052e-02+0.00000000e+00j,  1.23834076e-02+0.00000000e+00j,\n",
       "        -4.69043426e-02+0.00000000e+00j, -6.09062733e-02+0.00000000e+00j,\n",
       "         4.37146445e-03+0.00000000e+00j, -1.05993874e-02+0.00000000e+00j,\n",
       "        -3.70998013e-02+0.00000000e+00j,  8.16909422e-02+0.00000000e+00j,\n",
       "         3.87305181e-03+0.00000000e+00j,  9.92913808e-03+0.00000000e+00j,\n",
       "        -1.29689621e-02+0.00000000e+00j,  4.17709785e-02+0.00000000e+00j,\n",
       "        -5.77768203e-02+0.00000000e+00j, -5.25046697e-02+0.00000000e+00j,\n",
       "         3.18691752e-02+0.00000000e+00j, -2.02097476e-02+0.00000000e+00j,\n",
       "         9.60241898e-02+0.00000000e+00j, -9.50036517e-03+0.00000000e+00j,\n",
       "        -9.40948394e-03+0.00000000e+00j,  6.18300711e-02+0.00000000e+00j,\n",
       "         5.31616856e-02+0.00000000e+00j, -4.64679198e-02+0.00000000e+00j,\n",
       "        -3.15427699e-02+0.00000000e+00j,  5.27337995e-02+0.00000000e+00j,\n",
       "         4.92416155e-02+0.00000000e+00j, -1.26276549e-01+0.00000000e+00j,\n",
       "         2.24401111e-02+0.00000000e+00j,  7.50646438e-02+0.00000000e+00j,\n",
       "         1.86724240e-02+0.00000000e+00j,  8.01192622e-03+0.00000000e+00j,\n",
       "         2.94949256e-02+0.00000000e+00j,  2.95533222e-02+0.00000000e+00j,\n",
       "        -1.86481965e-02+0.00000000e+00j, -1.60015540e-02+0.00000000e+00j,\n",
       "        -3.69508919e-02+0.00000000e+00j,  2.11351085e-03+0.00000000e+00j,\n",
       "         1.86073168e-02+0.00000000e+00j, -6.39135146e-02+0.00000000e+00j,\n",
       "        -5.06049133e-02+0.00000000e+00j, -4.68181796e-04+0.00000000e+00j,\n",
       "        -3.89338816e-02+0.00000000e+00j, -7.08014542e-03+0.00000000e+00j,\n",
       "         2.52718054e-03+0.00000000e+00j,  1.25067044e-01+0.00000000e+00j,\n",
       "         6.29059383e-03+0.00000000e+00j,  5.50156505e-03+0.00000000e+00j,\n",
       "        -9.85587373e-02+0.00000000e+00j,  5.77502613e-03+0.00000000e+00j,\n",
       "        -1.47978493e-01+0.00000000e+00j, -1.42036050e-02+0.00000000e+00j,\n",
       "         1.95600017e-02+0.00000000e+00j,  1.03086713e-01+0.00000000e+00j,\n",
       "        -2.48050847e-02+0.00000000e+00j, -4.43495040e-02+0.00000000e+00j,\n",
       "        -7.17211001e-03+0.00000000e+00j,  2.36767227e-02+0.00000000e+00j,\n",
       "         1.26726694e-01+0.00000000e+00j, -8.83311515e-02+0.00000000e+00j,\n",
       "         1.09079415e-01+0.00000000e+00j, -7.32764073e-03+0.00000000e+00j,\n",
       "        -1.01474865e-01+0.00000000e+00j,  3.38904611e-02+0.00000000e+00j,\n",
       "        -2.27116690e-02+0.00000000e+00j,  3.40560075e-02+0.00000000e+00j,\n",
       "        -6.79341370e-02+0.00000000e+00j,  1.81934063e-03+0.00000000e+00j,\n",
       "        -7.05192606e-02+0.00000000e+00j, -5.80499808e-02+0.00000000e+00j,\n",
       "        -1.20748728e-02+0.00000000e+00j, -3.19277213e-02+0.00000000e+00j,\n",
       "         7.47978320e-02+0.00000000e+00j,  7.16825462e-03+0.00000000e+00j,\n",
       "         1.76190355e-02+0.00000000e+00j,  7.47567863e-02+0.00000000e+00j,\n",
       "         7.16203649e-03+0.00000000e+00j,  5.02154804e-03+0.00000000e+00j,\n",
       "         6.21448969e-02+0.00000000e+00j,  3.24583131e-02+0.00000000e+00j,\n",
       "        -7.11465912e-02+0.00000000e+00j,  8.74138319e-02+0.00000000e+00j,\n",
       "         9.02363892e-02+0.00000000e+00j, -6.82325440e-02+0.00000000e+00j,\n",
       "         3.48089845e-02+0.00000000e+00j, -1.11873695e-01+0.00000000e+00j,\n",
       "        -2.08652055e-01+0.00000000e+00j,  1.44342901e-01+0.00000000e+00j,\n",
       "         1.17389432e-01+0.00000000e+00j,  5.28294869e-02+0.00000000e+00j,\n",
       "        -4.11299064e-02+0.00000000e+00j,  1.58435676e-03+0.00000000e+00j,\n",
       "         4.78850018e-03+0.00000000e+00j, -8.84710669e-03+0.00000000e+00j,\n",
       "        -2.50562340e-02+0.00000000e+00j, -1.50563728e-02+0.00000000e+00j,\n",
       "         7.67694674e-02+0.00000000e+00j,  3.76498686e-02+0.00000000e+00j,\n",
       "         4.80855342e-02+0.00000000e+00j, -5.00274167e-03+0.00000000e+00j,\n",
       "         5.84931246e-02+0.00000000e+00j, -1.08472268e-02+0.00000000e+00j,\n",
       "        -1.09654882e-01+0.00000000e+00j,  7.37685735e-03+0.00000000e+00j,\n",
       "         4.15733472e-02+0.00000000e+00j, -3.23312725e-02+0.00000000e+00j,\n",
       "        -6.64094417e-02+0.00000000e+00j,  6.48831911e-02+0.00000000e+00j,\n",
       "         6.62183719e-02+0.00000000e+00j,  2.06868021e-03+0.00000000e+00j,\n",
       "        -6.05031488e-02+0.00000000e+00j, -7.28362743e-02+0.00000000e+00j,\n",
       "        -1.60556263e-02+0.00000000e+00j,  4.08378831e-02+0.00000000e+00j,\n",
       "        -4.39975721e-02+0.00000000e+00j,  1.24040872e-01+0.00000000e+00j,\n",
       "         7.48971576e-02+0.00000000e+00j,  4.69674250e-02+0.00000000e+00j,\n",
       "         8.50023116e-04+0.00000000e+00j, -5.83337375e-02+0.00000000e+00j,\n",
       "         2.22475051e-02+0.00000000e+00j,  4.65870085e-02+0.00000000e+00j,\n",
       "        -5.01477455e-02+0.00000000e+00j,  8.26279559e-02+0.00000000e+00j,\n",
       "        -1.00966936e-01+0.00000000e+00j, -1.27537365e-02+0.00000000e+00j,\n",
       "         3.14683721e-03+0.00000000e+00j,  2.72923674e-03+0.00000000e+00j,\n",
       "         3.91771290e-02+0.00000000e+00j, -4.55832259e-02+0.00000000e+00j,\n",
       "        -3.94188375e-02+0.00000000e+00j, -3.48386367e-02+0.00000000e+00j,\n",
       "         6.92613248e-02+0.00000000e+00j, -3.27912924e-02+0.00000000e+00j,\n",
       "         6.48859570e-02+0.00000000e+00j,  8.84144563e-02+0.00000000e+00j,\n",
       "        -1.88693642e-02+0.00000000e+00j, -3.49205147e-02+0.00000000e+00j,\n",
       "         1.42137124e-02+0.00000000e+00j,  1.10264844e-03+0.00000000e+00j,\n",
       "        -6.79804609e-02+0.00000000e+00j, -1.31503179e-02+0.00000000e+00j,\n",
       "         1.94023096e-02+0.00000000e+00j, -1.81365411e-02+0.00000000e+00j,\n",
       "        -5.42236768e-02+0.00000000e+00j,  9.11298986e-03+0.00000000e+00j,\n",
       "         6.68964833e-03+0.00000000e+00j, -8.46168097e-02+0.00000000e+00j,\n",
       "        -2.51120621e-02+0.00000000e+00j, -5.16839538e-03+0.00000000e+00j,\n",
       "         7.46804571e-03+0.00000000e+00j, -5.65596620e-02+0.00000000e+00j,\n",
       "        -1.34378670e-02+0.00000000e+00j, -1.29530836e-01+0.00000000e+00j,\n",
       "         1.21305143e-03+0.00000000e+00j, -6.19383719e-03+0.00000000e+00j,\n",
       "         4.59383689e-02+0.00000000e+00j, -4.18897643e-02+0.00000000e+00j,\n",
       "        -1.21001947e-01+0.00000000e+00j,  2.13490967e-02+0.00000000e+00j,\n",
       "        -7.02863976e-02+0.00000000e+00j, -7.95445122e-02+0.00000000e+00j,\n",
       "         1.06994849e-02+0.00000000e+00j, -7.12429953e-02+0.00000000e+00j,\n",
       "         2.77165160e-02+0.00000000e+00j, -4.58197780e-02+0.00000000e+00j,\n",
       "        -6.64910039e-02+0.00000000e+00j, -6.01169203e-02+0.00000000e+00j,\n",
       "         4.07758816e-02+0.00000000e+00j, -4.86705069e-02+0.00000000e+00j,\n",
       "         2.47911384e-02+0.00000000e+00j,  2.26375669e-02+0.00000000e+00j,\n",
       "        -3.71657751e-03+0.00000000e+00j, -3.14506854e-03+0.00000000e+00j,\n",
       "        -8.34682263e-02+0.00000000e+00j, -1.79955038e-02+0.00000000e+00j,\n",
       "        -1.38504270e-02+0.00000000e+00j,  7.42862781e-04+0.00000000e+00j,\n",
       "         7.26475900e-05+0.00000000e+00j, -2.97267253e-02+0.00000000e+00j,\n",
       "         6.01701889e-03+0.00000000e+00j, -2.07224956e-02+0.00000000e+00j,\n",
       "         6.70555274e-02+0.00000000e+00j,  2.43134575e-02+0.00000000e+00j,\n",
       "        -2.67374931e-02+0.00000000e+00j, -6.60907670e-02+0.00000000e+00j,\n",
       "         4.30120499e-03+0.00000000e+00j,  1.95271202e-02+0.00000000e+00j,\n",
       "         2.93102295e-02+0.00000000e+00j, -1.26604716e-02+0.00000000e+00j,\n",
       "         2.07948182e-02+0.00000000e+00j, -1.13523120e-02+0.00000000e+00j,\n",
       "        -4.73621056e-02+0.00000000e+00j, -1.97157677e-02+0.00000000e+00j,\n",
       "        -6.45587833e-03+0.00000000e+00j,  2.64067391e-02+0.00000000e+00j,\n",
       "         1.70300197e-02+0.00000000e+00j,  2.01013095e-02+0.00000000e+00j,\n",
       "        -3.56538775e-02+0.00000000e+00j,  1.48034264e-02+0.00000000e+00j,\n",
       "         2.32928112e-03+0.00000000e+00j,  5.80005197e-02+0.00000000e+00j,\n",
       "        -5.53346123e-02+0.00000000e+00j,  2.52024531e-02+0.00000000e+00j,\n",
       "        -4.92054624e-03+0.00000000e+00j,  1.05335433e-02+0.00000000e+00j,\n",
       "        -1.18032568e-02+0.00000000e+00j, -7.33686858e-03+0.00000000e+00j,\n",
       "         6.01360659e-16+0.00000000e+00j,  3.06085728e-16+1.89146316e-17j,\n",
       "         3.06085728e-16-1.89146316e-17j,  8.81499797e-17+0.00000000e+00j,\n",
       "         4.80829438e-16+0.00000000e+00j,  1.99970481e-17+0.00000000e+00j,\n",
       "         1.25264462e-16+0.00000000e+00j,  1.59999327e-16+0.00000000e+00j,\n",
       "         4.57172264e-04+0.00000000e+00j,  5.09044173e-03+0.00000000e+00j,\n",
       "        -1.57820334e-03+0.00000000e+00j,  3.28182588e-03+0.00000000e+00j,\n",
       "        -1.03718326e-03+0.00000000e+00j, -4.77334339e-03+0.00000000e+00j,\n",
       "        -1.18880865e-03+0.00000000e+00j, -1.59303491e-03+0.00000000e+00j,\n",
       "         6.39264835e-03+0.00000000e+00j, -3.42070329e-02+0.00000000e+00j,\n",
       "         1.82409010e-02+0.00000000e+00j, -8.50308739e-03+0.00000000e+00j,\n",
       "        -2.58663091e-02+0.00000000e+00j, -3.53205688e-03+0.00000000e+00j,\n",
       "         6.47937543e-02+0.00000000e+00j,  2.92282527e-03+0.00000000e+00j,\n",
       "        -9.67590680e-05+0.00000000e+00j,  3.42678766e-04+0.00000000e+00j,\n",
       "        -1.78997302e-02+0.00000000e+00j, -6.67186024e-03+0.00000000e+00j,\n",
       "        -3.65131090e-02+0.00000000e+00j,  3.00598751e-02+0.00000000e+00j,\n",
       "        -3.10809536e-02+0.00000000e+00j,  1.05855105e-02+0.00000000e+00j,\n",
       "         2.75097027e-03+0.00000000e+00j, -2.03641720e-02+0.00000000e+00j,\n",
       "        -4.49745081e-02+0.00000000e+00j, -9.23992623e-02+0.00000000e+00j,\n",
       "        -4.96472800e-04+0.00000000e+00j, -4.19476937e-02+0.00000000e+00j,\n",
       "         4.60647499e-03+0.00000000e+00j, -2.89012949e-03+0.00000000e+00j,\n",
       "         1.28038108e-02+0.00000000e+00j, -2.58899757e-02+0.00000000e+00j,\n",
       "        -3.19491962e-03+0.00000000e+00j,  7.99677689e-03+0.00000000e+00j,\n",
       "         6.68708794e-03+0.00000000e+00j,  8.42064132e-04+0.00000000e+00j,\n",
       "        -1.95641899e-04+0.00000000e+00j, -1.52635450e-03+0.00000000e+00j,\n",
       "         7.73450306e-03+0.00000000e+00j,  2.11634094e-03+0.00000000e+00j,\n",
       "         7.62211177e-03+0.00000000e+00j, -6.67036526e-03+0.00000000e+00j,\n",
       "        -1.13242157e-03+0.00000000e+00j, -3.39288878e-04+0.00000000e+00j,\n",
       "         3.38087071e-04+0.00000000e+00j,  3.90091813e-03+0.00000000e+00j,\n",
       "         3.74440932e-03+0.00000000e+00j,  3.22328467e-03+0.00000000e+00j,\n",
       "        -1.91985010e-03+0.00000000e+00j, -2.82935087e-03+0.00000000e+00j,\n",
       "        -6.81858199e-03+0.00000000e+00j,  2.16256156e-02+0.00000000e+00j,\n",
       "         1.32248689e-02+0.00000000e+00j,  9.49870942e-03+0.00000000e+00j,\n",
       "         2.19937811e-02+0.00000000e+00j, -1.03199005e-02+0.00000000e+00j,\n",
       "         1.53841594e-02+0.00000000e+00j, -1.52844777e-02+0.00000000e+00j,\n",
       "         2.07102696e-02+0.00000000e+00j, -8.48255540e-03+0.00000000e+00j,\n",
       "         8.86420385e-03+0.00000000e+00j,  4.11478696e-02+0.00000000e+00j,\n",
       "         2.48821910e-03+0.00000000e+00j,  3.17396556e-02+0.00000000e+00j,\n",
       "         1.55830843e-02+0.00000000e+00j,  1.51125444e-02+0.00000000e+00j,\n",
       "        -4.96836820e-03+0.00000000e+00j, -9.05468721e-03+0.00000000e+00j,\n",
       "         2.90871812e-02+0.00000000e+00j,  8.74645853e-03+0.00000000e+00j,\n",
       "        -5.00352564e-02+0.00000000e+00j,  8.95161512e-03+0.00000000e+00j,\n",
       "         1.56152446e-02+0.00000000e+00j, -1.04937539e-02+0.00000000e+00j,\n",
       "         1.07023012e-02+0.00000000e+00j, -4.28702996e-02+0.00000000e+00j,\n",
       "         9.36499102e-03+0.00000000e+00j,  2.13438620e-02+0.00000000e+00j,\n",
       "         5.67857834e-02+0.00000000e+00j,  1.11603930e-03+0.00000000e+00j,\n",
       "        -1.08927282e-02+0.00000000e+00j, -1.11190698e-02+0.00000000e+00j,\n",
       "        -2.19226408e-02+0.00000000e+00j, -4.04048979e-02+0.00000000e+00j,\n",
       "         2.63034933e-02+0.00000000e+00j, -2.18105140e-02+0.00000000e+00j,\n",
       "         1.20541434e-02+0.00000000e+00j, -7.37648946e-04+0.00000000e+00j,\n",
       "         2.61820175e-02+0.00000000e+00j, -1.57431565e-02+0.00000000e+00j,\n",
       "         1.97934542e-02+0.00000000e+00j, -2.21164770e-02+0.00000000e+00j,\n",
       "         7.29997019e-03+0.00000000e+00j,  7.83978618e-03+0.00000000e+00j,\n",
       "        -2.55868204e-02+0.00000000e+00j,  1.42098065e-02+0.00000000e+00j,\n",
       "        -7.27094828e-03+0.00000000e+00j,  5.72979931e-03+0.00000000e+00j,\n",
       "         5.54309337e-03+0.00000000e+00j,  6.86300186e-03+0.00000000e+00j,\n",
       "         1.66565181e-03+0.00000000e+00j,  4.29484376e-03+0.00000000e+00j,\n",
       "         4.47628489e-03+0.00000000e+00j, -3.02476685e-02+0.00000000e+00j,\n",
       "         1.18657667e-02+0.00000000e+00j, -2.72073287e-02+0.00000000e+00j,\n",
       "        -5.61594289e-04+0.00000000e+00j,  1.16361057e-02+0.00000000e+00j,\n",
       "         2.69174761e-03+0.00000000e+00j,  1.54433511e-03+0.00000000e+00j,\n",
       "        -1.17854607e-03+0.00000000e+00j, -7.96074160e-03+0.00000000e+00j,\n",
       "        -3.58886052e-03+0.00000000e+00j,  1.91698030e-03+0.00000000e+00j,\n",
       "         2.51164220e-03+0.00000000e+00j,  4.60788739e-03+0.00000000e+00j,\n",
       "         2.53165021e-04+0.00000000e+00j, -5.43528040e-04+0.00000000e+00j,\n",
       "        -1.79854016e-02+0.00000000e+00j, -1.36220913e-04+0.00000000e+00j,\n",
       "         2.28704408e-02+0.00000000e+00j,  7.98775550e-03+0.00000000e+00j,\n",
       "        -1.81522429e-02+0.00000000e+00j,  2.67013348e-03+0.00000000e+00j,\n",
       "         2.39379977e-02+0.00000000e+00j, -2.33024091e-02+0.00000000e+00j,\n",
       "        -5.40656913e-03+0.00000000e+00j, -1.41895948e-02+0.00000000e+00j,\n",
       "        -4.67480829e-03+0.00000000e+00j,  1.65689058e-03+0.00000000e+00j,\n",
       "        -1.29227252e-03+0.00000000e+00j,  1.90777558e-02+0.00000000e+00j,\n",
       "        -1.51329664e-02+0.00000000e+00j,  8.52624512e-04+0.00000000e+00j,\n",
       "         2.13667228e-02+0.00000000e+00j,  1.32792593e-02+0.00000000e+00j,\n",
       "         1.16065399e-02+0.00000000e+00j,  6.35673567e-03+0.00000000e+00j,\n",
       "        -1.72534130e-02+0.00000000e+00j, -1.35696377e-02+0.00000000e+00j,\n",
       "        -5.05876077e-03+0.00000000e+00j,  1.61823776e-02+0.00000000e+00j,\n",
       "        -7.01575708e-03+0.00000000e+00j,  2.31980784e-03+0.00000000e+00j,\n",
       "         1.76663535e-03+0.00000000e+00j,  6.26114312e-03+0.00000000e+00j,\n",
       "        -1.18769258e-04+0.00000000e+00j,  1.47697237e-02+0.00000000e+00j,\n",
       "         4.50743274e-03+0.00000000e+00j, -1.27637467e-02+0.00000000e+00j,\n",
       "        -1.05158757e-02+0.00000000e+00j, -3.38159411e-04+0.00000000e+00j,\n",
       "        -1.55490457e-02+0.00000000e+00j,  6.88307965e-03+0.00000000e+00j,\n",
       "         2.25088745e-02+0.00000000e+00j, -2.06723677e-02+0.00000000e+00j,\n",
       "        -8.72611725e-04+0.00000000e+00j, -8.91493172e-03+0.00000000e+00j,\n",
       "         2.48741506e-02+0.00000000e+00j,  5.31384251e-03+0.00000000e+00j,\n",
       "        -7.34800714e-03+0.00000000e+00j, -5.27253657e-03+0.00000000e+00j,\n",
       "        -8.49117987e-03+0.00000000e+00j, -3.84766845e-03+0.00000000e+00j,\n",
       "        -4.71812100e-03+0.00000000e+00j, -7.67068103e-04+0.00000000e+00j,\n",
       "         4.09770959e-03+0.00000000e+00j, -1.19251884e-02+0.00000000e+00j,\n",
       "        -3.06633517e-03+0.00000000e+00j,  2.05142017e-03+0.00000000e+00j,\n",
       "         9.26730770e-03+0.00000000e+00j,  4.58515964e-03+0.00000000e+00j,\n",
       "         1.23352870e-03+0.00000000e+00j, -5.15936977e-03+0.00000000e+00j,\n",
       "        -5.45601022e-03+0.00000000e+00j,  9.87522879e-03+0.00000000e+00j,\n",
       "         1.03943878e-02+0.00000000e+00j, -2.11814254e-03+0.00000000e+00j,\n",
       "        -1.09753408e-02+0.00000000e+00j,  2.55062343e-03+0.00000000e+00j,\n",
       "         3.69922020e-04+0.00000000e+00j,  1.17807543e-03+0.00000000e+00j,\n",
       "        -5.21832936e-03+0.00000000e+00j, -4.99082695e-03+0.00000000e+00j,\n",
       "        -2.10367510e-03+0.00000000e+00j, -1.23666311e-03+0.00000000e+00j,\n",
       "        -1.03991429e-02+0.00000000e+00j, -1.89667845e-03+0.00000000e+00j,\n",
       "        -5.03769521e-03+0.00000000e+00j,  2.68150592e-03+0.00000000e+00j,\n",
       "        -1.07087543e-02+0.00000000e+00j, -4.38652861e-03+0.00000000e+00j,\n",
       "        -3.48858231e-03+0.00000000e+00j,  1.38473241e-03+0.00000000e+00j,\n",
       "         5.63720512e-03+0.00000000e+00j, -2.36389436e-03+0.00000000e+00j,\n",
       "        -6.38395596e-03+0.00000000e+00j,  6.47661798e-03+0.00000000e+00j,\n",
       "        -2.22042222e-02+0.00000000e+00j,  1.01994057e-04+0.00000000e+00j,\n",
       "         3.81997424e-03+0.00000000e+00j,  6.22708208e-03+0.00000000e+00j,\n",
       "        -3.10176857e-03+0.00000000e+00j,  8.77996432e-03+0.00000000e+00j,\n",
       "         2.43407390e-03+0.00000000e+00j,  8.32623072e-03+0.00000000e+00j,\n",
       "         6.53948703e-03+0.00000000e+00j,  6.04283241e-03+0.00000000e+00j,\n",
       "         2.15739958e-02+0.00000000e+00j,  1.08713426e-03+0.00000000e+00j,\n",
       "        -4.23105985e-03+0.00000000e+00j, -3.30077729e-03+0.00000000e+00j,\n",
       "        -6.43564424e-03+0.00000000e+00j,  6.88237209e-03+0.00000000e+00j,\n",
       "         1.15620586e-02+0.00000000e+00j,  7.05004976e-04+0.00000000e+00j,\n",
       "         3.51129023e-04+0.00000000e+00j, -6.76960583e-04+0.00000000e+00j,\n",
       "        -2.10959989e-02+0.00000000e+00j, -4.32497238e-03+0.00000000e+00j,\n",
       "         4.38291584e-03+0.00000000e+00j,  7.72776641e-03+0.00000000e+00j,\n",
       "        -5.43413540e-04+0.00000000e+00j,  4.33732027e-03+0.00000000e+00j,\n",
       "         1.83158238e-03+0.00000000e+00j,  5.77348640e-04+0.00000000e+00j,\n",
       "        -5.47854632e-03+0.00000000e+00j,  0.00000000e+00+0.00000000e+00j,\n",
       "         0.00000000e+00+0.00000000e+00j,  0.00000000e+00+0.00000000e+00j,\n",
       "         0.00000000e+00+0.00000000e+00j,  0.00000000e+00+0.00000000e+00j,\n",
       "         0.00000000e+00+0.00000000e+00j,  0.00000000e+00+0.00000000e+00j,\n",
       "         0.00000000e+00+0.00000000e+00j,  0.00000000e+00+0.00000000e+00j,\n",
       "         0.00000000e+00+0.00000000e+00j,  0.00000000e+00+0.00000000e+00j,\n",
       "         0.00000000e+00+0.00000000e+00j,  0.00000000e+00+0.00000000e+00j,\n",
       "         0.00000000e+00+0.00000000e+00j,  0.00000000e+00+0.00000000e+00j,\n",
       "         0.00000000e+00+0.00000000e+00j,  0.00000000e+00+0.00000000e+00j,\n",
       "         0.00000000e+00+0.00000000e+00j,  0.00000000e+00+0.00000000e+00j,\n",
       "         0.00000000e+00+0.00000000e+00j,  0.00000000e+00+0.00000000e+00j,\n",
       "         0.00000000e+00+0.00000000e+00j,  0.00000000e+00+0.00000000e+00j,\n",
       "         0.00000000e+00+0.00000000e+00j,  0.00000000e+00+0.00000000e+00j,\n",
       "         0.00000000e+00+0.00000000e+00j,  0.00000000e+00+0.00000000e+00j,\n",
       "         0.00000000e+00+0.00000000e+00j,  0.00000000e+00+0.00000000e+00j,\n",
       "         0.00000000e+00+0.00000000e+00j,  0.00000000e+00+0.00000000e+00j,\n",
       "         0.00000000e+00+0.00000000e+00j,  0.00000000e+00+0.00000000e+00j,\n",
       "         0.00000000e+00+0.00000000e+00j,  0.00000000e+00+0.00000000e+00j,\n",
       "         0.00000000e+00+0.00000000e+00j,  0.00000000e+00+0.00000000e+00j,\n",
       "         0.00000000e+00+0.00000000e+00j,  0.00000000e+00+0.00000000e+00j,\n",
       "         0.00000000e+00+0.00000000e+00j,  0.00000000e+00+0.00000000e+00j,\n",
       "         0.00000000e+00+0.00000000e+00j,  0.00000000e+00+0.00000000e+00j,\n",
       "         0.00000000e+00+0.00000000e+00j,  0.00000000e+00+0.00000000e+00j,\n",
       "         0.00000000e+00+0.00000000e+00j,  0.00000000e+00+0.00000000e+00j,\n",
       "         0.00000000e+00+0.00000000e+00j,  0.00000000e+00+0.00000000e+00j,\n",
       "         0.00000000e+00+0.00000000e+00j,  0.00000000e+00+0.00000000e+00j,\n",
       "         0.00000000e+00+0.00000000e+00j,  0.00000000e+00+0.00000000e+00j,\n",
       "         0.00000000e+00+0.00000000e+00j,  0.00000000e+00+0.00000000e+00j,\n",
       "         0.00000000e+00+0.00000000e+00j,  0.00000000e+00+0.00000000e+00j,\n",
       "         0.00000000e+00+0.00000000e+00j,  0.00000000e+00+0.00000000e+00j,\n",
       "         0.00000000e+00+0.00000000e+00j,  0.00000000e+00+0.00000000e+00j,\n",
       "         0.00000000e+00+0.00000000e+00j,  0.00000000e+00+0.00000000e+00j,\n",
       "         0.00000000e+00+0.00000000e+00j,  0.00000000e+00+0.00000000e+00j,\n",
       "         0.00000000e+00+0.00000000e+00j,  0.00000000e+00+0.00000000e+00j,\n",
       "         0.00000000e+00+0.00000000e+00j,  0.00000000e+00+0.00000000e+00j,\n",
       "         0.00000000e+00+0.00000000e+00j,  0.00000000e+00+0.00000000e+00j,\n",
       "         0.00000000e+00+0.00000000e+00j,  0.00000000e+00+0.00000000e+00j,\n",
       "         0.00000000e+00+0.00000000e+00j,  0.00000000e+00+0.00000000e+00j,\n",
       "         0.00000000e+00+0.00000000e+00j,  0.00000000e+00+0.00000000e+00j,\n",
       "         0.00000000e+00+0.00000000e+00j,  0.00000000e+00+0.00000000e+00j,\n",
       "         0.00000000e+00+0.00000000e+00j,  0.00000000e+00+0.00000000e+00j,\n",
       "         0.00000000e+00+0.00000000e+00j,  0.00000000e+00+0.00000000e+00j,\n",
       "         0.00000000e+00+0.00000000e+00j,  0.00000000e+00+0.00000000e+00j,\n",
       "         0.00000000e+00+0.00000000e+00j,  0.00000000e+00+0.00000000e+00j,\n",
       "         0.00000000e+00+0.00000000e+00j,  0.00000000e+00+0.00000000e+00j,\n",
       "         0.00000000e+00+0.00000000e+00j,  0.00000000e+00+0.00000000e+00j,\n",
       "         0.00000000e+00+0.00000000e+00j,  0.00000000e+00+0.00000000e+00j,\n",
       "         0.00000000e+00+0.00000000e+00j,  0.00000000e+00+0.00000000e+00j,\n",
       "         0.00000000e+00+0.00000000e+00j,  0.00000000e+00+0.00000000e+00j,\n",
       "         0.00000000e+00+0.00000000e+00j,  0.00000000e+00+0.00000000e+00j,\n",
       "         0.00000000e+00+0.00000000e+00j,  0.00000000e+00+0.00000000e+00j,\n",
       "         0.00000000e+00+0.00000000e+00j,  0.00000000e+00+0.00000000e+00j,\n",
       "         0.00000000e+00+0.00000000e+00j,  0.00000000e+00+0.00000000e+00j,\n",
       "         0.00000000e+00+0.00000000e+00j,  0.00000000e+00+0.00000000e+00j,\n",
       "         0.00000000e+00+0.00000000e+00j,  0.00000000e+00+0.00000000e+00j,\n",
       "         0.00000000e+00+0.00000000e+00j,  0.00000000e+00+0.00000000e+00j,\n",
       "         0.00000000e+00+0.00000000e+00j,  0.00000000e+00+0.00000000e+00j,\n",
       "         0.00000000e+00+0.00000000e+00j,  0.00000000e+00+0.00000000e+00j,\n",
       "         0.00000000e+00+0.00000000e+00j,  0.00000000e+00+0.00000000e+00j]))"
      ]
     },
     "execution_count": 20,
     "metadata": {},
     "output_type": "execute_result"
    }
   ],
   "source": [
    "data_sorted[5]"
   ]
  },
  {
   "cell_type": "code",
   "execution_count": null,
   "metadata": {},
   "outputs": [],
   "source": []
  }
 ],
 "metadata": {
  "kernelspec": {
   "display_name": "Python 3",
   "language": "python",
   "name": "python3"
  },
  "language_info": {
   "codemirror_mode": {
    "name": "ipython",
    "version": 3
   },
   "file_extension": ".py",
   "mimetype": "text/x-python",
   "name": "python",
   "nbconvert_exporter": "python",
   "pygments_lexer": "ipython3",
   "version": "3.7.1"
  }
 },
 "nbformat": 4,
 "nbformat_minor": 2
}

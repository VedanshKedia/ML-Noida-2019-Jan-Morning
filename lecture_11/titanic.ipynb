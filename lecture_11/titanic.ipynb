{
 "cells": [
  {
   "cell_type": "code",
   "execution_count": 1,
   "metadata": {},
   "outputs": [],
   "source": [
    "import numpy as np\n",
    "import matplotlib.pyplot as plt\n",
    "from sklearn.preprocessing import scale\n",
    "from sklearn.preprocessing import LabelEncoder\n",
    "import pandas as pd\n",
    "from sklearn.decomposition import PCA\n",
    "\n",
    "from sklearn.model_selection import train_test_split"
   ]
  },
  {
   "cell_type": "code",
   "execution_count": 2,
   "metadata": {},
   "outputs": [],
   "source": [
    "titanic = pd.read_csv(\"../dataset/titanic/train.csv\")"
   ]
  },
  {
   "cell_type": "code",
   "execution_count": 3,
   "metadata": {},
   "outputs": [
    {
     "name": "stdout",
     "output_type": "stream",
     "text": [
      "<class 'pandas.core.frame.DataFrame'>\n",
      "RangeIndex: 891 entries, 0 to 890\n",
      "Data columns (total 12 columns):\n",
      "PassengerId    891 non-null int64\n",
      "Survived       891 non-null int64\n",
      "Pclass         891 non-null int64\n",
      "Name           891 non-null object\n",
      "Sex            891 non-null object\n",
      "Age            714 non-null float64\n",
      "SibSp          891 non-null int64\n",
      "Parch          891 non-null int64\n",
      "Ticket         891 non-null object\n",
      "Fare           891 non-null float64\n",
      "Cabin          204 non-null object\n",
      "Embarked       889 non-null object\n",
      "dtypes: float64(2), int64(5), object(5)\n",
      "memory usage: 83.6+ KB\n"
     ]
    }
   ],
   "source": [
    "titanic.info()"
   ]
  },
  {
   "cell_type": "code",
   "execution_count": 4,
   "metadata": {},
   "outputs": [],
   "source": [
    "drop_cols = ['PassengerId', 'Name', 'Ticket', 'Fare', 'Cabin', 'Embarked']"
   ]
  },
  {
   "cell_type": "code",
   "execution_count": 5,
   "metadata": {},
   "outputs": [],
   "source": [
    "titanic = titanic.drop(drop_cols, axis=1)"
   ]
  },
  {
   "cell_type": "code",
   "execution_count": 12,
   "metadata": {},
   "outputs": [
    {
     "name": "stdout",
     "output_type": "stream",
     "text": [
      "<class 'pandas.core.frame.DataFrame'>\n",
      "RangeIndex: 891 entries, 0 to 890\n",
      "Data columns (total 6 columns):\n",
      "Survived    891 non-null int64\n",
      "Pclass      891 non-null int64\n",
      "Sex         891 non-null int64\n",
      "Age         891 non-null float64\n",
      "SibSp       891 non-null int64\n",
      "Parch       891 non-null int64\n",
      "dtypes: float64(1), int64(5)\n",
      "memory usage: 41.8 KB\n"
     ]
    }
   ],
   "source": [
    "titanic.info()"
   ]
  },
  {
   "cell_type": "code",
   "execution_count": 9,
   "metadata": {},
   "outputs": [],
   "source": [
    "le = LabelEncoder()\n",
    "titanic.Sex = le.fit_transform(titanic.Sex)"
   ]
  },
  {
   "cell_type": "code",
   "execution_count": 11,
   "metadata": {},
   "outputs": [],
   "source": [
    "titanic.Age.fillna(np.mean(titanic.Age), inplace=True)"
   ]
  },
  {
   "cell_type": "code",
   "execution_count": 21,
   "metadata": {},
   "outputs": [],
   "source": [
    "X = titanic.drop([\"Survived\"], axis=1)\n",
    "y = titanic.Survived"
   ]
  },
  {
   "cell_type": "code",
   "execution_count": 22,
   "metadata": {},
   "outputs": [],
   "source": [
    "from sklearn.model_selection import train_test_split\n",
    "X_train, X_test, y_train, y_test = train_test_split(X, y, test_size=0.33, random_state=42)"
   ]
  },
  {
   "cell_type": "code",
   "execution_count": 29,
   "metadata": {},
   "outputs": [
    {
     "name": "stdout",
     "output_type": "stream",
     "text": [
      "0.7627118644067796\n"
     ]
    }
   ],
   "source": [
    "from sklearn.neighbors import KNeighborsClassifier\n",
    "model = KNeighborsClassifier(10)\n",
    "model.fit(X_train, y_train)\n",
    "print(model.score(X_test, y_test))"
   ]
  },
  {
   "cell_type": "code",
   "execution_count": 24,
   "metadata": {},
   "outputs": [
    {
     "name": "stdout",
     "output_type": "stream",
     "text": [
      "0.8135593220338984\n"
     ]
    },
    {
     "name": "stderr",
     "output_type": "stream",
     "text": [
      "/usr/local/lib/python3.7/site-packages/sklearn/linear_model/logistic.py:433: FutureWarning: Default solver will be changed to 'lbfgs' in 0.22. Specify a solver to silence this warning.\n",
      "  FutureWarning)\n"
     ]
    }
   ],
   "source": [
    "from sklearn.linear_model import LogisticRegression\n",
    "model = LogisticRegression()\n",
    "model.fit(X_train, y_train)\n",
    "print(model.score(X_test, y_test))"
   ]
  },
  {
   "cell_type": "code",
   "execution_count": 33,
   "metadata": {},
   "outputs": [],
   "source": [
    "def entropy(col):\n",
    "    items, counts = np.unique(col.values, return_counts=True)\n",
    "    size = col.values.shape[0]\n",
    "    acc = 0\n",
    "    for count in counts:\n",
    "        pi = count/size\n",
    "        acc += (pi * np.log2(pi))\n",
    "    \n",
    "    return -acc\n"
   ]
  },
  {
   "cell_type": "code",
   "execution_count": 35,
   "metadata": {},
   "outputs": [
    {
     "name": "stdout",
     "output_type": "stream",
     "text": [
      "1.0\n"
     ]
    }
   ],
   "source": [
    "vals = pd.Series([1, 1, 1, 0, 0, 0])\n",
    "print(entropy(vals))"
   ]
  },
  {
   "cell_type": "code",
   "execution_count": 32,
   "metadata": {},
   "outputs": [
    {
     "name": "stdout",
     "output_type": "stream",
     "text": [
      "[0 1] [549 342]\n"
     ]
    }
   ],
   "source": [
    "print(items, counts)"
   ]
  },
  {
   "cell_type": "code",
   "execution_count": 41,
   "metadata": {},
   "outputs": [],
   "source": [
    "def info_gain(X, Y, label):\n",
    "    mean = np.mean(X[label])\n",
    "\n",
    "    left_y = Y[X[label]<mean]\n",
    "    right_y = Y[X[label]>=mean]\n",
    "    \n",
    "    s_total = Y.shape[0]\n",
    "    s_left = left_y.shape[0]\n",
    "    s_right = right_y.shape[0]\n",
    "    \n",
    "    if s_left == 0 or s_right == 0:\n",
    "        return -10000\n",
    "    \n",
    "    return entropy(Y) - ((s_left/s_total)*entropy(left_y) + (s_right/s_total)*entropy(right_y))\n",
    "    "
   ]
  },
  {
   "cell_type": "code",
   "execution_count": 45,
   "metadata": {},
   "outputs": [
    {
     "name": "stdout",
     "output_type": "stream",
     "text": [
      "Pclass 0.0693612979550764\n",
      "Sex 0.20332074264151545\n",
      "Age 0.0016815830685426025\n",
      "SibSp 0.004524587061436547\n",
      "Parch 0.014104142987097612\n"
     ]
    }
   ],
   "source": [
    "\n",
    "for col in X_train.columns:\n",
    "    print(col, info_gain(X_train, y_train, col))"
   ]
  },
  {
   "cell_type": "code",
   "execution_count": 46,
   "metadata": {},
   "outputs": [
    {
     "data": {
      "text/plain": [
       "Index(['Pclass', 'Sex', 'Age', 'SibSp', 'Parch'], dtype='object')"
      ]
     },
     "execution_count": 46,
     "metadata": {},
     "output_type": "execute_result"
    }
   ],
   "source": [
    "X_train.columns"
   ]
  },
  {
   "cell_type": "code",
   "execution_count": 47,
   "metadata": {},
   "outputs": [],
   "source": [
    "class Node:\n",
    "    \n",
    "    def __init__(self, label=None, value=None, result=None):\n",
    "        self.label = label\n",
    "        self.value = value\n",
    "        self.result = result\n",
    "        \n",
    "        self.left = None\n",
    "        self.right = None"
   ]
  },
  {
   "cell_type": "code",
   "execution_count": 74,
   "metadata": {},
   "outputs": [],
   "source": [
    "class DecisionTree:\n",
    "    \n",
    "    def __init__(self):\n",
    "        self.root = None\n",
    "        \n",
    "    def best_col(self, x_data, y_data):\n",
    "        gains = []\n",
    "        \n",
    "        for col in x_data.columns:\n",
    "            gains.append((info_gain(x_data, y_data, col), col))\n",
    "                         \n",
    "        gains = sorted(gains)\n",
    "        \n",
    "        return gains[-1][1]\n",
    "        \n",
    "        \n",
    "    def generate(self, x_data, y_data, max_dep=5):\n",
    "        \n",
    "        if max_dep == 0:\n",
    "            return Node(result=np.mean(y_data))\n",
    "        \n",
    "        best = self.best_col(x_data, y_data)\n",
    "        \n",
    "        mean = np.mean(x_data[best])\n",
    "\n",
    "        left_x = x_data[x_data[best]<mean]\n",
    "        right_x = x_data[x_data[best]>=mean]\n",
    "        \n",
    "        left_y = y_data[x_data[best]<mean]\n",
    "        right_y = y_data[x_data[best]>=mean]\n",
    "        \n",
    "        if left_y.shape[0] == 0 or right_y.shape[0] == 0:\n",
    "            return Node(result=np.mean(y_data))\n",
    "        \n",
    "        node = Node(label=best, value=mean)\n",
    "        \n",
    "        node.left = self.generate(left_x, left_y, max_dep-1)\n",
    "        node.right = self.generate(right_x, right_y, max_dep-1)\n",
    "        \n",
    "        return node\n",
    "        \n",
    "    \n",
    "    def display(self, node, indent=0):\n",
    "        if node == None:\n",
    "            return\n",
    "        \n",
    "        print(\"\\t\"*indent, node.label, node.value, node.result)\n",
    "        \n",
    "        self.display(node.left, indent+1)\n",
    "        self.display(node.right, indent+1)\n",
    "        \n",
    "            \n",
    "        "
   ]
  },
  {
   "cell_type": "code",
   "execution_count": 83,
   "metadata": {},
   "outputs": [],
   "source": [
    "tree = DecisionTree()"
   ]
  },
  {
   "cell_type": "code",
   "execution_count": 86,
   "metadata": {},
   "outputs": [],
   "source": [
    "tree.root = tree.generate(X_train, y_train, 4)"
   ]
  },
  {
   "cell_type": "code",
   "execution_count": 87,
   "metadata": {},
   "outputs": [
    {
     "name": "stdout",
     "output_type": "stream",
     "text": [
      " Sex 0.6543624161073825 None\n",
      "\t Pclass 2.1941747572815533 None\n",
      "\t\t SibSp 0.514018691588785 None\n",
      "\t\t\t Age 32.97252371916508 None\n",
      "\t\t\t\t None None 1.0\n",
      "\t\t\t\t None None 0.9642857142857143\n",
      "\t\t\t Age 29.644444444444446 None\n",
      "\t\t\t\t None None 0.875\n",
      "\t\t\t\t None None 1.0\n",
      "\t\t SibSp 0.9797979797979798 None\n",
      "\t\t\t Parch 0.5555555555555556 None\n",
      "\t\t\t\t None None 0.5384615384615384\n",
      "\t\t\t\t None None 0.6\n",
      "\t\t\t Parch 1.1111111111111112 None\n",
      "\t\t\t\t None None 0.4666666666666667\n",
      "\t\t\t\t None None 0.13333333333333333\n",
      "\t Pclass 2.4128205128205127 None\n",
      "\t\t Parch 0.20915032679738563 None\n",
      "\t\t\t Pclass 1.5 None\n",
      "\t\t\t\t None None 0.3125\n",
      "\t\t\t\t None None 0.109375\n",
      "\t\t\t Age 29.06 None\n",
      "\t\t\t\t None None 0.6153846153846154\n",
      "\t\t\t\t None None 0.25\n",
      "\t\t Age 27.647099776619505 None\n",
      "\t\t\t Parch 0.3548387096774194 None\n",
      "\t\t\t\t None None 0.17391304347826086\n",
      "\t\t\t\t None None 0.2916666666666667\n",
      "\t\t\t Parch 0.14583333333333334 None\n",
      "\t\t\t\t None None 0.12121212121212122\n",
      "\t\t\t\t None None 0.0\n"
     ]
    }
   ],
   "source": [
    "tree.display(tree.root)"
   ]
  },
  {
   "cell_type": "code",
   "execution_count": null,
   "metadata": {},
   "outputs": [],
   "source": []
  }
 ],
 "metadata": {
  "kernelspec": {
   "display_name": "Python 3",
   "language": "python",
   "name": "python3"
  },
  "language_info": {
   "codemirror_mode": {
    "name": "ipython",
    "version": 3
   },
   "file_extension": ".py",
   "mimetype": "text/x-python",
   "name": "python",
   "nbconvert_exporter": "python",
   "pygments_lexer": "ipython3",
   "version": "3.7.2"
  }
 },
 "nbformat": 4,
 "nbformat_minor": 2
}

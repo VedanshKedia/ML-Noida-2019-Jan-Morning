{
 "cells": [
  {
   "cell_type": "code",
   "execution_count": 5,
   "metadata": {},
   "outputs": [
    {
     "name": "stdout",
     "output_type": "stream",
     "text": [
      "Requirement already satisfied: pandas in /usr/local/lib/python3.7/site-packages (0.24.1)\r\n",
      "Requirement already satisfied: python-dateutil>=2.5.0 in /usr/local/lib/python3.7/site-packages (from pandas) (2.7.5)\r\n",
      "Requirement already satisfied: numpy>=1.12.0 in /usr/local/lib/python3.7/site-packages (from pandas) (1.16.1)\r\n",
      "Requirement already satisfied: pytz>=2011k in /usr/local/lib/python3.7/site-packages (from pandas) (2018.9)\r\n",
      "Requirement already satisfied: six>=1.5 in /usr/local/lib/python3.7/site-packages (from python-dateutil>=2.5.0->pandas) (1.12.0)\r\n"
     ]
    }
   ],
   "source": [
    "!python3 -m pip install pandas"
   ]
  },
  {
   "cell_type": "code",
   "execution_count": 6,
   "metadata": {},
   "outputs": [],
   "source": [
    "import numpy as np\n",
    "import matplotlib.pyplot as plt\n",
    "import pandas as pd"
   ]
  },
  {
   "cell_type": "markdown",
   "metadata": {},
   "source": [
    "## Series (1D)"
   ]
  },
  {
   "cell_type": "code",
   "execution_count": 17,
   "metadata": {},
   "outputs": [
    {
     "name": "stdout",
     "output_type": "stream",
     "text": [
      "a    1\n",
      "b    2\n",
      "c    5\n",
      "d    8\n",
      "dtype: int64\n"
     ]
    }
   ],
   "source": [
    "data = np.array([1, 2,5, 8])\n",
    "index = ['a', 'b', 'c', 'd']\n",
    "s1 = pd.Series(data, index=index)\n",
    "\n",
    "print(s1)"
   ]
  },
  {
   "cell_type": "markdown",
   "metadata": {},
   "source": [
    "## Index\n",
    " * Main difference between Pandas Series and Numpy Array is index in former.\n",
    " * In that way, Pandas Series is like a middle-ground for lists and dictionaries."
   ]
  },
  {
   "cell_type": "code",
   "execution_count": null,
   "metadata": {},
   "outputs": [],
   "source": []
  },
  {
   "cell_type": "code",
   "execution_count": 20,
   "metadata": {},
   "outputs": [
    {
     "name": "stdout",
     "output_type": "stream",
     "text": [
      "d    3\n",
      "b    2\n",
      "c    8\n",
      "a    9\n",
      "dtype: int64\n"
     ]
    }
   ],
   "source": [
    "data = np.array([3, 2,8, 9])\n",
    "index = ['d', 'b', 'c', 'a']\n",
    "s2 = pd.Series(data, index=index)\n",
    "\n",
    "print(s2)"
   ]
  },
  {
   "cell_type": "markdown",
   "metadata": {},
   "source": [
    "### Position VS Index"
   ]
  },
  {
   "cell_type": "code",
   "execution_count": 27,
   "metadata": {},
   "outputs": [
    {
     "name": "stdout",
     "output_type": "stream",
     "text": [
      "d    3\n",
      "b    2\n",
      "c    8\n",
      "e    9\n",
      "dtype: int64\n"
     ]
    }
   ],
   "source": [
    "data = np.array([3, 2,8, 9])\n",
    "index = ['d', 'b', 'c', 'e']\n",
    "s2 = pd.Series(data, index=index)\n",
    "\n",
    "print(s2)"
   ]
  },
  {
   "cell_type": "code",
   "execution_count": 30,
   "metadata": {},
   "outputs": [
    {
     "name": "stdout",
     "output_type": "stream",
     "text": [
      "a     1.0\n",
      "b     4.0\n",
      "c    13.0\n",
      "d    11.0\n",
      "e     9.0\n",
      "dtype: float64\n"
     ]
    }
   ],
   "source": [
    "s = s1.add(s2, fill_value=0)\n",
    "\n",
    "print(s)"
   ]
  },
  {
   "cell_type": "markdown",
   "metadata": {},
   "source": [
    "### Default Indices"
   ]
  },
  {
   "cell_type": "code",
   "execution_count": null,
   "metadata": {},
   "outputs": [],
   "source": []
  },
  {
   "cell_type": "markdown",
   "metadata": {},
   "source": [
    "## Vectorized Operations\n",
    "Cases for v1 v2:\n",
    "\n",
    " * Both have same indices\n",
    " * Overlapping indices, but not same\n",
    " * Different indices"
   ]
  },
  {
   "cell_type": "code",
   "execution_count": 26,
   "metadata": {},
   "outputs": [
    {
     "name": "stdout",
     "output_type": "stream",
     "text": [
      "a    2\n",
      "b    3\n",
      "c    6\n",
      "d    9\n",
      "dtype: int64\n"
     ]
    }
   ],
   "source": [
    "s = s1 * 3\n",
    "print(s)"
   ]
  },
  {
   "cell_type": "markdown",
   "metadata": {},
   "source": [
    "### Fill Value and Drop NaN¶"
   ]
  },
  {
   "cell_type": "code",
   "execution_count": null,
   "metadata": {},
   "outputs": [],
   "source": []
  },
  {
   "cell_type": "markdown",
   "metadata": {},
   "source": [
    "### Apply lambda on Series"
   ]
  },
  {
   "cell_type": "code",
   "execution_count": 34,
   "metadata": {},
   "outputs": [
    {
     "name": "stdout",
     "output_type": "stream",
     "text": [
      "a    1\n",
      "b    2\n",
      "c    5\n",
      "d    8\n",
      "dtype: int64\n"
     ]
    }
   ],
   "source": [
    "\n",
    "\n",
    "s = (s1 ).apply(lambda x : x > 2 and x < 10)\n",
    "\n",
    "print(s1)"
   ]
  },
  {
   "cell_type": "markdown",
   "metadata": {},
   "source": [
    "## Dataframe (2D)"
   ]
  },
  {
   "cell_type": "markdown",
   "metadata": {},
   "source": [
    "#### Dataframe from python dict"
   ]
  },
  {
   "cell_type": "code",
   "execution_count": 42,
   "metadata": {},
   "outputs": [
    {
     "name": "stdout",
     "output_type": "stream",
     "text": [
      "         age     name\n",
      "Mohit     10    Mohit\n",
      "Shubham   22  Shubham\n",
      "Rohit     24    Rohit\n",
      "Rohan     50    Rohan\n"
     ]
    }
   ],
   "source": [
    "dict = {\n",
    "    \"age\" : [10, 22, 24, 50],\n",
    "    \"name\" : [\"Mohit\", \"Shubham\", \"Rohit\", \"Rohan\"]\n",
    "}\n",
    "\n",
    "df = pd.DataFrame(dict, index=dict[\"name\"])\n",
    "\n",
    "print(df)"
   ]
  },
  {
   "cell_type": "markdown",
   "metadata": {},
   "source": [
    "#### Dataframe from python numpy"
   ]
  },
  {
   "cell_type": "code",
   "execution_count": 68,
   "metadata": {},
   "outputs": [
    {
     "name": "stdout",
     "output_type": "stream",
     "text": [
      "[[ 0  1  2  3]\n",
      " [ 4  5  6  7]\n",
      " [ 8  9 10 11]\n",
      " [12 13 14 15]\n",
      " [16 17 18 19]]\n"
     ]
    }
   ],
   "source": [
    "data = np.arange(20).reshape(-1, 2)\n",
    "\n",
    "v = data.reshape(-1, 4)\n",
    "\n",
    "frame = pd.DataFrame(v, columns=[\"one\", \"two\", \"three\", \"four\"])\n",
    "\n",
    "frame = frame.set_index(frame.three)\n",
    "\n",
    "# print(frame)\n",
    "\n",
    "print(frame.values)"
   ]
  },
  {
   "cell_type": "markdown",
   "metadata": {},
   "source": [
    "#### reading, saving from file (csv, excel)"
   ]
  },
  {
   "cell_type": "code",
   "execution_count": 73,
   "metadata": {},
   "outputs": [],
   "source": [
    "data = pd.read_csv(\"../dataset/movie_metadata.csv\")\n"
   ]
  },
  {
   "cell_type": "markdown",
   "metadata": {},
   "source": [
    "#### Dataframe default index vs changing index"
   ]
  },
  {
   "cell_type": "code",
   "execution_count": 90,
   "metadata": {},
   "outputs": [
    {
     "name": "stdout",
     "output_type": "stream",
     "text": [
      "<class 'pandas.core.frame.DataFrame'>\n"
     ]
    }
   ],
   "source": [
    "type(data.head())\n",
    "\n",
    "# print(data.head())\n",
    "\n",
    "print(type(data[[\"color\", \"director_name\"]]))\n",
    "data = data[[\"color\", \"director_name\"]]"
   ]
  },
  {
   "cell_type": "code",
   "execution_count": 95,
   "metadata": {},
   "outputs": [
    {
     "name": "stdout",
     "output_type": "stream",
     "text": [
      "   color      director_name     d_f_name   d_s_name\n",
      "0  Color      James Cameron        James    Cameron\n",
      "1  Color     Gore Verbinski         Gore  Verbinski\n",
      "2  Color         Sam Mendes          Sam     Mendes\n",
      "3  Color  Christopher Nolan  Christopher      Nolan\n",
      "4    NaN        Doug Walker         Doug     Walker\n"
     ]
    }
   ],
   "source": [
    "data[\"d_f_name\"] = data[\"director_name\"].apply(lambda x : str(x).split(\" \")[0])\n",
    "data[\"d_s_name\"] = data[\"director_name\"].apply(lambda x : str(x).split(\" \")[-1])\n",
    "\n",
    "print(data.head())"
   ]
  },
  {
   "cell_type": "markdown",
   "metadata": {},
   "source": [
    "#### Series as attributes"
   ]
  },
  {
   "cell_type": "code",
   "execution_count": null,
   "metadata": {},
   "outputs": [],
   "source": []
  },
  {
   "cell_type": "markdown",
   "metadata": {},
   "source": [
    "#### Re-arrange and renaming of in dataframe"
   ]
  },
  {
   "cell_type": "code",
   "execution_count": 101,
   "metadata": {},
   "outputs": [
    {
     "name": "stdout",
     "output_type": "stream",
     "text": [
      "                 color       director_name        first     d_s_name\n",
      "0                Color       James Cameron        James      Cameron\n",
      "1                Color      Gore Verbinski         Gore    Verbinski\n",
      "2                Color          Sam Mendes          Sam       Mendes\n",
      "3                Color   Christopher Nolan  Christopher        Nolan\n",
      "4                  NaN         Doug Walker         Doug       Walker\n",
      "5                Color      Andrew Stanton       Andrew      Stanton\n",
      "6                Color           Sam Raimi          Sam        Raimi\n",
      "7                Color        Nathan Greno       Nathan        Greno\n",
      "8                Color         Joss Whedon         Joss       Whedon\n",
      "9                Color         David Yates        David        Yates\n",
      "10               Color         Zack Snyder         Zack       Snyder\n",
      "11               Color        Bryan Singer        Bryan       Singer\n",
      "12               Color        Marc Forster         Marc      Forster\n",
      "13               Color      Gore Verbinski         Gore    Verbinski\n",
      "14               Color      Gore Verbinski         Gore    Verbinski\n",
      "15               Color         Zack Snyder         Zack       Snyder\n",
      "16               Color      Andrew Adamson       Andrew      Adamson\n",
      "17               Color         Joss Whedon         Joss       Whedon\n",
      "18               Color        Rob Marshall          Rob     Marshall\n",
      "19               Color    Barry Sonnenfeld        Barry   Sonnenfeld\n",
      "20               Color       Peter Jackson        Peter      Jackson\n",
      "21               Color           Marc Webb         Marc         Webb\n",
      "22               Color        Ridley Scott       Ridley        Scott\n",
      "23               Color       Peter Jackson        Peter      Jackson\n",
      "24               Color         Chris Weitz        Chris        Weitz\n",
      "25               Color       Peter Jackson        Peter      Jackson\n",
      "26               Color       James Cameron        James      Cameron\n",
      "27               Color       Anthony Russo      Anthony        Russo\n",
      "28               Color          Peter Berg        Peter         Berg\n",
      "29               Color     Colin Trevorrow        Colin    Trevorrow\n",
      "...                ...                 ...          ...          ...\n",
      "5013             Color          Eric Eason         Eric        Eason\n",
      "5014             Color            Uwe Boll          Uwe         Boll\n",
      "5015   Black and White   Richard Linklater      Richard    Linklater\n",
      "5016             Color     Joseph Mazzella       Joseph     Mazzella\n",
      "5017             Color        Travis Legge       Travis        Legge\n",
      "5018             Color       Alex Kendrick         Alex     Kendrick\n",
      "5019             Color       Marcus Nispel       Marcus       Nispel\n",
      "5020               NaN     Brandon Landers      Brandon      Landers\n",
      "5021             Color         Jay Duplass          Jay      Duplass\n",
      "5022   Black and White          Jim Chuchu          Jim       Chuchu\n",
      "5023             Color          Daryl Wein        Daryl         Wein\n",
      "5024             Color         Jason Trost        Jason        Trost\n",
      "5025             Color         John Waters         John       Waters\n",
      "5026             Color     Olivier Assayas      Olivier      Assayas\n",
      "5027             Color        Jafar Panahi        Jafar       Panahi\n",
      "5028   Black and White       Ivan Kavanagh         Ivan     Kavanagh\n",
      "5029             Color    Kiyoshi Kurosawa      Kiyoshi     Kurosawa\n",
      "5030             Color        Tadeo Garcia        Tadeo       Garcia\n",
      "5031             Color  Thomas L. Phillips       Thomas     Phillips\n",
      "5032             Color     Ash Baron-Cohen          Ash  Baron-Cohen\n",
      "5033             Color       Shane Carruth        Shane      Carruth\n",
      "5034             Color    Neill Dela Llana        Neill        Llana\n",
      "5035             Color    Robert Rodriguez       Robert    Rodriguez\n",
      "5036             Color     Anthony Vallone      Anthony      Vallone\n",
      "5037             Color        Edward Burns       Edward        Burns\n",
      "5038             Color         Scott Smith        Scott        Smith\n",
      "5039             Color                 NaN          nan          nan\n",
      "5040             Color    Benjamin Roberds     Benjamin      Roberds\n",
      "5041             Color         Daniel Hsia       Daniel         Hsia\n",
      "5042             Color            Jon Gunn          Jon         Gunn\n",
      "\n",
      "[5043 rows x 4 columns]\n"
     ]
    }
   ],
   "source": [
    "data.rename(columns = {\"d_f_name\" : \"first\"}, inplace=True)\n",
    "\n",
    "print(data)"
   ]
  },
  {
   "cell_type": "code",
   "execution_count": 37,
   "metadata": {},
   "outputs": [],
   "source": []
  },
  {
   "cell_type": "markdown",
   "metadata": {},
   "source": [
    "#### Creating new Series"
   ]
  },
  {
   "cell_type": "code",
   "execution_count": 42,
   "metadata": {},
   "outputs": [],
   "source": []
  },
  {
   "cell_type": "code",
   "execution_count": 104,
   "metadata": {},
   "outputs": [],
   "source": [
    "data[:10].to_excel(\"../dataset/updated.xlsx\")"
   ]
  },
  {
   "cell_type": "code",
   "execution_count": 50,
   "metadata": {},
   "outputs": [],
   "source": []
  },
  {
   "cell_type": "code",
   "execution_count": 51,
   "metadata": {},
   "outputs": [],
   "source": []
  },
  {
   "cell_type": "code",
   "execution_count": null,
   "metadata": {},
   "outputs": [],
   "source": []
  },
  {
   "cell_type": "code",
   "execution_count": null,
   "metadata": {},
   "outputs": [],
   "source": [
    "\n"
   ]
  },
  {
   "cell_type": "code",
   "execution_count": null,
   "metadata": {},
   "outputs": [],
   "source": []
  },
  {
   "cell_type": "code",
   "execution_count": null,
   "metadata": {},
   "outputs": [],
   "source": []
  },
  {
   "cell_type": "code",
   "execution_count": null,
   "metadata": {},
   "outputs": [],
   "source": []
  }
 ],
 "metadata": {
  "kernelspec": {
   "display_name": "Python 3",
   "language": "python",
   "name": "python3"
  },
  "language_info": {
   "codemirror_mode": {
    "name": "ipython",
    "version": 3
   },
   "file_extension": ".py",
   "mimetype": "text/x-python",
   "name": "python",
   "nbconvert_exporter": "python",
   "pygments_lexer": "ipython3",
   "version": "3.7.1"
  }
 },
 "nbformat": 4,
 "nbformat_minor": 2
}

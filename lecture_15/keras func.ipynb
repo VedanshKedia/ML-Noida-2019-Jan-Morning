{
 "cells": [
  {
   "cell_type": "code",
   "execution_count": 3,
   "metadata": {},
   "outputs": [
    {
     "name": "stderr",
     "output_type": "stream",
     "text": [
      "Using TensorFlow backend.\n"
     ]
    }
   ],
   "source": [
    "from keras.models import *\n",
    "from keras.layers import *\n",
    "from keras.losses import *\n",
    "from keras.optimizers import *\n",
    "from keras.utils import to_categorical\n",
    "\n",
    "from sklearn.model_selection import train_test_split\n",
    "\n",
    "import pandas as pd\n",
    "import numpy as np\n",
    "\n",
    "import matplotlib.pyplot as plt"
   ]
  },
  {
   "cell_type": "code",
   "execution_count": 4,
   "metadata": {},
   "outputs": [],
   "source": [
    "data = pd.read_csv(\"../dataset/mnist_train_small.csv\").values"
   ]
  },
  {
   "cell_type": "code",
   "execution_count": 5,
   "metadata": {},
   "outputs": [],
   "source": [
    "X, y = data[:, 2:], data[:, 1:2]"
   ]
  },
  {
   "cell_type": "code",
   "execution_count": 6,
   "metadata": {},
   "outputs": [],
   "source": [
    "y_hot = to_categorical(y)"
   ]
  },
  {
   "cell_type": "code",
   "execution_count": 7,
   "metadata": {},
   "outputs": [],
   "source": [
    "X_train, X_test, y_train, y_test = train_test_split( X, y_hot, test_size=0.33, random_state=42)"
   ]
  },
  {
   "cell_type": "code",
   "execution_count": null,
   "metadata": {},
   "outputs": [],
   "source": []
  },
  {
   "cell_type": "code",
   "execution_count": 13,
   "metadata": {},
   "outputs": [
    {
     "name": "stdout",
     "output_type": "stream",
     "text": [
      "_________________________________________________________________\n",
      "Layer (type)                 Output Shape              Param #   \n",
      "=================================================================\n",
      "input_2 (InputLayer)         (None, 784)               0         \n",
      "_________________________________________________________________\n",
      "dense_4 (Dense)              (None, 200)               157000    \n",
      "_________________________________________________________________\n",
      "dense_5 (Dense)              (None, 50)                10050     \n",
      "_________________________________________________________________\n",
      "dense_6 (Dense)              (None, 10)                510       \n",
      "=================================================================\n",
      "Total params: 167,560\n",
      "Trainable params: 167,560\n",
      "Non-trainable params: 0\n",
      "_________________________________________________________________\n"
     ]
    }
   ],
   "source": [
    "input = Input((X_train.shape[1],))\n",
    "l1 = Dense(200, activation=\"tanh\")(input)\n",
    "l2 = Dense(50, activation=\"tanh\")(l1)\n",
    "out = Dense(10, activation=\"softmax\")(l2)\n",
    "\n",
    "model = Model(inputs=[input], outputs=[out])\n",
    "model.summary()"
   ]
  },
  {
   "cell_type": "code",
   "execution_count": 14,
   "metadata": {},
   "outputs": [],
   "source": [
    "model.compile(optimizer=\"adam\", loss=\"categorical_crossentropy\", metrics=[\"accuracy\"])"
   ]
  },
  {
   "cell_type": "code",
   "execution_count": 15,
   "metadata": {},
   "outputs": [
    {
     "name": "stdout",
     "output_type": "stream",
     "text": [
      "WARNING:tensorflow:From /usr/local/lib/python3.7/site-packages/tensorflow/python/ops/math_ops.py:3066: to_int32 (from tensorflow.python.ops.math_ops) is deprecated and will be removed in a future version.\n",
      "Instructions for updating:\n",
      "Use tf.cast instead.\n",
      "Epoch 1/20\n",
      "5360/5360 [==============================] - 0s 79us/step - loss: 1.2365 - acc: 0.6231\n",
      "Epoch 2/20\n",
      "5360/5360 [==============================] - 0s 44us/step - loss: 0.5865 - acc: 0.8392\n",
      "Epoch 3/20\n",
      "5360/5360 [==============================] - 0s 61us/step - loss: 0.4696 - acc: 0.8754\n",
      "Epoch 4/20\n",
      "5360/5360 [==============================] - 0s 61us/step - loss: 0.4090 - acc: 0.8879\n",
      "Epoch 5/20\n",
      "5360/5360 [==============================] - 0s 55us/step - loss: 0.3644 - acc: 0.8948\n",
      "Epoch 6/20\n",
      "5360/5360 [==============================] - 0s 59us/step - loss: 0.3407 - acc: 0.9017\n",
      "Epoch 7/20\n",
      "5360/5360 [==============================] - 0s 53us/step - loss: 0.3221 - acc: 0.9086\n",
      "Epoch 8/20\n",
      "5360/5360 [==============================] - 0s 54us/step - loss: 0.3291 - acc: 0.9028\n",
      "Epoch 9/20\n",
      "5360/5360 [==============================] - 0s 58us/step - loss: 0.3139 - acc: 0.9090\n",
      "Epoch 10/20\n",
      "5360/5360 [==============================] - 0s 67us/step - loss: 0.3026 - acc: 0.9078\n",
      "Epoch 11/20\n",
      "5360/5360 [==============================] - 0s 57us/step - loss: 0.2983 - acc: 0.9119\n",
      "Epoch 12/20\n",
      "5360/5360 [==============================] - 0s 55us/step - loss: 0.3122 - acc: 0.9045\n",
      "Epoch 13/20\n",
      "5360/5360 [==============================] - 0s 52us/step - loss: 0.2952 - acc: 0.9131\n",
      "Epoch 14/20\n",
      "5360/5360 [==============================] - 0s 55us/step - loss: 0.2766 - acc: 0.9187\n",
      "Epoch 15/20\n",
      "5360/5360 [==============================] - 0s 55us/step - loss: 0.2747 - acc: 0.9203\n",
      "Epoch 16/20\n",
      "5360/5360 [==============================] - 0s 49us/step - loss: 0.2817 - acc: 0.9151\n",
      "Epoch 17/20\n",
      "5360/5360 [==============================] - 0s 49us/step - loss: 0.2874 - acc: 0.9103\n",
      "Epoch 18/20\n",
      "5360/5360 [==============================] - 0s 40us/step - loss: 0.2694 - acc: 0.9188\n",
      "Epoch 19/20\n",
      "5360/5360 [==============================] - 0s 43us/step - loss: 0.2559 - acc: 0.9168\n",
      "Epoch 20/20\n",
      "5360/5360 [==============================] - 0s 42us/step - loss: 0.2667 - acc: 0.9172\n"
     ]
    }
   ],
   "source": [
    "hist = model.fit(X_train, y_train, epochs=20, batch_size=100)"
   ]
  },
  {
   "cell_type": "code",
   "execution_count": 16,
   "metadata": {},
   "outputs": [
    {
     "data": {
      "text/plain": [
       "<matplotlib.legend.Legend at 0x1340c5f60>"
      ]
     },
     "execution_count": 16,
     "metadata": {},
     "output_type": "execute_result"
    },
    {
     "data": {
      "image/png": "[encoded data removed]",
      "text/plain": [
       "<Figure size 432x288 with 1 Axes>"
      ]
     },
     "metadata": {
      "needs_background": "light"
     },
     "output_type": "display_data"
    },
    {
     "data": {
      "image/png": "[encoded data removed]",
      "text/plain": [
       "<Figure size 432x288 with 1 Axes>"
      ]
     },
     "metadata": {
      "needs_background": "light"
     },
     "output_type": "display_data"
    }
   ],
   "source": [
    "plt.figure(1)\n",
    "\n",
    "plt.plot(hist.history[\"loss\"], label=\"loss\")\n",
    "plt.legend()\n",
    "\n",
    "plt.figure(2)\n",
    "plt.plot(hist.history[\"acc\"], label=\"acc\")\n",
    "plt.legend()\n"
   ]
  },
  {
   "cell_type": "code",
   "execution_count": 17,
   "metadata": {},
   "outputs": [
    {
     "data": {
      "text/plain": [
       "array([9, 1, 4, 8, 0, 8, 2, 2, 4, 0])"
      ]
     },
     "execution_count": 17,
     "metadata": {},
     "output_type": "execute_result"
    }
   ],
   "source": [
    "np.argmax(model.predict(X_test[:10]), axis=1)"
   ]
  },
  {
   "cell_type": "code",
   "execution_count": 18,
   "metadata": {},
   "outputs": [
    {
     "data": {
      "text/plain": [
       "array([9, 1, 4, 8, 0, 8, 2, 2, 4, 8])"
      ]
     },
     "execution_count": 18,
     "metadata": {},
     "output_type": "execute_result"
    }
   ],
   "source": [
    "np.argmax(y_test[:10], axis=1)"
   ]
  },
  {
   "cell_type": "code",
   "execution_count": 19,
   "metadata": {},
   "outputs": [
    {
     "name": "stdout",
     "output_type": "stream",
     "text": [
      "2640/2640 [==============================] - 0s 46us/step\n"
     ]
    },
    {
     "data": {
      "text/plain": [
       "0.8867424242424242"
      ]
     },
     "execution_count": 19,
     "metadata": {},
     "output_type": "execute_result"
    }
   ],
   "source": [
    "model.evaluate(X_test, y_test)[1]"
   ]
  },
  {
   "cell_type": "code",
   "execution_count": null,
   "metadata": {},
   "outputs": [],
   "source": []
  }
 ],
 "metadata": {
  "kernelspec": {
   "display_name": "Python 3",
   "language": "python",
   "name": "python3"
  },
  "language_info": {
   "codemirror_mode": {
    "name": "ipython",
    "version": 3
   },
   "file_extension": ".py",
   "mimetype": "text/x-python",
   "name": "python",
   "nbconvert_exporter": "python",
   "pygments_lexer": "ipython3",
   "version": "3.7.2"
  }
 },
 "nbformat": 4,
 "nbformat_minor": 2
}

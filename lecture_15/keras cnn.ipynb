{
 "cells": [
  {
   "cell_type": "code",
   "execution_count": 15,
   "metadata": {},
   "outputs": [],
   "source": [
    "from keras.models import *\n",
    "from keras.layers import *\n",
    "from keras.losses import *\n",
    "from keras.optimizers import *\n",
    "from keras.utils import to_categorical\n",
    "\n",
    "from sklearn.model_selection import train_test_split\n",
    "\n",
    "import pandas as pd\n",
    "import numpy as np\n",
    "\n",
    "import matplotlib.pyplot as plt"
   ]
  },
  {
   "cell_type": "code",
   "execution_count": 2,
   "metadata": {},
   "outputs": [],
   "source": [
    "data = pd.read_csv(\"../dataset/mnist_train_small.csv\").values"
   ]
  },
  {
   "cell_type": "code",
   "execution_count": 3,
   "metadata": {},
   "outputs": [],
   "source": [
    "X, y = data[:, 2:], data[:, 1:2]"
   ]
  },
  {
   "cell_type": "code",
   "execution_count": 4,
   "metadata": {},
   "outputs": [],
   "source": [
    "y_hot = to_categorical(y)"
   ]
  },
  {
   "cell_type": "code",
   "execution_count": 6,
   "metadata": {},
   "outputs": [],
   "source": [
    "X_train, X_test, y_train, y_test = train_test_split( X, y_hot, test_size=0.33, random_state=42)"
   ]
  },
  {
   "cell_type": "code",
   "execution_count": null,
   "metadata": {},
   "outputs": [],
   "source": []
  },
  {
   "cell_type": "code",
   "execution_count": 20,
   "metadata": {},
   "outputs": [
    {
     "name": "stdout",
     "output_type": "stream",
     "text": [
      "_________________________________________________________________\n",
      "Layer (type)                 Output Shape              Param #   \n",
      "=================================================================\n",
      "dense_5 (Dense)              (None, 200)               157000    \n",
      "_________________________________________________________________\n",
      "dense_6 (Dense)              (None, 50)                10050     \n",
      "_________________________________________________________________\n",
      "dense_7 (Dense)              (None, 10)                510       \n",
      "=================================================================\n",
      "Total params: 167,560\n",
      "Trainable params: 167,560\n",
      "Non-trainable params: 0\n",
      "_________________________________________________________________\n"
     ]
    }
   ],
   "source": [
    "model = Sequential()\n",
    "model.add(Dense(200, input_shape=(X_train.shape[1],), activation=\"tanh\"))\n",
    "model.add(Dense(50, activation=\"tanh\"))\n",
    "model.add(Dense(10, activation=\"softmax\"))\n",
    "\n",
    "model.summary()"
   ]
  },
  {
   "cell_type": "code",
   "execution_count": 21,
   "metadata": {},
   "outputs": [],
   "source": [
    "model.compile(optimizer=\"adam\", loss=\"categorical_crossentropy\", metrics=[\"accuracy\"])"
   ]
  },
  {
   "cell_type": "code",
   "execution_count": 22,
   "metadata": {},
   "outputs": [
    {
     "name": "stdout",
     "output_type": "stream",
     "text": [
      "Epoch 1/20\n",
      "5360/5360 [==============================] - 0s 81us/step - loss: 1.2654 - acc: 0.6220\n",
      "Epoch 2/20\n",
      "5360/5360 [==============================] - 0s 32us/step - loss: 0.6296 - acc: 0.8269\n",
      "Epoch 3/20\n",
      "5360/5360 [==============================] - 0s 39us/step - loss: 0.4914 - acc: 0.8649\n",
      "Epoch 4/20\n",
      "5360/5360 [==============================] - 0s 46us/step - loss: 0.4318 - acc: 0.8793\n",
      "Epoch 5/20\n",
      "5360/5360 [==============================] - 0s 34us/step - loss: 0.3929 - acc: 0.8888\n",
      "Epoch 6/20\n",
      "5360/5360 [==============================] - 0s 39us/step - loss: 0.3700 - acc: 0.8959\n",
      "Epoch 7/20\n",
      "5360/5360 [==============================] - 0s 33us/step - loss: 0.3415 - acc: 0.9030\n",
      "Epoch 8/20\n",
      "5360/5360 [==============================] - 0s 33us/step - loss: 0.3131 - acc: 0.9101\n",
      "Epoch 9/20\n",
      "5360/5360 [==============================] - 0s 33us/step - loss: 0.3288 - acc: 0.9035\n",
      "Epoch 10/20\n",
      "5360/5360 [==============================] - 0s 32us/step - loss: 0.3134 - acc: 0.9093\n",
      "Epoch 11/20\n",
      "5360/5360 [==============================] - 0s 35us/step - loss: 0.3200 - acc: 0.9069\n",
      "Epoch 12/20\n",
      "5360/5360 [==============================] - 0s 34us/step - loss: 0.3091 - acc: 0.9028\n",
      "Epoch 13/20\n",
      "5360/5360 [==============================] - 0s 36us/step - loss: 0.3181 - acc: 0.9039\n",
      "Epoch 14/20\n",
      "5360/5360 [==============================] - 0s 42us/step - loss: 0.2943 - acc: 0.9108\n",
      "Epoch 15/20\n",
      "5360/5360 [==============================] - 0s 34us/step - loss: 0.3070 - acc: 0.9090\n",
      "Epoch 16/20\n",
      "5360/5360 [==============================] - 0s 45us/step - loss: 0.3107 - acc: 0.9045\n",
      "Epoch 17/20\n",
      "5360/5360 [==============================] - 0s 64us/step - loss: 0.2882 - acc: 0.9127\n",
      "Epoch 18/20\n",
      "5360/5360 [==============================] - 0s 44us/step - loss: 0.2729 - acc: 0.9168\n",
      "Epoch 19/20\n",
      "5360/5360 [==============================] - 0s 40us/step - loss: 0.2924 - acc: 0.9112\n",
      "Epoch 20/20\n",
      "5360/5360 [==============================] - 0s 57us/step - loss: 0.2967 - acc: 0.9101\n"
     ]
    }
   ],
   "source": [
    "hist = model.fit(X_train, y_train, epochs=20, batch_size=100)"
   ]
  },
  {
   "cell_type": "code",
   "execution_count": 23,
   "metadata": {},
   "outputs": [
    {
     "data": {
      "text/plain": [
       "<matplotlib.legend.Legend at 0x12dfe3908>"
      ]
     },
     "execution_count": 23,
     "metadata": {},
     "output_type": "execute_result"
    },
    {
     "data": {
      "image/png": "[encoded data removed]",
      "text/plain": [
       "<Figure size 432x288 with 1 Axes>"
      ]
     },
     "metadata": {
      "needs_background": "light"
     },
     "output_type": "display_data"
    },
    {
     "data": {
      "image/png": "[encoded data removed]",
      "text/plain": [
       "<Figure size 432x288 with 1 Axes>"
      ]
     },
     "metadata": {
      "needs_background": "light"
     },
     "output_type": "display_data"
    }
   ],
   "source": [
    "plt.figure(1)\n",
    "\n",
    "plt.plot(hist.history[\"loss\"], label=\"loss\")\n",
    "plt.legend()\n",
    "\n",
    "plt.figure(2)\n",
    "plt.plot(hist.history[\"acc\"], label=\"acc\")\n",
    "plt.legend()\n"
   ]
  },
  {
   "cell_type": "code",
   "execution_count": 27,
   "metadata": {},
   "outputs": [
    {
     "data": {
      "text/plain": [
       "array([9, 1, 4, 8, 0, 8, 2, 2, 4, 8])"
      ]
     },
     "execution_count": 27,
     "metadata": {},
     "output_type": "execute_result"
    }
   ],
   "source": [
    "np.argmax(model.predict(X_test[:10]), axis=1)"
   ]
  },
  {
   "cell_type": "code",
   "execution_count": 28,
   "metadata": {},
   "outputs": [
    {
     "data": {
      "text/plain": [
       "array([9, 1, 4, 8, 0, 8, 2, 2, 4, 8])"
      ]
     },
     "execution_count": 28,
     "metadata": {},
     "output_type": "execute_result"
    }
   ],
   "source": [
    "np.argmax(y_test[:10], axis=1)"
   ]
  },
  {
   "cell_type": "code",
   "execution_count": 31,
   "metadata": {},
   "outputs": [
    {
     "name": "stdout",
     "output_type": "stream",
     "text": [
      "2640/2640 [==============================] - 0s 39us/step\n"
     ]
    },
    {
     "data": {
      "text/plain": [
       "0.8912878787878787"
      ]
     },
     "execution_count": 31,
     "metadata": {},
     "output_type": "execute_result"
    }
   ],
   "source": [
    "model.evaluate(X_test, y_test)[1]"
   ]
  },
  {
   "cell_type": "code",
   "execution_count": null,
   "metadata": {},
   "outputs": [],
   "source": []
  }
 ],
 "metadata": {
  "kernelspec": {
   "display_name": "Python 3",
   "language": "python",
   "name": "python3"
  },
  "language_info": {
   "codemirror_mode": {
    "name": "ipython",
    "version": 3
   },
   "file_extension": ".py",
   "mimetype": "text/x-python",
   "name": "python",
   "nbconvert_exporter": "python",
   "pygments_lexer": "ipython3",
   "version": "3.7.2"
  }
 },
 "nbformat": 4,
 "nbformat_minor": 2
}

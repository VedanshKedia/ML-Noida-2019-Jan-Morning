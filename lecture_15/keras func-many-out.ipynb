{
 "cells": [
  {
   "cell_type": "code",
   "execution_count": 1,
   "metadata": {},
   "outputs": [
    {
     "name": "stderr",
     "output_type": "stream",
     "text": [
      "Using TensorFlow backend.\n"
     ]
    }
   ],
   "source": [
    "from keras.models import *\n",
    "from keras.layers import *\n",
    "from keras.losses import *\n",
    "from keras.optimizers import *\n",
    "from keras.utils import to_categorical\n",
    "\n",
    "from sklearn.model_selection import train_test_split\n",
    "\n",
    "import pandas as pd\n",
    "import numpy as np\n",
    "\n",
    "import matplotlib.pyplot as plt"
   ]
  },
  {
   "cell_type": "code",
   "execution_count": 2,
   "metadata": {},
   "outputs": [],
   "source": [
    "data = pd.read_csv(\"../dataset/mnist_train_small.csv\").values"
   ]
  },
  {
   "cell_type": "code",
   "execution_count": 3,
   "metadata": {},
   "outputs": [],
   "source": [
    "X, y = data[:, 2:], data[:, 1:2]"
   ]
  },
  {
   "cell_type": "code",
   "execution_count": 4,
   "metadata": {},
   "outputs": [],
   "source": [
    "y_sec = 9 - y"
   ]
  },
  {
   "cell_type": "code",
   "execution_count": 6,
   "metadata": {},
   "outputs": [],
   "source": [
    "y_hot = to_categorical(y)"
   ]
  },
  {
   "cell_type": "code",
   "execution_count": 10,
   "metadata": {},
   "outputs": [],
   "source": [
    "y_sec_hot = to_categorical(y_sec)"
   ]
  },
  {
   "cell_type": "code",
   "execution_count": 11,
   "metadata": {},
   "outputs": [],
   "source": [
    "y_out = np.hstack([y_hot, y_sec_hot])"
   ]
  },
  {
   "cell_type": "code",
   "execution_count": 14,
   "metadata": {},
   "outputs": [],
   "source": [
    "X_train, X_test, y_train, y_test = train_test_split( X, y_out, test_size=0.33, random_state=42)"
   ]
  },
  {
   "cell_type": "code",
   "execution_count": 24,
   "metadata": {},
   "outputs": [],
   "source": [
    "y_train_1, y_train_2 = y_train[:, :10], y_train[:, 10:]\n",
    "y_test_1, y_test_2 = y_test[:, :10], y_test[:, 10:]"
   ]
  },
  {
   "cell_type": "code",
   "execution_count": 26,
   "metadata": {
    "scrolled": true
   },
   "outputs": [
    {
     "name": "stdout",
     "output_type": "stream",
     "text": [
      "__________________________________________________________________________________________________\n",
      "Layer (type)                    Output Shape         Param #     Connected to                     \n",
      "==================================================================================================\n",
      "input (InputLayer)              (None, 784)          0                                            \n",
      "__________________________________________________________________________________________________\n",
      "first (Dense)                   (None, 200)          157000      input[0][0]                      \n",
      "__________________________________________________________________________________________________\n",
      "top (Dense)                     (None, 200)          40200       first[0][0]                      \n",
      "__________________________________________________________________________________________________\n",
      "bottom (Dense)                  (None, 200)          40200       first[0][0]                      \n",
      "__________________________________________________________________________________________________\n",
      "top2 (Dense)                    (None, 50)           10050       top[0][0]                        \n",
      "__________________________________________________________________________________________________\n",
      "bottom2 (Dense)                 (None, 50)           10050       bottom[0][0]                     \n",
      "__________________________________________________________________________________________________\n",
      "dense_8 (Dense)                 (None, 10)           510         top2[0][0]                       \n",
      "__________________________________________________________________________________________________\n",
      "dense_9 (Dense)                 (None, 10)           510         bottom2[0][0]                    \n",
      "==================================================================================================\n",
      "Total params: 258,520\n",
      "Trainable params: 258,520\n",
      "Non-trainable params: 0\n",
      "__________________________________________________________________________________________________\n"
     ]
    }
   ],
   "source": [
    "input = Input((X_train.shape[1],), name=\"input\")\n",
    "l1 = Dense(200, activation=\"tanh\", name=\"first\")(input)\n",
    "l21 = Dense(200, activation=\"tanh\", name=\"top\")(l1)\n",
    "l22 = Dense(200, activation=\"tanh\", name=\"bottom\")(l1)\n",
    "l31 = Dense(50, activation=\"tanh\", name=\"top2\")(l21)\n",
    "l32 = Dense(50, activation=\"tanh\", name=\"bottom2\")(l22)\n",
    "out1 = Dense(10, activation=\"softmax\")(l31)\n",
    "out2 = Dense(10, activation=\"softmax\")(l32)\n",
    "\n",
    "model = Model(inputs=[input], outputs=[out1, out2])\n",
    "model.summary()"
   ]
  },
  {
   "cell_type": "code",
   "execution_count": 27,
   "metadata": {},
   "outputs": [],
   "source": [
    "model.compile(optimizer=\"adam\", loss=\"categorical_crossentropy\", metrics=[\"accuracy\"])"
   ]
  },
  {
   "cell_type": "code",
   "execution_count": 28,
   "metadata": {},
   "outputs": [
    {
     "name": "stdout",
     "output_type": "stream",
     "text": [
      "Epoch 1/20\n",
      "5360/5360 [==============================] - 1s 162us/step - loss: 1.9949 - dense_8_loss: 1.0298 - dense_9_loss: 0.9650 - dense_8_acc: 0.6938 - dense_9_acc: 0.7211\n",
      "Epoch 2/20\n",
      "5360/5360 [==============================] - 0s 60us/step - loss: 0.9299 - dense_8_loss: 0.4695 - dense_9_loss: 0.4604 - dense_8_acc: 0.8729 - dense_9_acc: 0.8696\n",
      "Epoch 3/20\n",
      "5360/5360 [==============================] - 1s 102us/step - loss: 0.7647 - dense_8_loss: 0.3810 - dense_9_loss: 0.3836 - dense_8_acc: 0.8897 - dense_9_acc: 0.8879\n",
      "Epoch 4/20\n",
      "5360/5360 [==============================] - 0s 80us/step - loss: 0.7117 - dense_8_loss: 0.3554 - dense_9_loss: 0.3564 - dense_8_acc: 0.8938 - dense_9_acc: 0.8929\n",
      "Epoch 5/20\n",
      "5360/5360 [==============================] - 1s 96us/step - loss: 0.6807 - dense_8_loss: 0.3370 - dense_9_loss: 0.3437 - dense_8_acc: 0.9024 - dense_9_acc: 0.9002\n",
      "Epoch 6/20\n",
      "5360/5360 [==============================] - 0s 76us/step - loss: 0.6840 - dense_8_loss: 0.3405 - dense_9_loss: 0.3436 - dense_8_acc: 0.8931 - dense_9_acc: 0.8931\n",
      "Epoch 7/20\n",
      "5360/5360 [==============================] - 0s 75us/step - loss: 0.6669 - dense_8_loss: 0.3318 - dense_9_loss: 0.3351 - dense_8_acc: 0.9009 - dense_9_acc: 0.9024\n",
      "Epoch 8/20\n",
      "5360/5360 [==============================] - 0s 83us/step - loss: 0.6455 - dense_8_loss: 0.3268 - dense_9_loss: 0.3187 - dense_8_acc: 0.8985 - dense_9_acc: 0.9007\n",
      "Epoch 9/20\n",
      "5360/5360 [==============================] - 0s 78us/step - loss: 0.5988 - dense_8_loss: 0.3008 - dense_9_loss: 0.2979 - dense_8_acc: 0.9052 - dense_9_acc: 0.9071\n",
      "Epoch 10/20\n",
      "5360/5360 [==============================] - 0s 58us/step - loss: 0.6402 - dense_8_loss: 0.3201 - dense_9_loss: 0.3201 - dense_8_acc: 0.8931 - dense_9_acc: 0.8942\n",
      "Epoch 11/20\n",
      "5360/5360 [==============================] - 0s 75us/step - loss: 0.6427 - dense_8_loss: 0.3215 - dense_9_loss: 0.3212 - dense_8_acc: 0.8979 - dense_9_acc: 0.9052\n",
      "Epoch 12/20\n",
      "5360/5360 [==============================] - ETA: 0s - loss: 0.6386 - dense_8_loss: 0.3196 - dense_9_loss: 0.3190 - dense_8_acc: 0.9000 - dense_9_acc: 0.900 - 0s 59us/step - loss: 0.6309 - dense_8_loss: 0.3153 - dense_9_loss: 0.3156 - dense_8_acc: 0.9015 - dense_9_acc: 0.9021\n",
      "Epoch 13/20\n",
      "5360/5360 [==============================] - 0s 59us/step - loss: 0.6340 - dense_8_loss: 0.3168 - dense_9_loss: 0.3172 - dense_8_acc: 0.9026 - dense_9_acc: 0.8979\n",
      "Epoch 14/20\n",
      "5360/5360 [==============================] - 0s 58us/step - loss: 0.5898 - dense_8_loss: 0.2945 - dense_9_loss: 0.2953 - dense_8_acc: 0.9071 - dense_9_acc: 0.9069\n",
      "Epoch 15/20\n",
      "5360/5360 [==============================] - 0s 89us/step - loss: 0.5760 - dense_8_loss: 0.2870 - dense_9_loss: 0.2890 - dense_8_acc: 0.9097 - dense_9_acc: 0.9073\n",
      "Epoch 16/20\n",
      "5360/5360 [==============================] - 0s 87us/step - loss: 0.5647 - dense_8_loss: 0.2810 - dense_9_loss: 0.2837 - dense_8_acc: 0.9082 - dense_9_acc: 0.9069\n",
      "Epoch 17/20\n",
      "5360/5360 [==============================] - 0s 90us/step - loss: 0.5739 - dense_8_loss: 0.2886 - dense_9_loss: 0.2852 - dense_8_acc: 0.9073 - dense_9_acc: 0.9091\n",
      "Epoch 18/20\n",
      "5360/5360 [==============================] - 0s 86us/step - loss: 0.5849 - dense_8_loss: 0.2916 - dense_9_loss: 0.2933 - dense_8_acc: 0.9056 - dense_9_acc: 0.9078\n",
      "Epoch 19/20\n",
      "5360/5360 [==============================] - 0s 91us/step - loss: 0.5353 - dense_8_loss: 0.2688 - dense_9_loss: 0.2665 - dense_8_acc: 0.9149 - dense_9_acc: 0.9168\n",
      "Epoch 20/20\n",
      "5360/5360 [==============================] - 0s 87us/step - loss: 0.5279 - dense_8_loss: 0.2662 - dense_9_loss: 0.2617 - dense_8_acc: 0.9177 - dense_9_acc: 0.9192\n"
     ]
    }
   ],
   "source": [
    "hist = model.fit(X_train, [y_train_1, y_train_2], epochs=20, batch_size=100)"
   ]
  },
  {
   "cell_type": "code",
   "execution_count": 29,
   "metadata": {},
   "outputs": [],
   "source": [
    "# plt.figure(1)\n",
    "\n",
    "# plt.plot(hist.history[\"loss\"], label=\"loss\")\n",
    "# plt.legend()\n",
    "\n",
    "# plt.figure(2)\n",
    "# plt.plot(hist.history[\"acc\"], label=\"acc\")\n",
    "# plt.legend()\n"
   ]
  },
  {
   "cell_type": "code",
   "execution_count": 17,
   "metadata": {},
   "outputs": [
    {
     "data": {
      "text/plain": [
       "array([9, 1, 4, 8, 0, 8, 2, 2, 4, 0])"
      ]
     },
     "execution_count": 17,
     "metadata": {},
     "output_type": "execute_result"
    }
   ],
   "source": [
    "np.argmax(model.predict(X_test[:10]), axis=1)"
   ]
  },
  {
   "cell_type": "code",
   "execution_count": 18,
   "metadata": {},
   "outputs": [
    {
     "data": {
      "text/plain": [
       "array([9, 1, 4, 8, 0, 8, 2, 2, 4, 8])"
      ]
     },
     "execution_count": 18,
     "metadata": {},
     "output_type": "execute_result"
    }
   ],
   "source": [
    "np.argmax(y_test[:10], axis=1)"
   ]
  },
  {
   "cell_type": "code",
   "execution_count": null,
   "metadata": {},
   "outputs": [],
   "source": []
  },
  {
   "cell_type": "code",
   "execution_count": 31,
   "metadata": {},
   "outputs": [
    {
     "name": "stdout",
     "output_type": "stream",
     "text": [
      "2640/2640 [==============================] - 0s 50us/step\n"
     ]
    },
    {
     "data": {
      "text/plain": [
       "[0.6469218839298595,\n",
       " 0.3224104856902903,\n",
       " 0.3245113980589491,\n",
       " 0.8965909090909091,\n",
       " 0.9022727272727272]"
      ]
     },
     "execution_count": 31,
     "metadata": {},
     "output_type": "execute_result"
    }
   ],
   "source": [
    "model.evaluate(X_test, [y_test_1, y_test_2])"
   ]
  },
  {
   "cell_type": "code",
   "execution_count": null,
   "metadata": {},
   "outputs": [],
   "source": []
  }
 ],
 "metadata": {
  "kernelspec": {
   "display_name": "Python 3",
   "language": "python",
   "name": "python3"
  },
  "language_info": {
   "codemirror_mode": {
    "name": "ipython",
    "version": 3
   },
   "file_extension": ".py",
   "mimetype": "text/x-python",
   "name": "python",
   "nbconvert_exporter": "python",
   "pygments_lexer": "ipython3",
   "version": "3.7.2"
  }
 },
 "nbformat": 4,
 "nbformat_minor": 2
}

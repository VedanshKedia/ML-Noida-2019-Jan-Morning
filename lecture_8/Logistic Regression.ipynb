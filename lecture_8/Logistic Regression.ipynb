{
 "cells": [
  {
   "cell_type": "code",
   "execution_count": 18,
   "metadata": {},
   "outputs": [],
   "source": [
    "import numpy as np\n",
    "from sklearn.datasets import make_blobs\n",
    "import matplotlib.pyplot as plt"
   ]
  },
  {
   "cell_type": "code",
   "execution_count": 19,
   "metadata": {},
   "outputs": [],
   "source": [
    "X, Y = make_blobs(n_samples=100, n_features=2, centers=2)"
   ]
  },
  {
   "cell_type": "code",
   "execution_count": 20,
   "metadata": {},
   "outputs": [
    {
     "data": {
      "text/plain": [
       "<matplotlib.collections.PathCollection at 0x11eabeb70>"
      ]
     },
     "execution_count": 20,
     "metadata": {},
     "output_type": "execute_result"
    },
    {
     "data": {
      "image/png": "[encoded data removed]",
      "text/plain": [
       "<Figure size 432x288 with 1 Axes>"
      ]
     },
     "metadata": {
      "needs_background": "light"
     },
     "output_type": "display_data"
    }
   ],
   "source": [
    "plt.scatter(X[:, 0], X[:, 1], c=Y)"
   ]
  },
  {
   "cell_type": "code",
   "execution_count": 21,
   "metadata": {},
   "outputs": [
    {
     "data": {
      "text/plain": [
       "array([[ 1.        ,  4.86559375, -2.30490299],\n",
       "       [ 1.        ,  5.54696246, -2.17037494],\n",
       "       [ 1.        ,  4.63928093, -2.70644016],\n",
       "       [ 1.        ,  6.74586075, -1.55065551],\n",
       "       [ 1.        ,  5.77215405, -3.68732296]])"
      ]
     },
     "execution_count": 21,
     "metadata": {},
     "output_type": "execute_result"
    }
   ],
   "source": [
    "ones = np.ones([X.shape[0], 1])\n",
    "X = np.hstack([ones, X])\n",
    "\n",
    "X[:5]"
   ]
  },
  {
   "cell_type": "code",
   "execution_count": 55,
   "metadata": {},
   "outputs": [],
   "source": [
    "class LogisticRegression:\n",
    "    \n",
    "    def __init__(self, X_train, Y_train, lr = .1, itrs=100):\n",
    "        \n",
    "        self.dim = X_train.shape[1]\n",
    "        self.theta = np.zeros([1, self.dim])\n",
    "        self.X_train = X_train\n",
    "        self.Y_train = Y_train\n",
    "        self.lr = lr\n",
    "        self.itrs = itrs\n",
    "        \n",
    "    def hypothesis(self, x):\n",
    "        z = np.dot(self.theta, x)\n",
    "        return self.sigmoid(z)\n",
    "    \n",
    "    def sigmoid(self, z):\n",
    "        return 1/(1 + np.exp(-z))\n",
    "        \n",
    "    def gradient_dec(self):\n",
    "        \n",
    "        gradient = np.zeros_like(self.theta)\n",
    "        \n",
    "        for xi, yi in zip(self.X_train, self.Y_train):\n",
    "            xi = xi.reshape(-1, 1)\n",
    "            yh = self.hypothesis(xi)\n",
    "            print(self.theta.shape)\n",
    "            gradient = gradient + (yi - yh) * xi\n",
    "        \n",
    "        gradient = gradient / self.X_train.shape[0] * self.lr\n",
    "        \n",
    "        self.theta = self.theta + gradient\n",
    "            "
   ]
  },
  {
   "cell_type": "code",
   "execution_count": 56,
   "metadata": {},
   "outputs": [],
   "source": [
    "model = LogisticRegression(X, Y)"
   ]
  },
  {
   "cell_type": "code",
   "execution_count": 57,
   "metadata": {},
   "outputs": [
    {
     "name": "stdout",
     "output_type": "stream",
     "text": [
      "(1, 3)\n",
      "(1, 3)\n",
      "(1, 3)\n",
      "(1, 3)\n",
      "(1, 3)\n",
      "(1, 3)\n",
      "(1, 3)\n",
      "(1, 3)\n",
      "(1, 3)\n",
      "(1, 3)\n",
      "(1, 3)\n",
      "(1, 3)\n",
      "(1, 3)\n",
      "(1, 3)\n",
      "(1, 3)\n",
      "(1, 3)\n",
      "(1, 3)\n",
      "(1, 3)\n",
      "(1, 3)\n",
      "(1, 3)\n",
      "(1, 3)\n",
      "(1, 3)\n",
      "(1, 3)\n",
      "(1, 3)\n",
      "(1, 3)\n",
      "(1, 3)\n",
      "(1, 3)\n",
      "(1, 3)\n",
      "(1, 3)\n",
      "(1, 3)\n",
      "(1, 3)\n",
      "(1, 3)\n",
      "(1, 3)\n",
      "(1, 3)\n",
      "(1, 3)\n",
      "(1, 3)\n",
      "(1, 3)\n",
      "(1, 3)\n",
      "(1, 3)\n",
      "(1, 3)\n",
      "(1, 3)\n",
      "(1, 3)\n",
      "(1, 3)\n",
      "(1, 3)\n",
      "(1, 3)\n",
      "(1, 3)\n",
      "(1, 3)\n",
      "(1, 3)\n",
      "(1, 3)\n",
      "(1, 3)\n",
      "(1, 3)\n",
      "(1, 3)\n",
      "(1, 3)\n",
      "(1, 3)\n",
      "(1, 3)\n",
      "(1, 3)\n",
      "(1, 3)\n",
      "(1, 3)\n",
      "(1, 3)\n",
      "(1, 3)\n",
      "(1, 3)\n",
      "(1, 3)\n",
      "(1, 3)\n",
      "(1, 3)\n",
      "(1, 3)\n",
      "(1, 3)\n",
      "(1, 3)\n",
      "(1, 3)\n",
      "(1, 3)\n",
      "(1, 3)\n",
      "(1, 3)\n",
      "(1, 3)\n",
      "(1, 3)\n",
      "(1, 3)\n",
      "(1, 3)\n",
      "(1, 3)\n",
      "(1, 3)\n",
      "(1, 3)\n",
      "(1, 3)\n",
      "(1, 3)\n",
      "(1, 3)\n",
      "(1, 3)\n",
      "(1, 3)\n",
      "(1, 3)\n",
      "(1, 3)\n",
      "(1, 3)\n",
      "(1, 3)\n",
      "(1, 3)\n",
      "(1, 3)\n",
      "(1, 3)\n",
      "(1, 3)\n",
      "(1, 3)\n",
      "(1, 3)\n",
      "(1, 3)\n",
      "(1, 3)\n",
      "(1, 3)\n",
      "(1, 3)\n",
      "(1, 3)\n",
      "(1, 3)\n",
      "(1, 3)\n",
      "[[ 0.          0.          0.        ]\n",
      " [-0.19614592 -0.19614592 -0.19614592]\n",
      " [ 0.27300163  0.27300163  0.27300163]]\n"
     ]
    }
   ],
   "source": [
    "model.gradient_dec()\n",
    "\n",
    "print(model.theta)"
   ]
  },
  {
   "cell_type": "code",
   "execution_count": null,
   "metadata": {},
   "outputs": [],
   "source": []
  }
 ],
 "metadata": {
  "kernelspec": {
   "display_name": "Python 3",
   "language": "python",
   "name": "python3"
  },
  "language_info": {
   "codemirror_mode": {
    "name": "ipython",
    "version": 3
   },
   "file_extension": ".py",
   "mimetype": "text/x-python",
   "name": "python",
   "nbconvert_exporter": "python",
   "pygments_lexer": "ipython3",
   "version": "3.7.1"
  }
 },
 "nbformat": 4,
 "nbformat_minor": 2
}

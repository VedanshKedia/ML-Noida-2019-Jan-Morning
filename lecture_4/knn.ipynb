{
 "cells": [
  {
   "cell_type": "code",
   "execution_count": 2,
   "metadata": {},
   "outputs": [],
   "source": [
    "import numpy as np\n",
    "import matplotlib.pyplot as plt\n",
    "import pandas as pd"
   ]
  },
  {
   "cell_type": "code",
   "execution_count": 54,
   "metadata": {},
   "outputs": [
    {
     "name": "stdout",
     "output_type": "stream",
     "text": [
      "(1000, 2)\n"
     ]
    }
   ],
   "source": [
    "mean_1 = np.array([4, 4])\n",
    "covar_1 = np.array([[1, 0], [0, 1]])\n",
    "\n",
    "dist_1 = np.random.multivariate_normal(mean_1, covar_1, 1000)\n",
    "\n",
    "mean_2 = np.array([8, 8])\n",
    "covar_2 = np.array([[1, 0], [0, 1]])\n",
    "\n",
    "dist_2 = np.random.multivariate_normal(mean_2, covar_2, 100)\n",
    "\n",
    "print(dist_1.shape)"
   ]
  },
  {
   "cell_type": "code",
   "execution_count": 56,
   "metadata": {},
   "outputs": [
    {
     "data": {
      "text/plain": [
       "<matplotlib.collections.PathCollection at 0x1190f8940>"
      ]
     },
     "execution_count": 56,
     "metadata": {},
     "output_type": "execute_result"
    },
    {
     "data": {
      "image/png": "[encoded data removed]",
      "text/plain": [
       "<Figure size 432x288 with 1 Axes>"
      ]
     },
     "metadata": {
      "needs_background": "light"
     },
     "output_type": "display_data"
    }
   ],
   "source": [
    "plt.scatter(dist_1[:, 0], dist_1[:, 1], s = 6)\n",
    "plt.scatter(dist_2[:, 0], dist_2[:, 1], s = 6)"
   ]
  },
  {
   "cell_type": "code",
   "execution_count": 15,
   "metadata": {},
   "outputs": [
    {
     "data": {
      "text/plain": [
       "(1000, 2)"
      ]
     },
     "execution_count": 15,
     "metadata": {},
     "output_type": "execute_result"
    }
   ],
   "source": [
    "dist_1.shape"
   ]
  },
  {
   "cell_type": "code",
   "execution_count": 58,
   "metadata": {},
   "outputs": [],
   "source": [
    "data = np.zeros([dist_1.shape[0] + dist_2.shape[0], dist_1.shape[1]+1])"
   ]
  },
  {
   "cell_type": "code",
   "execution_count": 59,
   "metadata": {},
   "outputs": [],
   "source": [
    "data[0:dist_1.shape[0], 1:] = dist_1\n",
    "data[dist_1.shape[0]:, 1:] = dist_2\n",
    "\n",
    "data[0:dist_1.shape[0], 0] = 1\n",
    "data[dist_1.shape[0]:, 0] = 2"
   ]
  },
  {
   "cell_type": "code",
   "execution_count": 60,
   "metadata": {},
   "outputs": [
    {
     "name": "stdout",
     "output_type": "stream",
     "text": [
      "4.242640687119285\n"
     ]
    }
   ],
   "source": [
    "def eu_dist(p1, p2):\n",
    "    \n",
    "    return np.sqrt(np.sum((p1-p2)**2))\n",
    "\n",
    "\n",
    "print(eu_dist(np.array([0, 0]), np.array([3, 3])))"
   ]
  },
  {
   "cell_type": "code",
   "execution_count": 52,
   "metadata": {},
   "outputs": [],
   "source": [
    "def eu_dist(p1, p2):\n",
    "    \n",
    "    return np.sqrt(np.sum((p1-p2)**2))\n",
    "\n",
    "def knn(X_train, Y_train, test, k=5):\n",
    "    \n",
    "    doori = []\n",
    "    \n",
    "    for x, y in zip(X_train, Y_train):\n",
    "        d = eu_dist(x, test)\n",
    "        doori.append((d, y))\n",
    "    \n",
    "    doori = sorted(doori, key=lambda x: x[0])\n",
    "    doori = doori[:k]\n",
    "    \n",
    "    k_dist = np.array(doori)\n",
    "    \n",
    "    items, counts = np.unique(k_dist[:,1], return_counts=True)\n",
    "    \n",
    "    print(items, counts)\n",
    "    \n",
    "    return items[np.argmax(counts)]\n",
    "    \n",
    "    \n",
    "    \n",
    "    "
   ]
  },
  {
   "cell_type": "code",
   "execution_count": 65,
   "metadata": {},
   "outputs": [
    {
     "name": "stdout",
     "output_type": "stream",
     "text": [
      "[1. 2.] [91 90]\n",
      "1.0\n"
     ]
    }
   ],
   "source": [
    "X_train = data[:, 1:]\n",
    "Y_train = data[:, 0]\n",
    "\n",
    "test = np.array([7, 7])\n",
    "\n",
    "lab = knn(X_train, Y_train, test, 181)\n",
    "\n",
    "print(lab)"
   ]
  },
  {
   "cell_type": "code",
   "execution_count": 30,
   "metadata": {},
   "outputs": [],
   "source": [
    "?np.unique"
   ]
  },
  {
   "cell_type": "code",
   "execution_count": null,
   "metadata": {},
   "outputs": [],
   "source": []
  }
 ],
 "metadata": {
  "kernelspec": {
   "display_name": "Python 3",
   "language": "python",
   "name": "python3"
  },
  "language_info": {
   "codemirror_mode": {
    "name": "ipython",
    "version": 3
   },
   "file_extension": ".py",
   "mimetype": "text/x-python",
   "name": "python",
   "nbconvert_exporter": "python",
   "pygments_lexer": "ipython3",
   "version": "3.7.1"
  }
 },
 "nbformat": 4,
 "nbformat_minor": 2
}

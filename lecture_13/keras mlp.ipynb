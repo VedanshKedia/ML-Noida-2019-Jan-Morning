{
 "cells": [
  {
   "cell_type": "code",
   "execution_count": 145,
   "metadata": {},
   "outputs": [],
   "source": [
    "from keras.models import Sequential\n",
    "from keras.layers import Dense\n",
    "from keras.optimizers import Adam\n",
    "from keras.losses import categorical_crossentropy\n",
    "from sklearn.datasets import make_moons\n",
    "from sklearn.model_selection import train_test_split\n",
    "from sklearn.preprocessing import OneHotEncoder\n",
    "import matplotlib.pyplot as plt\n",
    "import numpy as np"
   ]
  },
  {
   "cell_type": "code",
   "execution_count": 147,
   "metadata": {},
   "outputs": [],
   "source": [
    "X, y = make_moons(n_samples=1000)"
   ]
  },
  {
   "cell_type": "code",
   "execution_count": 150,
   "metadata": {},
   "outputs": [],
   "source": [
    "# X, y = make_moons"
   ]
  },
  {
   "cell_type": "code",
   "execution_count": 151,
   "metadata": {},
   "outputs": [],
   "source": [
    "# X, y = make_circles"
   ]
  },
  {
   "cell_type": "code",
   "execution_count": 152,
   "metadata": {},
   "outputs": [],
   "source": [
    "ohe = OneHotEncoder(categories='auto')\n",
    "y_hot = ohe.fit_transform(y.reshape(-1, 1)).todense()"
   ]
  },
  {
   "cell_type": "code",
   "execution_count": 153,
   "metadata": {},
   "outputs": [
    {
     "name": "stdout",
     "output_type": "stream",
     "text": [
      "[0 1 0 1 0 0 0 0 0 1]\n",
      "[[1. 0.]\n",
      " [0. 1.]\n",
      " [1. 0.]\n",
      " [0. 1.]\n",
      " [1. 0.]\n",
      " [1. 0.]\n",
      " [1. 0.]\n",
      " [1. 0.]\n",
      " [1. 0.]\n",
      " [0. 1.]]\n"
     ]
    }
   ],
   "source": [
    "print(y[:10])\n",
    "print(y_hot[:10])"
   ]
  },
  {
   "cell_type": "code",
   "execution_count": 154,
   "metadata": {},
   "outputs": [],
   "source": [
    "X_train, X_test, y_train, y_test = train_test_split(X, y_hot, test_size=0.33, random_state=42)"
   ]
  },
  {
   "cell_type": "markdown",
   "metadata": {},
   "source": [
    "## Generating seq Model"
   ]
  },
  {
   "cell_type": "code",
   "execution_count": 162,
   "metadata": {},
   "outputs": [
    {
     "name": "stdout",
     "output_type": "stream",
     "text": [
      "_________________________________________________________________\n",
      "Layer (type)                 Output Shape              Param #   \n",
      "=================================================================\n",
      "dense_36 (Dense)             (None, 8)                 24        \n",
      "_________________________________________________________________\n",
      "dense_37 (Dense)             (None, 8)                 72        \n",
      "_________________________________________________________________\n",
      "dense_38 (Dense)             (None, 2)                 18        \n",
      "=================================================================\n",
      "Total params: 114\n",
      "Trainable params: 114\n",
      "Non-trainable params: 0\n",
      "_________________________________________________________________\n"
     ]
    }
   ],
   "source": [
    "model = Sequential()\n",
    "model.add(Dense(8, activation=\"tanh\", input_shape=[X.shape[1]]))\n",
    "model.add(Dense(8, activation=\"tanh\"))\n",
    "model.add(Dense(y_hot.shape[1], activation=\"softmax\"))\n",
    "model.summary()"
   ]
  },
  {
   "cell_type": "code",
   "execution_count": 164,
   "metadata": {},
   "outputs": [],
   "source": [
    "model.compile(optimizer=\"adam\", loss=categorical_crossentropy, metrics=[\"accuracy\"])\n",
    "# model.compile?"
   ]
  },
  {
   "cell_type": "code",
   "execution_count": 165,
   "metadata": {},
   "outputs": [
    {
     "name": "stdout",
     "output_type": "stream",
     "text": [
      "Epoch 1/100\n",
      "670/670 [==============================] - 1s 791us/step - loss: 0.4020 - acc: 0.8791\n",
      "Epoch 2/100\n",
      "670/670 [==============================] - 0s 93us/step - loss: 0.3413 - acc: 0.8806\n",
      "Epoch 3/100\n",
      "670/670 [==============================] - 0s 82us/step - loss: 0.3053 - acc: 0.8806\n",
      "Epoch 4/100\n",
      "670/670 [==============================] - 0s 89us/step - loss: 0.2811 - acc: 0.8836\n",
      "Epoch 5/100\n",
      "670/670 [==============================] - 0s 210us/step - loss: 0.2655 - acc: 0.8836\n",
      "Epoch 6/100\n",
      "670/670 [==============================] - 0s 160us/step - loss: 0.2563 - acc: 0.8910\n",
      "Epoch 7/100\n",
      "670/670 [==============================] - 0s 99us/step - loss: 0.2485 - acc: 0.8896\n",
      "Epoch 8/100\n",
      "670/670 [==============================] - 0s 91us/step - loss: 0.2445 - acc: 0.8940\n",
      "Epoch 9/100\n",
      "670/670 [==============================] - 0s 70us/step - loss: 0.2410 - acc: 0.8955\n",
      "Epoch 10/100\n",
      "670/670 [==============================] - 0s 90us/step - loss: 0.2386 - acc: 0.8970\n",
      "Epoch 11/100\n",
      "670/670 [==============================] - 0s 73us/step - loss: 0.2378 - acc: 0.8985\n",
      "Epoch 12/100\n",
      "670/670 [==============================] - 0s 82us/step - loss: 0.2367 - acc: 0.8970\n",
      "Epoch 13/100\n",
      "670/670 [==============================] - 0s 71us/step - loss: 0.2350 - acc: 0.9000\n",
      "Epoch 14/100\n",
      "670/670 [==============================] - 0s 77us/step - loss: 0.2346 - acc: 0.9000\n",
      "Epoch 15/100\n",
      "670/670 [==============================] - 0s 68us/step - loss: 0.2337 - acc: 0.9000\n",
      "Epoch 16/100\n",
      "670/670 [==============================] - 0s 78us/step - loss: 0.2339 - acc: 0.8985\n",
      "Epoch 17/100\n",
      "670/670 [==============================] - 0s 79us/step - loss: 0.2342 - acc: 0.9000\n",
      "Epoch 18/100\n",
      "670/670 [==============================] - 0s 85us/step - loss: 0.2340 - acc: 0.8970\n",
      "Epoch 19/100\n",
      "670/670 [==============================] - 0s 79us/step - loss: 0.2333 - acc: 0.8985\n",
      "Epoch 20/100\n",
      "670/670 [==============================] - 0s 83us/step - loss: 0.2330 - acc: 0.8970\n",
      "Epoch 21/100\n",
      "670/670 [==============================] - 0s 75us/step - loss: 0.2326 - acc: 0.9000\n",
      "Epoch 22/100\n",
      "670/670 [==============================] - 0s 80us/step - loss: 0.2311 - acc: 0.8985\n",
      "Epoch 23/100\n",
      "670/670 [==============================] - 0s 74us/step - loss: 0.2334 - acc: 0.8985\n",
      "Epoch 24/100\n",
      "670/670 [==============================] - 0s 81us/step - loss: 0.2309 - acc: 0.9000\n",
      "Epoch 25/100\n",
      "670/670 [==============================] - 0s 86us/step - loss: 0.2304 - acc: 0.9000\n",
      "Epoch 26/100\n",
      "670/670 [==============================] - 0s 81us/step - loss: 0.2301 - acc: 0.9000\n",
      "Epoch 27/100\n",
      "670/670 [==============================] - 0s 81us/step - loss: 0.2299 - acc: 0.9000\n",
      "Epoch 28/100\n",
      "670/670 [==============================] - 0s 82us/step - loss: 0.2296 - acc: 0.9000\n",
      "Epoch 29/100\n",
      "670/670 [==============================] - 0s 94us/step - loss: 0.2307 - acc: 0.9000\n",
      "Epoch 30/100\n",
      "670/670 [==============================] - 0s 91us/step - loss: 0.2292 - acc: 0.8985\n",
      "Epoch 31/100\n",
      "670/670 [==============================] - 0s 75us/step - loss: 0.2290 - acc: 0.9000\n",
      "Epoch 32/100\n",
      "670/670 [==============================] - 0s 95us/step - loss: 0.2290 - acc: 0.8985\n",
      "Epoch 33/100\n",
      "670/670 [==============================] - 0s 96us/step - loss: 0.2285 - acc: 0.8985\n",
      "Epoch 34/100\n",
      "670/670 [==============================] - 0s 92us/step - loss: 0.2283 - acc: 0.8985\n",
      "Epoch 35/100\n",
      "670/670 [==============================] - 0s 92us/step - loss: 0.2284 - acc: 0.9000\n",
      "Epoch 36/100\n",
      "670/670 [==============================] - 0s 82us/step - loss: 0.2280 - acc: 0.8985\n",
      "Epoch 37/100\n",
      "670/670 [==============================] - 0s 75us/step - loss: 0.2273 - acc: 0.8985\n",
      "Epoch 38/100\n",
      "670/670 [==============================] - 0s 83us/step - loss: 0.2284 - acc: 0.8985\n",
      "Epoch 39/100\n",
      "670/670 [==============================] - 0s 69us/step - loss: 0.2271 - acc: 0.9000\n",
      "Epoch 40/100\n",
      "670/670 [==============================] - 0s 77us/step - loss: 0.2264 - acc: 0.8985\n",
      "Epoch 41/100\n",
      "670/670 [==============================] - ETA: 0s - loss: 0.2245 - acc: 0.900 - 0s 67us/step - loss: 0.2266 - acc: 0.8985\n",
      "Epoch 42/100\n",
      "670/670 [==============================] - 0s 54us/step - loss: 0.2265 - acc: 0.8985\n",
      "Epoch 43/100\n",
      "670/670 [==============================] - 0s 52us/step - loss: 0.2256 - acc: 0.8985\n",
      "Epoch 44/100\n",
      "670/670 [==============================] - 0s 50us/step - loss: 0.2264 - acc: 0.8985\n",
      "Epoch 45/100\n",
      "670/670 [==============================] - 0s 50us/step - loss: 0.2253 - acc: 0.8985\n",
      "Epoch 46/100\n",
      "670/670 [==============================] - 0s 66us/step - loss: 0.2255 - acc: 0.8985\n",
      "Epoch 47/100\n",
      "670/670 [==============================] - 0s 91us/step - loss: 0.2243 - acc: 0.9000\n",
      "Epoch 48/100\n",
      "670/670 [==============================] - 0s 97us/step - loss: 0.2247 - acc: 0.8985\n",
      "Epoch 49/100\n",
      "670/670 [==============================] - 0s 109us/step - loss: 0.2238 - acc: 0.9000\n",
      "Epoch 50/100\n",
      "670/670 [==============================] - 0s 109us/step - loss: 0.2240 - acc: 0.9000\n",
      "Epoch 51/100\n",
      "670/670 [==============================] - 0s 124us/step - loss: 0.2236 - acc: 0.9000\n",
      "Epoch 52/100\n",
      "670/670 [==============================] - 0s 70us/step - loss: 0.2230 - acc: 0.9000\n",
      "Epoch 53/100\n",
      "670/670 [==============================] - 0s 69us/step - loss: 0.2226 - acc: 0.9000\n",
      "Epoch 54/100\n",
      "670/670 [==============================] - 0s 75us/step - loss: 0.2228 - acc: 0.9015\n",
      "Epoch 55/100\n",
      "670/670 [==============================] - 0s 65us/step - loss: 0.2231 - acc: 0.8985\n",
      "Epoch 56/100\n",
      "670/670 [==============================] - 0s 86us/step - loss: 0.2209 - acc: 0.9015\n",
      "Epoch 57/100\n",
      "670/670 [==============================] - 0s 89us/step - loss: 0.2204 - acc: 0.9015\n",
      "Epoch 58/100\n",
      "670/670 [==============================] - 0s 96us/step - loss: 0.2200 - acc: 0.9015\n",
      "Epoch 59/100\n",
      "670/670 [==============================] - 0s 104us/step - loss: 0.2194 - acc: 0.8970\n",
      "Epoch 60/100\n",
      "670/670 [==============================] - 0s 83us/step - loss: 0.2201 - acc: 0.9000\n",
      "Epoch 61/100\n",
      "670/670 [==============================] - 0s 98us/step - loss: 0.2179 - acc: 0.9000\n",
      "Epoch 62/100\n",
      "670/670 [==============================] - 0s 88us/step - loss: 0.2173 - acc: 0.9000\n",
      "Epoch 63/100\n",
      "670/670 [==============================] - 0s 90us/step - loss: 0.2167 - acc: 0.9000\n",
      "Epoch 64/100\n",
      "670/670 [==============================] - 0s 86us/step - loss: 0.2152 - acc: 0.9000\n",
      "Epoch 65/100\n",
      "670/670 [==============================] - 0s 97us/step - loss: 0.2146 - acc: 0.9030\n",
      "Epoch 66/100\n",
      "670/670 [==============================] - 0s 100us/step - loss: 0.2159 - acc: 0.9015\n",
      "Epoch 67/100\n",
      "670/670 [==============================] - 0s 79us/step - loss: 0.2141 - acc: 0.9060\n",
      "Epoch 68/100\n",
      "670/670 [==============================] - 0s 92us/step - loss: 0.2118 - acc: 0.9015\n",
      "Epoch 69/100\n",
      "670/670 [==============================] - 0s 93us/step - loss: 0.2104 - acc: 0.9015\n",
      "Epoch 70/100\n",
      "670/670 [==============================] - 0s 95us/step - loss: 0.2097 - acc: 0.9045\n",
      "Epoch 71/100\n",
      "670/670 [==============================] - 0s 94us/step - loss: 0.2075 - acc: 0.9045\n",
      "Epoch 72/100\n",
      "670/670 [==============================] - 0s 89us/step - loss: 0.2054 - acc: 0.9030\n",
      "Epoch 73/100\n",
      "670/670 [==============================] - 0s 119us/step - loss: 0.2047 - acc: 0.9060\n",
      "Epoch 74/100\n",
      "670/670 [==============================] - 0s 87us/step - loss: 0.2028 - acc: 0.9090\n",
      "Epoch 75/100\n",
      "670/670 [==============================] - 0s 90us/step - loss: 0.1995 - acc: 0.9075\n",
      "Epoch 76/100\n",
      "670/670 [==============================] - 0s 90us/step - loss: 0.1981 - acc: 0.9075\n",
      "Epoch 77/100\n",
      "670/670 [==============================] - 0s 88us/step - loss: 0.1953 - acc: 0.9090\n",
      "Epoch 78/100\n",
      "670/670 [==============================] - 0s 75us/step - loss: 0.1923 - acc: 0.9104\n",
      "Epoch 79/100\n",
      "670/670 [==============================] - 0s 85us/step - loss: 0.1890 - acc: 0.9134\n",
      "Epoch 80/100\n",
      "670/670 [==============================] - 0s 65us/step - loss: 0.1848 - acc: 0.9149\n",
      "Epoch 81/100\n",
      "670/670 [==============================] - 0s 67us/step - loss: 0.1814 - acc: 0.9209\n",
      "Epoch 82/100\n",
      "670/670 [==============================] - 0s 86us/step - loss: 0.1769 - acc: 0.9194\n",
      "Epoch 83/100\n",
      "670/670 [==============================] - 0s 99us/step - loss: 0.1726 - acc: 0.9209\n",
      "Epoch 84/100\n"
     ]
    },
    {
     "name": "stdout",
     "output_type": "stream",
     "text": [
      "670/670 [==============================] - 0s 90us/step - loss: 0.1679 - acc: 0.9269\n",
      "Epoch 85/100\n",
      "670/670 [==============================] - 0s 92us/step - loss: 0.1624 - acc: 0.9299\n",
      "Epoch 86/100\n",
      "670/670 [==============================] - 0s 78us/step - loss: 0.1560 - acc: 0.9328\n",
      "Epoch 87/100\n",
      "670/670 [==============================] - 0s 76us/step - loss: 0.1494 - acc: 0.9358\n",
      "Epoch 88/100\n",
      "670/670 [==============================] - 0s 73us/step - loss: 0.1417 - acc: 0.9403\n",
      "Epoch 89/100\n",
      "670/670 [==============================] - 0s 69us/step - loss: 0.1360 - acc: 0.9388\n",
      "Epoch 90/100\n",
      "670/670 [==============================] - 0s 72us/step - loss: 0.1286 - acc: 0.9493\n",
      "Epoch 91/100\n",
      "670/670 [==============================] - 0s 80us/step - loss: 0.1199 - acc: 0.9522\n",
      "Epoch 92/100\n",
      "670/670 [==============================] - 0s 85us/step - loss: 0.1125 - acc: 0.9567\n",
      "Epoch 93/100\n",
      "670/670 [==============================] - 0s 77us/step - loss: 0.1054 - acc: 0.9612\n",
      "Epoch 94/100\n",
      "670/670 [==============================] - 0s 93us/step - loss: 0.0978 - acc: 0.9627\n",
      "Epoch 95/100\n",
      "670/670 [==============================] - 0s 80us/step - loss: 0.0898 - acc: 0.9687\n",
      "Epoch 96/100\n",
      "670/670 [==============================] - 0s 108us/step - loss: 0.0834 - acc: 0.9746\n",
      "Epoch 97/100\n",
      "670/670 [==============================] - 0s 82us/step - loss: 0.0780 - acc: 0.9761\n",
      "Epoch 98/100\n",
      "670/670 [==============================] - 0s 97us/step - loss: 0.0701 - acc: 0.9806\n",
      "Epoch 99/100\n",
      "670/670 [==============================] - 0s 89us/step - loss: 0.0646 - acc: 0.9806\n",
      "Epoch 100/100\n",
      "670/670 [==============================] - 0s 109us/step - loss: 0.0589 - acc: 0.9881\n"
     ]
    },
    {
     "data": {
      "text/plain": [
       "<keras.callbacks.History at 0x13afac6d8>"
      ]
     },
     "execution_count": 165,
     "metadata": {},
     "output_type": "execute_result"
    }
   ],
   "source": [
    "model.fit(X_train, y_train, epochs=100, batch_size=20)"
   ]
  },
  {
   "cell_type": "code",
   "execution_count": 158,
   "metadata": {},
   "outputs": [
    {
     "data": {
      "text/plain": [
       "array([0, 0, 0, 1, 1, 0, 1, 0, 0, 1])"
      ]
     },
     "execution_count": 158,
     "metadata": {},
     "output_type": "execute_result"
    }
   ],
   "source": [
    "np.argmax(model.predict(X_test[:10]), axis=1)"
   ]
  },
  {
   "cell_type": "code",
   "execution_count": 159,
   "metadata": {},
   "outputs": [
    {
     "name": "stdout",
     "output_type": "stream",
     "text": [
      "[[0]\n",
      " [0]\n",
      " [0]\n",
      " [1]\n",
      " [1]\n",
      " [0]\n",
      " [1]\n",
      " [0]\n",
      " [0]\n",
      " [1]]\n"
     ]
    }
   ],
   "source": [
    "print(np.argmax(y_test[:10], axis=1))"
   ]
  },
  {
   "cell_type": "code",
   "execution_count": 160,
   "metadata": {},
   "outputs": [],
   "source": [
    "import numpy as np\n",
    "import matplotlib.pyplot as plt\n",
    "\n",
    "def plot_decision_boundary(X, y, model, cmap='Paired'):\n",
    "    \"\"\"\n",
    "    Function to plot the decision boundary and data points of a model.\n",
    "    Data points are colored based on their actual label.\n",
    "    \"\"\"\n",
    "    cmap = plt.get_cmap(cmap)\n",
    "    \n",
    "    # Define region of interest by data limits\n",
    "    xmin, xmax = X[:,0].min() - 1, X[:,0].max() + 1\n",
    "    ymin, ymax = X[:,1].min() - 1, X[:,1].max() + 1\n",
    "    steps = X.shape[0]\n",
    "    x_span = np.linspace(xmin, xmax, steps)\n",
    "    y_span = np.linspace(ymin, ymax, steps)\n",
    "    xx, yy = np.meshgrid(x_span, y_span)\n",
    "\n",
    "    # Make predictions across region of interest\n",
    "    labels = model.predict(np.c_[xx.ravel(), yy.ravel()])\n",
    "    \n",
    "    labels = np.argmax(labels, axis=1)\n",
    "\n",
    "    # Plot decision boundary in region of interest\n",
    "    z = labels.reshape(xx.shape)\n",
    "    \n",
    "    fig, ax = plt.subplots()\n",
    "    ax.contourf(xx, yy, z, cmap=cmap, alpha=0.5)\n",
    "\n",
    "    # Get predicted labels on training data and plot\n",
    "    train_labels = model.predict(X)\n",
    "    train_labels = np.argmax(train_labels, axis=1)\n",
    "    \n",
    "    mapped = np.asarray((np.argmax(y, axis=1))).reshape(-1)\n",
    "    \n",
    "    print(mapped.shape)\n",
    "    \n",
    "    ax.scatter(X[:,0], X[:,1], c=mapped, cmap=cmap, lw=0)\n",
    "    \n",
    "    return fig, ax"
   ]
  },
  {
   "cell_type": "code",
   "execution_count": 161,
   "metadata": {},
   "outputs": [
    {
     "name": "stdout",
     "output_type": "stream",
     "text": [
      "(330,)\n"
     ]
    },
    {
     "data": {
      "text/plain": [
       "(<Figure size 432x288 with 1 Axes>,\n",
       " <matplotlib.axes._subplots.AxesSubplot at 0x13a970be0>)"
      ]
     },
     "execution_count": 161,
     "metadata": {},
     "output_type": "execute_result"
    },
    {
     "data": {
      "image/png": "[encoded data removed]",
      "text/plain": [
       "<Figure size 432x288 with 1 Axes>"
      ]
     },
     "metadata": {
      "needs_background": "light"
     },
     "output_type": "display_data"
    }
   ],
   "source": [
    "plot_decision_boundary(X_test, y_test, model)"
   ]
  },
  {
   "cell_type": "code",
   "execution_count": null,
   "metadata": {},
   "outputs": [],
   "source": []
  },
  {
   "cell_type": "code",
   "execution_count": null,
   "metadata": {},
   "outputs": [],
   "source": []
  },
  {
   "cell_type": "code",
   "execution_count": null,
   "metadata": {},
   "outputs": [],
   "source": []
  },
  {
   "cell_type": "code",
   "execution_count": null,
   "metadata": {},
   "outputs": [],
   "source": []
  }
 ],
 "metadata": {
  "kernelspec": {
   "display_name": "Python 3",
   "language": "python",
   "name": "python3"
  },
  "language_info": {
   "codemirror_mode": {
    "name": "ipython",
    "version": 3
   },
   "file_extension": ".py",
   "mimetype": "text/x-python",
   "name": "python",
   "nbconvert_exporter": "python",
   "pygments_lexer": "ipython3",
   "version": "3.7.2"
  }
 },
 "nbformat": 4,
 "nbformat_minor": 2
}

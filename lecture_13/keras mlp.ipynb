{
 "cells": [
  {
   "cell_type": "code",
   "execution_count": 113,
   "metadata": {},
   "outputs": [],
   "source": [
    "from keras.models import Sequential\n",
    "from keras.layers import Dense\n",
    "from keras.optimizers import Adam\n",
    "from keras.losses import categorical_crossentropy\n",
    "from sklearn.datasets import make_circles\n",
    "from sklearn.model_selection import train_test_split\n",
    "from sklearn.preprocessing import OneHotEncoder\n",
    "import matplotlib.pyplot as plt\n",
    "import numpy as np"
   ]
  },
  {
   "cell_type": "code",
   "execution_count": 117,
   "metadata": {},
   "outputs": [],
   "source": [
    "X, y = make_circles(n_samples=1000)"
   ]
  },
  {
   "cell_type": "code",
   "execution_count": 118,
   "metadata": {},
   "outputs": [],
   "source": [
    "# X, y = make_circles"
   ]
  },
  {
   "cell_type": "code",
   "execution_count": 119,
   "metadata": {},
   "outputs": [],
   "source": [
    "ohe = OneHotEncoder(categories='auto')\n",
    "y_hot = ohe.fit_transform(y.reshape(-1, 1)).todense()"
   ]
  },
  {
   "cell_type": "code",
   "execution_count": 120,
   "metadata": {},
   "outputs": [
    {
     "name": "stdout",
     "output_type": "stream",
     "text": [
      "[1 1 0 0 0 1 0 0 0 0]\n",
      "[[0. 1.]\n",
      " [0. 1.]\n",
      " [1. 0.]\n",
      " [1. 0.]\n",
      " [1. 0.]\n",
      " [0. 1.]\n",
      " [1. 0.]\n",
      " [1. 0.]\n",
      " [1. 0.]\n",
      " [1. 0.]]\n"
     ]
    }
   ],
   "source": [
    "print(y[:10])\n",
    "print(y_hot[:10])"
   ]
  },
  {
   "cell_type": "code",
   "execution_count": 121,
   "metadata": {},
   "outputs": [],
   "source": [
    "X_train, X_test, y_train, y_test = train_test_split(X, y_hot, test_size=0.33, random_state=42)"
   ]
  },
  {
   "cell_type": "markdown",
   "metadata": {},
   "source": [
    "## Generating seq Model"
   ]
  },
  {
   "cell_type": "code",
   "execution_count": 138,
   "metadata": {},
   "outputs": [
    {
     "name": "stdout",
     "output_type": "stream",
     "text": [
      "_________________________________________________________________\n",
      "Layer (type)                 Output Shape              Param #   \n",
      "=================================================================\n",
      "dense_30 (Dense)             (None, 8)                 24        \n",
      "_________________________________________________________________\n",
      "dense_31 (Dense)             (None, 8)                 72        \n",
      "_________________________________________________________________\n",
      "dense_32 (Dense)             (None, 2)                 18        \n",
      "=================================================================\n",
      "Total params: 114\n",
      "Trainable params: 114\n",
      "Non-trainable params: 0\n",
      "_________________________________________________________________\n"
     ]
    }
   ],
   "source": [
    "model = Sequential()\n",
    "model.add(Dense(8, activation=\"tanh\", input_shape=[X.shape[1]]))\n",
    "model.add(Dense(8, activation=\"tanh\"))\n",
    "model.add(Dense(y_hot.shape[1], activation=\"softmax\"))\n",
    "model.summary()"
   ]
  },
  {
   "cell_type": "code",
   "execution_count": 139,
   "metadata": {},
   "outputs": [],
   "source": [
    "model.compile(optimizer=\"adam\", loss=categorical_crossentropy)"
   ]
  },
  {
   "cell_type": "code",
   "execution_count": 140,
   "metadata": {},
   "outputs": [
    {
     "name": "stdout",
     "output_type": "stream",
     "text": [
      "Epoch 1/100\n",
      "670/670 [==============================] - 1s 768us/step - loss: 0.7092\n",
      "Epoch 2/100\n",
      "670/670 [==============================] - 0s 73us/step - loss: 0.6985\n",
      "Epoch 3/100\n",
      "670/670 [==============================] - 0s 107us/step - loss: 0.6952\n",
      "Epoch 4/100\n",
      "670/670 [==============================] - 0s 89us/step - loss: 0.6932\n",
      "Epoch 5/100\n",
      "670/670 [==============================] - 0s 79us/step - loss: 0.6924\n",
      "Epoch 6/100\n",
      "670/670 [==============================] - 0s 182us/step - loss: 0.6918\n",
      "Epoch 7/100\n",
      "670/670 [==============================] - 0s 133us/step - loss: 0.6913\n",
      "Epoch 8/100\n",
      "670/670 [==============================] - 0s 90us/step - loss: 0.6903\n",
      "Epoch 9/100\n",
      "670/670 [==============================] - 0s 69us/step - loss: 0.6902\n",
      "Epoch 10/100\n",
      "670/670 [==============================] - 0s 60us/step - loss: 0.6906\n",
      "Epoch 11/100\n",
      "670/670 [==============================] - 0s 81us/step - loss: 0.6891\n",
      "Epoch 12/100\n",
      "670/670 [==============================] - 0s 68us/step - loss: 0.6889\n",
      "Epoch 13/100\n",
      "670/670 [==============================] - 0s 72us/step - loss: 0.6886\n",
      "Epoch 14/100\n",
      "670/670 [==============================] - 0s 61us/step - loss: 0.6880\n",
      "Epoch 15/100\n",
      "670/670 [==============================] - 0s 69us/step - loss: 0.6877\n",
      "Epoch 16/100\n",
      "670/670 [==============================] - 0s 69us/step - loss: 0.6878\n",
      "Epoch 17/100\n",
      "670/670 [==============================] - 0s 72us/step - loss: 0.6867\n",
      "Epoch 18/100\n",
      "670/670 [==============================] - 0s 76us/step - loss: 0.6864\n",
      "Epoch 19/100\n",
      "670/670 [==============================] - 0s 73us/step - loss: 0.6856\n",
      "Epoch 20/100\n",
      "670/670 [==============================] - 0s 84us/step - loss: 0.6852\n",
      "Epoch 21/100\n",
      "670/670 [==============================] - 0s 74us/step - loss: 0.6851\n",
      "Epoch 22/100\n",
      "670/670 [==============================] - 0s 74us/step - loss: 0.6848\n",
      "Epoch 23/100\n",
      "670/670 [==============================] - 0s 76us/step - loss: 0.6834\n",
      "Epoch 24/100\n",
      "670/670 [==============================] - 0s 75us/step - loss: 0.6832\n",
      "Epoch 25/100\n",
      "670/670 [==============================] - 0s 67us/step - loss: 0.6823\n",
      "Epoch 26/100\n",
      "670/670 [==============================] - 0s 77us/step - loss: 0.6818\n",
      "Epoch 27/100\n",
      "670/670 [==============================] - 0s 77us/step - loss: 0.6827\n",
      "Epoch 28/100\n",
      "670/670 [==============================] - 0s 82us/step - loss: 0.6815\n",
      "Epoch 29/100\n",
      "670/670 [==============================] - 0s 96us/step - loss: 0.6798\n",
      "Epoch 30/100\n",
      "670/670 [==============================] - 0s 90us/step - loss: 0.6790\n",
      "Epoch 31/100\n",
      "670/670 [==============================] - 0s 85us/step - loss: 0.6790\n",
      "Epoch 32/100\n",
      "670/670 [==============================] - 0s 77us/step - loss: 0.6790\n",
      "Epoch 33/100\n",
      "670/670 [==============================] - 0s 74us/step - loss: 0.6774\n",
      "Epoch 34/100\n",
      "670/670 [==============================] - 0s 71us/step - loss: 0.6761\n",
      "Epoch 35/100\n",
      "670/670 [==============================] - 0s 69us/step - loss: 0.6767\n",
      "Epoch 36/100\n",
      "670/670 [==============================] - 0s 74us/step - loss: 0.6740\n",
      "Epoch 37/100\n",
      "670/670 [==============================] - 0s 95us/step - loss: 0.6744\n",
      "Epoch 38/100\n",
      "670/670 [==============================] - 0s 86us/step - loss: 0.6729\n",
      "Epoch 39/100\n",
      "670/670 [==============================] - 0s 74us/step - loss: 0.6723\n",
      "Epoch 40/100\n",
      "670/670 [==============================] - 0s 93us/step - loss: 0.6727\n",
      "Epoch 41/100\n",
      "670/670 [==============================] - 0s 75us/step - loss: 0.6700\n",
      "Epoch 42/100\n",
      "670/670 [==============================] - 0s 84us/step - loss: 0.6695\n",
      "Epoch 43/100\n",
      "670/670 [==============================] - 0s 77us/step - loss: 0.6676\n",
      "Epoch 44/100\n",
      "670/670 [==============================] - 0s 68us/step - loss: 0.6665\n",
      "Epoch 45/100\n",
      "670/670 [==============================] - 0s 82us/step - loss: 0.6659\n",
      "Epoch 46/100\n",
      "670/670 [==============================] - 0s 64us/step - loss: 0.6646\n",
      "Epoch 47/100\n",
      "670/670 [==============================] - 0s 75us/step - loss: 0.6632\n",
      "Epoch 48/100\n",
      "670/670 [==============================] - 0s 80us/step - loss: 0.6624\n",
      "Epoch 49/100\n",
      "670/670 [==============================] - 0s 72us/step - loss: 0.6607\n",
      "Epoch 50/100\n",
      "670/670 [==============================] - 0s 65us/step - loss: 0.6604\n",
      "Epoch 51/100\n",
      "670/670 [==============================] - 0s 77us/step - loss: 0.6576\n",
      "Epoch 52/100\n",
      "670/670 [==============================] - 0s 70us/step - loss: 0.6579\n",
      "Epoch 53/100\n",
      "670/670 [==============================] - 0s 75us/step - loss: 0.6550\n",
      "Epoch 54/100\n",
      "670/670 [==============================] - 0s 74us/step - loss: 0.6537\n",
      "Epoch 55/100\n",
      "670/670 [==============================] - 0s 66us/step - loss: 0.6516\n",
      "Epoch 56/100\n",
      "670/670 [==============================] - 0s 84us/step - loss: 0.6504\n",
      "Epoch 57/100\n",
      "670/670 [==============================] - 0s 62us/step - loss: 0.6491\n",
      "Epoch 58/100\n",
      "670/670 [==============================] - 0s 61us/step - loss: 0.6464\n",
      "Epoch 59/100\n",
      "670/670 [==============================] - 0s 59us/step - loss: 0.6450\n",
      "Epoch 60/100\n",
      "670/670 [==============================] - 0s 58us/step - loss: 0.6426\n",
      "Epoch 61/100\n",
      "670/670 [==============================] - 0s 52us/step - loss: 0.6418\n",
      "Epoch 62/100\n",
      "670/670 [==============================] - 0s 70us/step - loss: 0.6377\n",
      "Epoch 63/100\n",
      "670/670 [==============================] - 0s 62us/step - loss: 0.6376\n",
      "Epoch 64/100\n",
      "670/670 [==============================] - 0s 56us/step - loss: 0.6332\n",
      "Epoch 65/100\n",
      "670/670 [==============================] - 0s 62us/step - loss: 0.6321\n",
      "Epoch 66/100\n",
      "670/670 [==============================] - 0s 53us/step - loss: 0.6300\n",
      "Epoch 67/100\n",
      "670/670 [==============================] - 0s 64us/step - loss: 0.6262\n",
      "Epoch 68/100\n",
      "670/670 [==============================] - 0s 58us/step - loss: 0.6245\n",
      "Epoch 69/100\n",
      "670/670 [==============================] - 0s 60us/step - loss: 0.6199\n",
      "Epoch 70/100\n",
      "670/670 [==============================] - 0s 62us/step - loss: 0.6171\n",
      "Epoch 71/100\n",
      "670/670 [==============================] - 0s 66us/step - loss: 0.6151\n",
      "Epoch 72/100\n",
      "670/670 [==============================] - 0s 57us/step - loss: 0.6107\n",
      "Epoch 73/100\n",
      "670/670 [==============================] - 0s 51us/step - loss: 0.6091\n",
      "Epoch 74/100\n",
      "670/670 [==============================] - 0s 59us/step - loss: 0.6062\n",
      "Epoch 75/100\n",
      "670/670 [==============================] - 0s 61us/step - loss: 0.6016\n",
      "Epoch 76/100\n",
      "670/670 [==============================] - 0s 55us/step - loss: 0.5973\n",
      "Epoch 77/100\n",
      "670/670 [==============================] - 0s 63us/step - loss: 0.5942\n",
      "Epoch 78/100\n",
      "670/670 [==============================] - 0s 58us/step - loss: 0.5896\n",
      "Epoch 79/100\n",
      "670/670 [==============================] - 0s 57us/step - loss: 0.5878\n",
      "Epoch 80/100\n",
      "670/670 [==============================] - 0s 58us/step - loss: 0.5815\n",
      "Epoch 81/100\n",
      "670/670 [==============================] - 0s 56us/step - loss: 0.5787\n",
      "Epoch 82/100\n",
      "670/670 [==============================] - 0s 67us/step - loss: 0.5742\n",
      "Epoch 83/100\n",
      "670/670 [==============================] - 0s 60us/step - loss: 0.5704\n",
      "Epoch 84/100\n",
      "670/670 [==============================] - 0s 69us/step - loss: 0.5667\n",
      "Epoch 85/100\n",
      "670/670 [==============================] - 0s 56us/step - loss: 0.5619\n",
      "Epoch 86/100\n",
      "670/670 [==============================] - 0s 64us/step - loss: 0.5588\n",
      "Epoch 87/100\n",
      "670/670 [==============================] - 0s 62us/step - loss: 0.5535\n",
      "Epoch 88/100\n",
      "670/670 [==============================] - 0s 59us/step - loss: 0.5510\n",
      "Epoch 89/100\n",
      "670/670 [==============================] - 0s 64us/step - loss: 0.5441\n",
      "Epoch 90/100\n",
      "670/670 [==============================] - 0s 56us/step - loss: 0.5401\n",
      "Epoch 91/100\n",
      "670/670 [==============================] - 0s 59us/step - loss: 0.5346\n",
      "Epoch 92/100\n",
      "670/670 [==============================] - 0s 63us/step - loss: 0.5281\n",
      "Epoch 93/100\n",
      "670/670 [==============================] - ETA: 0s - loss: 0.517 - 0s 56us/step - loss: 0.5250\n",
      "Epoch 94/100\n",
      "670/670 [==============================] - 0s 57us/step - loss: 0.5193\n",
      "Epoch 95/100\n",
      "670/670 [==============================] - 0s 65us/step - loss: 0.5150\n",
      "Epoch 96/100\n",
      "670/670 [==============================] - 0s 56us/step - loss: 0.5123\n",
      "Epoch 97/100\n",
      "670/670 [==============================] - 0s 60us/step - loss: 0.5071\n",
      "Epoch 98/100\n"
     ]
    },
    {
     "name": "stdout",
     "output_type": "stream",
     "text": [
      "670/670 [==============================] - 0s 53us/step - loss: 0.4986\n",
      "Epoch 99/100\n",
      "670/670 [==============================] - 0s 58us/step - loss: 0.4927\n",
      "Epoch 100/100\n",
      "670/670 [==============================] - 0s 57us/step - loss: 0.4875\n"
     ]
    },
    {
     "data": {
      "text/plain": [
       "<keras.callbacks.History at 0x13a3f9940>"
      ]
     },
     "execution_count": 140,
     "metadata": {},
     "output_type": "execute_result"
    }
   ],
   "source": [
    "model.fit(X_train, y_train, epochs=100, batch_size=20)"
   ]
  },
  {
   "cell_type": "code",
   "execution_count": 141,
   "metadata": {},
   "outputs": [
    {
     "data": {
      "text/plain": [
       "array([1, 1, 0, 1, 0, 0, 1, 1, 0, 0])"
      ]
     },
     "execution_count": 141,
     "metadata": {},
     "output_type": "execute_result"
    }
   ],
   "source": [
    "np.argmax(model.predict(X_test[:10]), axis=1)"
   ]
  },
  {
   "cell_type": "code",
   "execution_count": 142,
   "metadata": {},
   "outputs": [
    {
     "name": "stdout",
     "output_type": "stream",
     "text": [
      "[[1]\n",
      " [1]\n",
      " [0]\n",
      " [1]\n",
      " [0]\n",
      " [0]\n",
      " [1]\n",
      " [1]\n",
      " [0]\n",
      " [0]]\n"
     ]
    }
   ],
   "source": [
    "print(np.argmax(y_test[:10], axis=1))"
   ]
  },
  {
   "cell_type": "code",
   "execution_count": 143,
   "metadata": {},
   "outputs": [],
   "source": [
    "import numpy as np\n",
    "import matplotlib.pyplot as plt\n",
    "\n",
    "def plot_decision_boundary(X, y, model, cmap='Paired'):\n",
    "    \"\"\"\n",
    "    Function to plot the decision boundary and data points of a model.\n",
    "    Data points are colored based on their actual label.\n",
    "    \"\"\"\n",
    "    cmap = plt.get_cmap(cmap)\n",
    "    \n",
    "    # Define region of interest by data limits\n",
    "    xmin, xmax = X[:,0].min() - 1, X[:,0].max() + 1\n",
    "    ymin, ymax = X[:,1].min() - 1, X[:,1].max() + 1\n",
    "    steps = X.shape[0]\n",
    "    x_span = np.linspace(xmin, xmax, steps)\n",
    "    y_span = np.linspace(ymin, ymax, steps)\n",
    "    xx, yy = np.meshgrid(x_span, y_span)\n",
    "\n",
    "    # Make predictions across region of interest\n",
    "    labels = model.predict(np.c_[xx.ravel(), yy.ravel()])\n",
    "    \n",
    "    labels = np.argmax(labels, axis=1)\n",
    "\n",
    "    # Plot decision boundary in region of interest\n",
    "    z = labels.reshape(xx.shape)\n",
    "    \n",
    "    fig, ax = plt.subplots()\n",
    "    ax.contourf(xx, yy, z, cmap=cmap, alpha=0.5)\n",
    "\n",
    "    # Get predicted labels on training data and plot\n",
    "    train_labels = model.predict(X)\n",
    "    train_labels = np.argmax(train_labels, axis=1)\n",
    "    \n",
    "    mapped = np.asarray((np.argmax(y, axis=1))).reshape(-1)\n",
    "    \n",
    "    print(mapped.shape)\n",
    "    \n",
    "    ax.scatter(X[:,0], X[:,1], c=mapped, cmap=cmap, lw=0)\n",
    "    \n",
    "    return fig, ax"
   ]
  },
  {
   "cell_type": "code",
   "execution_count": 144,
   "metadata": {},
   "outputs": [
    {
     "name": "stdout",
     "output_type": "stream",
     "text": [
      "(330,)\n"
     ]
    },
    {
     "data": {
      "text/plain": [
       "(<Figure size 432x288 with 1 Axes>,\n",
       " <matplotlib.axes._subplots.AxesSubplot at 0x13a8d0e48>)"
      ]
     },
     "execution_count": 144,
     "metadata": {},
     "output_type": "execute_result"
    },
    {
     "data": {
      "image/png": "[encoded data removed]",
      "text/plain": [
       "<Figure size 432x288 with 1 Axes>"
      ]
     },
     "metadata": {
      "needs_background": "light"
     },
     "output_type": "display_data"
    }
   ],
   "source": [
    "plot_decision_boundary(X_test, y_test, model)"
   ]
  },
  {
   "cell_type": "code",
   "execution_count": null,
   "metadata": {},
   "outputs": [],
   "source": []
  },
  {
   "cell_type": "code",
   "execution_count": null,
   "metadata": {},
   "outputs": [],
   "source": []
  },
  {
   "cell_type": "code",
   "execution_count": null,
   "metadata": {},
   "outputs": [],
   "source": []
  },
  {
   "cell_type": "code",
   "execution_count": null,
   "metadata": {},
   "outputs": [],
   "source": []
  }
 ],
 "metadata": {
  "kernelspec": {
   "display_name": "Python 3",
   "language": "python",
   "name": "python3"
  },
  "language_info": {
   "codemirror_mode": {
    "name": "ipython",
    "version": 3
   },
   "file_extension": ".py",
   "mimetype": "text/x-python",
   "name": "python",
   "nbconvert_exporter": "python",
   "pygments_lexer": "ipython3",
   "version": "3.7.2"
  }
 },
 "nbformat": 4,
 "nbformat_minor": 2
}

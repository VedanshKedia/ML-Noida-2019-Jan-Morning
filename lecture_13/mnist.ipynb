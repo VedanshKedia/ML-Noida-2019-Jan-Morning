{
 "cells": [
  {
   "cell_type": "code",
   "execution_count": 9,
   "metadata": {},
   "outputs": [],
   "source": [
    "from keras.models import Sequential\n",
    "from keras.layers import Dense\n",
    "from keras.optimizers import Adam\n",
    "from keras.losses import categorical_crossentropy\n",
    "from sklearn.datasets import make_moons\n",
    "from sklearn.model_selection import train_test_split\n",
    "from sklearn.preprocessing import OneHotEncoder\n",
    "import matplotlib.pyplot as plt\n",
    "import numpy as np\n",
    "import pandas as pd\n",
    "from sklearn.decomposition import PCA"
   ]
  },
  {
   "cell_type": "code",
   "execution_count": 4,
   "metadata": {},
   "outputs": [],
   "source": [
    "data = pd.read_csv(\"../dataset/mnist_train_small.csv\").values"
   ]
  },
  {
   "cell_type": "code",
   "execution_count": 5,
   "metadata": {},
   "outputs": [],
   "source": [
    "X, y = data[:, 2:], data[:, 1]"
   ]
  },
  {
   "cell_type": "code",
   "execution_count": 7,
   "metadata": {},
   "outputs": [],
   "source": [
    "ohe = OneHotEncoder(categories='auto')\n",
    "y_hot = ohe.fit_transform(y.reshape(-1, 1)).todense()"
   ]
  },
  {
   "cell_type": "code",
   "execution_count": 8,
   "metadata": {},
   "outputs": [
    {
     "data": {
      "text/plain": [
       "(8000, 10)"
      ]
     },
     "execution_count": 8,
     "metadata": {},
     "output_type": "execute_result"
    }
   ],
   "source": [
    "y_hot.shape"
   ]
  },
  {
   "cell_type": "code",
   "execution_count": 10,
   "metadata": {},
   "outputs": [],
   "source": [
    "X_mod = PCA(n_components=10).fit_transform(X)"
   ]
  },
  {
   "cell_type": "code",
   "execution_count": 11,
   "metadata": {},
   "outputs": [
    {
     "data": {
      "text/plain": [
       "(8000, 10)"
      ]
     },
     "execution_count": 11,
     "metadata": {},
     "output_type": "execute_result"
    }
   ],
   "source": [
    "X_mod.shape"
   ]
  },
  {
   "cell_type": "code",
   "execution_count": 12,
   "metadata": {},
   "outputs": [],
   "source": [
    "X_train, X_test, y_train, y_test = train_test_split(X_mod, y_hot, test_size=0.33, random_state=42)"
   ]
  },
  {
   "cell_type": "code",
   "execution_count": 16,
   "metadata": {},
   "outputs": [
    {
     "name": "stdout",
     "output_type": "stream",
     "text": [
      "_________________________________________________________________\n",
      "Layer (type)                 Output Shape              Param #   \n",
      "=================================================================\n",
      "dense_4 (Dense)              (None, 8)                 88        \n",
      "_________________________________________________________________\n",
      "dense_5 (Dense)              (None, 8)                 72        \n",
      "_________________________________________________________________\n",
      "dense_6 (Dense)              (None, 10)                90        \n",
      "=================================================================\n",
      "Total params: 250\n",
      "Trainable params: 250\n",
      "Non-trainable params: 0\n",
      "_________________________________________________________________\n"
     ]
    }
   ],
   "source": [
    "model = Sequential()\n",
    "model.add(Dense(8, activation=\"tanh\", input_shape=[X_mod.shape[1]]))\n",
    "model.add(Dense(8, activation=\"tanh\"))\n",
    "model.add(Dense(y_hot.shape[1], activation=\"softmax\"))\n",
    "model.summary()"
   ]
  },
  {
   "cell_type": "code",
   "execution_count": 17,
   "metadata": {},
   "outputs": [],
   "source": [
    "model.compile(optimizer=\"adam\", loss=\"categorical_crossentropy\", metrics=[\"accuracy\"])"
   ]
  },
  {
   "cell_type": "code",
   "execution_count": 18,
   "metadata": {},
   "outputs": [
    {
     "name": "stdout",
     "output_type": "stream",
     "text": [
      "WARNING:tensorflow:From /usr/local/lib/python3.7/site-packages/tensorflow/python/ops/math_ops.py:3066: to_int32 (from tensorflow.python.ops.math_ops) is deprecated and will be removed in a future version.\n",
      "Instructions for updating:\n",
      "Use tf.cast instead.\n",
      "Epoch 1/100\n",
      "5360/5360 [==============================] - 1s 96us/step - loss: 2.0666 - acc: 0.2612\n",
      "Epoch 2/100\n",
      "5360/5360 [==============================] - 0s 71us/step - loss: 1.7377 - acc: 0.4216\n",
      "Epoch 3/100\n",
      "5360/5360 [==============================] - 0s 54us/step - loss: 1.5503 - acc: 0.4959\n",
      "Epoch 4/100\n",
      "5360/5360 [==============================] - 0s 56us/step - loss: 1.4179 - acc: 0.5491\n",
      "Epoch 5/100\n",
      "5360/5360 [==============================] - 0s 53us/step - loss: 1.3221 - acc: 0.5716\n",
      "Epoch 6/100\n",
      "5360/5360 [==============================] - 0s 55us/step - loss: 1.2570 - acc: 0.5819\n",
      "Epoch 7/100\n",
      "5360/5360 [==============================] - 0s 54us/step - loss: 1.2104 - acc: 0.5918\n",
      "Epoch 8/100\n",
      "5360/5360 [==============================] - 0s 55us/step - loss: 1.1860 - acc: 0.6004\n",
      "Epoch 9/100\n",
      "5360/5360 [==============================] - 0s 56us/step - loss: 1.1572 - acc: 0.6075\n",
      "Epoch 10/100\n",
      "5360/5360 [==============================] - ETA: 0s - loss: 1.1272 - acc: 0.620 - 0s 56us/step - loss: 1.1316 - acc: 0.6198\n",
      "Epoch 11/100\n",
      "5360/5360 [==============================] - 0s 66us/step - loss: 1.1064 - acc: 0.6222\n",
      "Epoch 12/100\n",
      "5360/5360 [==============================] - 0s 60us/step - loss: 1.0847 - acc: 0.6239\n",
      "Epoch 13/100\n",
      "5360/5360 [==============================] - 0s 69us/step - loss: 1.0626 - acc: 0.6366: 0s - loss: 1.0600 - acc: 0.63\n",
      "Epoch 14/100\n",
      "5360/5360 [==============================] - 0s 60us/step - loss: 1.0537 - acc: 0.6356\n",
      "Epoch 15/100\n",
      "5360/5360 [==============================] - 0s 77us/step - loss: 1.0331 - acc: 0.6461\n",
      "Epoch 16/100\n",
      "5360/5360 [==============================] - 0s 73us/step - loss: 1.0261 - acc: 0.6481\n",
      "Epoch 17/100\n",
      "5360/5360 [==============================] - 0s 76us/step - loss: 1.0131 - acc: 0.6539\n",
      "Epoch 18/100\n",
      "5360/5360 [==============================] - 0s 64us/step - loss: 1.0089 - acc: 0.6532\n",
      "Epoch 19/100\n",
      "5360/5360 [==============================] - 0s 57us/step - loss: 1.0017 - acc: 0.6612\n",
      "Epoch 20/100\n",
      "5360/5360 [==============================] - 0s 60us/step - loss: 0.9943 - acc: 0.6610: 0s - loss: 0.9922 - acc: 0.661\n",
      "Epoch 21/100\n",
      "5360/5360 [==============================] - 0s 61us/step - loss: 0.9899 - acc: 0.6660\n",
      "Epoch 22/100\n",
      "5360/5360 [==============================] - 0s 80us/step - loss: 0.9757 - acc: 0.6733\n",
      "Epoch 23/100\n",
      "5360/5360 [==============================] - 0s 76us/step - loss: 0.9690 - acc: 0.6718\n",
      "Epoch 24/100\n",
      "5360/5360 [==============================] - 0s 80us/step - loss: 0.9556 - acc: 0.6795\n",
      "Epoch 25/100\n",
      "5360/5360 [==============================] - 0s 77us/step - loss: 0.9481 - acc: 0.6823\n",
      "Epoch 26/100\n",
      "5360/5360 [==============================] - 0s 73us/step - loss: 0.9416 - acc: 0.6869\n",
      "Epoch 27/100\n",
      "5360/5360 [==============================] - 0s 65us/step - loss: 0.9322 - acc: 0.6937\n",
      "Epoch 28/100\n",
      "5360/5360 [==============================] - 0s 66us/step - loss: 0.9212 - acc: 0.6974\n",
      "Epoch 29/100\n",
      "5360/5360 [==============================] - 0s 55us/step - loss: 0.9158 - acc: 0.7013\n",
      "Epoch 30/100\n",
      "5360/5360 [==============================] - 0s 56us/step - loss: 0.9014 - acc: 0.7076\n",
      "Epoch 31/100\n",
      "5360/5360 [==============================] - 0s 58us/step - loss: 0.9073 - acc: 0.7041\n",
      "Epoch 32/100\n",
      "5360/5360 [==============================] - 0s 55us/step - loss: 0.9073 - acc: 0.7043\n",
      "Epoch 33/100\n",
      "5360/5360 [==============================] - 0s 72us/step - loss: 0.8994 - acc: 0.7032: 0s - loss: 0.8936 - acc: \n",
      "Epoch 34/100\n",
      "5360/5360 [==============================] - 0s 75us/step - loss: 0.8918 - acc: 0.7034\n",
      "Epoch 35/100\n",
      "5360/5360 [==============================] - 0s 64us/step - loss: 0.8835 - acc: 0.7063\n",
      "Epoch 36/100\n",
      "5360/5360 [==============================] - 0s 57us/step - loss: 0.8826 - acc: 0.7063\n",
      "Epoch 37/100\n",
      "5360/5360 [==============================] - 0s 55us/step - loss: 0.8813 - acc: 0.7110\n",
      "Epoch 38/100\n",
      "5360/5360 [==============================] - 0s 63us/step - loss: 0.8734 - acc: 0.7078\n",
      "Epoch 39/100\n",
      "5360/5360 [==============================] - 0s 65us/step - loss: 0.8680 - acc: 0.7112\n",
      "Epoch 40/100\n",
      "5360/5360 [==============================] - 0s 70us/step - loss: 0.8703 - acc: 0.7065\n",
      "Epoch 41/100\n",
      "5360/5360 [==============================] - 0s 74us/step - loss: 0.8636 - acc: 0.7116\n",
      "Epoch 42/100\n",
      "5360/5360 [==============================] - 0s 74us/step - loss: 0.8617 - acc: 0.7172\n",
      "Epoch 43/100\n",
      "5360/5360 [==============================] - 0s 68us/step - loss: 0.8593 - acc: 0.7164\n",
      "Epoch 44/100\n",
      "5360/5360 [==============================] - 0s 52us/step - loss: 0.8615 - acc: 0.7190\n",
      "Epoch 45/100\n",
      "5360/5360 [==============================] - 0s 54us/step - loss: 0.8586 - acc: 0.7205\n",
      "Epoch 46/100\n",
      "5360/5360 [==============================] - 0s 61us/step - loss: 0.8555 - acc: 0.7190\n",
      "Epoch 47/100\n",
      "5360/5360 [==============================] - 0s 73us/step - loss: 0.8582 - acc: 0.7185\n",
      "Epoch 48/100\n",
      "5360/5360 [==============================] - 0s 58us/step - loss: 0.8490 - acc: 0.7183\n",
      "Epoch 49/100\n",
      "5360/5360 [==============================] - 0s 58us/step - loss: 0.8445 - acc: 0.7194\n",
      "Epoch 50/100\n",
      "5360/5360 [==============================] - 0s 58us/step - loss: 0.8433 - acc: 0.7194\n",
      "Epoch 51/100\n",
      "5360/5360 [==============================] - 0s 55us/step - loss: 0.8407 - acc: 0.7209\n",
      "Epoch 52/100\n",
      "5360/5360 [==============================] - 0s 54us/step - loss: 0.8429 - acc: 0.7198\n",
      "Epoch 53/100\n",
      "5360/5360 [==============================] - 0s 58us/step - loss: 0.8375 - acc: 0.7183\n",
      "Epoch 54/100\n",
      "5360/5360 [==============================] - 0s 55us/step - loss: 0.8363 - acc: 0.7220\n",
      "Epoch 55/100\n",
      "5360/5360 [==============================] - 0s 55us/step - loss: 0.8439 - acc: 0.7174\n",
      "Epoch 56/100\n",
      "5360/5360 [==============================] - 0s 54us/step - loss: 0.8380 - acc: 0.7243\n",
      "Epoch 57/100\n",
      "5360/5360 [==============================] - 0s 57us/step - loss: 0.8364 - acc: 0.7231\n",
      "Epoch 58/100\n",
      "5360/5360 [==============================] - 0s 54us/step - loss: 0.8324 - acc: 0.7241\n",
      "Epoch 59/100\n",
      "5360/5360 [==============================] - 0s 55us/step - loss: 0.8353 - acc: 0.7267\n",
      "Epoch 60/100\n",
      "5360/5360 [==============================] - 0s 58us/step - loss: 0.8373 - acc: 0.7287\n",
      "Epoch 61/100\n",
      "5360/5360 [==============================] - 0s 55us/step - loss: 0.8382 - acc: 0.7312\n",
      "Epoch 62/100\n",
      "5360/5360 [==============================] - 0s 65us/step - loss: 0.8248 - acc: 0.7310\n",
      "Epoch 63/100\n",
      "5360/5360 [==============================] - 0s 66us/step - loss: 0.8244 - acc: 0.7308\n",
      "Epoch 64/100\n",
      "5360/5360 [==============================] - 0s 69us/step - loss: 0.8299 - acc: 0.7310\n",
      "Epoch 65/100\n",
      "5360/5360 [==============================] - 0s 68us/step - loss: 0.8304 - acc: 0.7317\n",
      "Epoch 66/100\n",
      "5360/5360 [==============================] - 0s 67us/step - loss: 0.8254 - acc: 0.7315\n",
      "Epoch 67/100\n",
      "5360/5360 [==============================] - 0s 73us/step - loss: 0.8349 - acc: 0.7295\n",
      "Epoch 68/100\n",
      "5360/5360 [==============================] - 0s 73us/step - loss: 0.8386 - acc: 0.7332\n",
      "Epoch 69/100\n",
      "5360/5360 [==============================] - 0s 76us/step - loss: 0.8364 - acc: 0.7287\n",
      "Epoch 70/100\n",
      "5360/5360 [==============================] - 0s 71us/step - loss: 0.8236 - acc: 0.7304\n",
      "Epoch 71/100\n",
      "5360/5360 [==============================] - 0s 68us/step - loss: 0.8188 - acc: 0.7302\n",
      "Epoch 72/100\n",
      "5360/5360 [==============================] - 0s 73us/step - loss: 0.8197 - acc: 0.7356\n",
      "Epoch 73/100\n",
      "5360/5360 [==============================] - 0s 71us/step - loss: 0.8177 - acc: 0.7375\n",
      "Epoch 74/100\n",
      "5360/5360 [==============================] - 0s 74us/step - loss: 0.8182 - acc: 0.7347\n",
      "Epoch 75/100\n",
      "5360/5360 [==============================] - 0s 64us/step - loss: 0.8165 - acc: 0.7368\n",
      "Epoch 76/100\n",
      "5360/5360 [==============================] - 0s 56us/step - loss: 0.8109 - acc: 0.7349\n",
      "Epoch 77/100\n",
      "5360/5360 [==============================] - 0s 55us/step - loss: 0.8092 - acc: 0.7351\n",
      "Epoch 78/100\n",
      "5360/5360 [==============================] - 0s 71us/step - loss: 0.8083 - acc: 0.7354\n",
      "Epoch 79/100\n"
     ]
    },
    {
     "name": "stdout",
     "output_type": "stream",
     "text": [
      "5360/5360 [==============================] - 0s 69us/step - loss: 0.8073 - acc: 0.7360\n",
      "Epoch 80/100\n",
      "5360/5360 [==============================] - 0s 66us/step - loss: 0.8083 - acc: 0.7334\n",
      "Epoch 81/100\n",
      "5360/5360 [==============================] - 0s 71us/step - loss: 0.8082 - acc: 0.7341\n",
      "Epoch 82/100\n",
      "5360/5360 [==============================] - 0s 58us/step - loss: 0.8016 - acc: 0.7364\n",
      "Epoch 83/100\n",
      "5360/5360 [==============================] - 0s 52us/step - loss: 0.8070 - acc: 0.7353\n",
      "Epoch 84/100\n",
      "5360/5360 [==============================] - 0s 54us/step - loss: 0.8049 - acc: 0.7332\n",
      "Epoch 85/100\n",
      "5360/5360 [==============================] - 0s 52us/step - loss: 0.8051 - acc: 0.7349\n",
      "Epoch 86/100\n",
      "5360/5360 [==============================] - 0s 57us/step - loss: 0.8055 - acc: 0.7343\n",
      "Epoch 87/100\n",
      "5360/5360 [==============================] - 0s 76us/step - loss: 0.8005 - acc: 0.7360\n",
      "Epoch 88/100\n",
      "5360/5360 [==============================] - 0s 68us/step - loss: 0.7947 - acc: 0.7366\n",
      "Epoch 89/100\n",
      "5360/5360 [==============================] - 0s 70us/step - loss: 0.7969 - acc: 0.7401\n",
      "Epoch 90/100\n",
      "5360/5360 [==============================] - 0s 61us/step - loss: 0.7947 - acc: 0.7409\n",
      "Epoch 91/100\n",
      "5360/5360 [==============================] - 0s 57us/step - loss: 0.7946 - acc: 0.7388\n",
      "Epoch 92/100\n",
      "5360/5360 [==============================] - 0s 60us/step - loss: 0.7906 - acc: 0.7418\n",
      "Epoch 93/100\n",
      "5360/5360 [==============================] - 0s 59us/step - loss: 0.7836 - acc: 0.7457\n",
      "Epoch 94/100\n",
      "5360/5360 [==============================] - 0s 76us/step - loss: 0.7875 - acc: 0.7431\n",
      "Epoch 95/100\n",
      "5360/5360 [==============================] - 0s 71us/step - loss: 0.7893 - acc: 0.7457\n",
      "Epoch 96/100\n",
      "5360/5360 [==============================] - 0s 73us/step - loss: 0.7920 - acc: 0.7453\n",
      "Epoch 97/100\n",
      "5360/5360 [==============================] - 0s 70us/step - loss: 0.7914 - acc: 0.7461\n",
      "Epoch 98/100\n",
      "5360/5360 [==============================] - 0s 58us/step - loss: 0.7930 - acc: 0.7450\n",
      "Epoch 99/100\n",
      "5360/5360 [==============================] - 0s 54us/step - loss: 0.7875 - acc: 0.7494\n",
      "Epoch 100/100\n",
      "5360/5360 [==============================] - 0s 53us/step - loss: 0.7852 - acc: 0.7478\n"
     ]
    },
    {
     "data": {
      "text/plain": [
       "<keras.callbacks.History at 0x12724b438>"
      ]
     },
     "execution_count": 18,
     "metadata": {},
     "output_type": "execute_result"
    }
   ],
   "source": [
    "model.fit(X_train, y_train, epochs=100, batch_size=20)"
   ]
  },
  {
   "cell_type": "code",
   "execution_count": null,
   "metadata": {},
   "outputs": [],
   "source": []
  }
 ],
 "metadata": {
  "kernelspec": {
   "display_name": "Python 3",
   "language": "python",
   "name": "python3"
  },
  "language_info": {
   "codemirror_mode": {
    "name": "ipython",
    "version": 3
   },
   "file_extension": ".py",
   "mimetype": "text/x-python",
   "name": "python",
   "nbconvert_exporter": "python",
   "pygments_lexer": "ipython3",
   "version": "3.7.2"
  }
 },
 "nbformat": 4,
 "nbformat_minor": 2
}

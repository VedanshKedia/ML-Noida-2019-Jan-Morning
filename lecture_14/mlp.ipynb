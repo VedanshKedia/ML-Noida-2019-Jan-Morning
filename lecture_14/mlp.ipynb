{
 "cells": [
  {
   "cell_type": "code",
   "execution_count": 59,
   "metadata": {},
   "outputs": [],
   "source": [
    "import numpy as np\n",
    "import matplotlib.pyplot as plt\n",
    "from sklearn.datasets import make_blobs\n",
    "from sklearn.model_selection import train_test_split\n",
    "from sklearn.preprocessing import OneHotEncoder"
   ]
  },
  {
   "cell_type": "code",
   "execution_count": 76,
   "metadata": {},
   "outputs": [],
   "source": [
    "X, y = make_blobs(n_samples=1000, n_features=10, centers=10)"
   ]
  },
  {
   "cell_type": "code",
   "execution_count": 77,
   "metadata": {},
   "outputs": [],
   "source": [
    "ohe = OneHotEncoder(categories=\"auto\")\n",
    "y_hot = ohe.fit_transform(y.reshape(-1, 1)).todense()"
   ]
  },
  {
   "cell_type": "code",
   "execution_count": 78,
   "metadata": {},
   "outputs": [],
   "source": [
    "X_train, X_test, y_train, y_test = train_test_split(X, y_hot, test_size=0.33, random_state=42)"
   ]
  },
  {
   "cell_type": "code",
   "execution_count": 79,
   "metadata": {},
   "outputs": [],
   "source": [
    "def generate_model(layers_list):\n",
    "    model = {}\n",
    "    model[\"input_size\"] = layers_list[0]\n",
    "    model[\"output_size\"] = layers_list[-1]\n",
    "    model[\"layers\"] = []\n",
    "    \n",
    "    for i in range(1, len(layers_list)):\n",
    "        layer = {}\n",
    "        layer[\"w\"] = np.random.randn(layers_list[i-1], layers_list[i])\n",
    "        layer[\"b\"] = np.zeros([1, layers_list[i]])\n",
    "        model[\"layers\"].append(layer)\n",
    "    \n",
    "    return model"
   ]
  },
  {
   "cell_type": "code",
   "execution_count": 82,
   "metadata": {},
   "outputs": [],
   "source": [
    "def sigmoid(z):\n",
    "    return 1 / (1 + np.exp(-z))\n",
    "\n",
    "def softmax(z):\n",
    "    expo = np.exp(z)\n",
    "    total = np.sum(expo, axis=1, keepdims=True)\n",
    "    return expo / total"
   ]
  },
  {
   "cell_type": "code",
   "execution_count": 83,
   "metadata": {},
   "outputs": [],
   "source": [
    "val = sigmoid(np.array([-4, 0, 4]))"
   ]
  },
  {
   "cell_type": "code",
   "execution_count": 84,
   "metadata": {},
   "outputs": [],
   "source": [
    "val = softmax(np.array([[1, 6, 10], [2, 5, 9]]))"
   ]
  },
  {
   "cell_type": "code",
   "execution_count": 97,
   "metadata": {},
   "outputs": [],
   "source": [
    "def forword(model, x_data):\n",
    "    \n",
    "    layers = model[\"layers\"]\n",
    "    \n",
    "    a = x_data\n",
    "    \n",
    "    activations = []\n",
    "    \n",
    "    for l, layer in enumerate(layers):\n",
    "        z = np.dot(a, layer[\"w\"]) - layer[\"b\"]\n",
    "        \n",
    "        if l == (len(layers)-1):\n",
    "            a = softmax(z)\n",
    "        else:\n",
    "            a = np.tanh(z)\n",
    "        \n",
    "        activations.append(a)\n",
    "    \n",
    "    return activations\n",
    "        "
   ]
  },
  {
   "cell_type": "code",
   "execution_count": 98,
   "metadata": {},
   "outputs": [],
   "source": [
    "def backward(x_data, y_data, model, activations, lr = .01):\n",
    "    layers = model[\"layers\"]\n",
    "    \n",
    "    for l in range(len(layers) - 1, -1, -1):\n",
    "        if l == len(layers) - 1:\n",
    "            delta = y_data - activations[l]\n",
    "        else:\n",
    "            print(np.dot(delta, layers[l+1][\"w\"].T).shape)\n",
    "            delta = np.multiply(np.dot(delta, layers[l+1][\"w\"].T), 1 - np.square(np.tanh(activations[l])))\n",
    "        \n",
    "        if l != 0:\n",
    "            deltaw = np.dot(activations[l-1].T, delta)\n",
    "        else:\n",
    "            deltaw = np.dot(x_data.T, delta)\n",
    "            \n",
    "        deltab = np.sum(delta, axis=0)/delta.shape[0]\n",
    "        \n",
    "        layers[l][\"w\"] +=  deltaw * lr\n",
    "        layers[l][\"b\"] += deltab * lr\n",
    "        \n",
    "        "
   ]
  },
  {
   "cell_type": "code",
   "execution_count": 120,
   "metadata": {},
   "outputs": [],
   "source": [
    "m2 = generate_model([X_train.shape[1], 10, 10, y_train.shape[1]])"
   ]
  },
  {
   "cell_type": "code",
   "execution_count": 121,
   "metadata": {},
   "outputs": [],
   "source": [
    "def predictions(model, x_data):\n",
    "    y_ = forword(model, x_data)[-1]\n",
    "    return y_\n",
    "\n",
    "def accuracy(model, x_data, y_data):\n",
    "    pred = predictions(model, x_data)\n",
    "    \n",
    "    return (np.argmax(pred, axis=1).reshape(-1, 1) == np.argmax(y_data, axis=1).reshape(-1, 1)).mean()\n",
    "\n",
    "def main(model, x_seq, y_seq, epochs=20, batch_size=30):\n",
    "    for i in range(epochs):\n",
    "        index = 0\n",
    "        while index < x_seq.shape[0]:\n",
    "            x_for = x_seq[index:index + batch_size]\n",
    "            y_for = y_seq[index:index + batch_size]\n",
    "            act = forword(model, x_for)\n",
    "            backward(x_for, y_for, model, act)\n",
    "            index = index + batch_size\n",
    "        print(\"done with epochs : \", i)\n",
    "        print(accuracy(model, x_seq, y_seq))\n",
    "# act = forword(m2, X_train)\n",
    "# backward(X_train, y_train, m2, act)\n"
   ]
  },
  {
   "cell_type": "code",
   "execution_count": null,
   "metadata": {},
   "outputs": [],
   "source": []
  },
  {
   "cell_type": "code",
   "execution_count": 122,
   "metadata": {},
   "outputs": [
    {
     "name": "stdout",
     "output_type": "stream",
     "text": [
      "(200, 10)\n",
      "(200, 10)\n",
      "(200, 10)\n",
      "(200, 10)\n",
      "(200, 10)\n",
      "(200, 10)\n",
      "(70, 10)\n",
      "(70, 10)\n",
      "done with epochs :  0\n",
      "0.7761194029850746\n",
      "(200, 10)\n",
      "(200, 10)\n",
      "(200, 10)\n",
      "(200, 10)\n",
      "(200, 10)\n",
      "(200, 10)\n",
      "(70, 10)\n",
      "(70, 10)\n",
      "done with epochs :  1\n",
      "0.8955223880597015\n",
      "(200, 10)\n",
      "(200, 10)\n",
      "(200, 10)\n",
      "(200, 10)\n",
      "(200, 10)\n",
      "(200, 10)\n",
      "(70, 10)\n",
      "(70, 10)\n",
      "done with epochs :  2\n",
      "0.9567164179104478\n",
      "(200, 10)\n",
      "(200, 10)\n",
      "(200, 10)\n",
      "(200, 10)\n",
      "(200, 10)\n",
      "(200, 10)\n",
      "(70, 10)\n",
      "(70, 10)\n",
      "done with epochs :  3\n",
      "0.9611940298507463\n",
      "(200, 10)\n",
      "(200, 10)\n",
      "(200, 10)\n",
      "(200, 10)\n",
      "(200, 10)\n",
      "(200, 10)\n",
      "(70, 10)\n",
      "(70, 10)\n",
      "done with epochs :  4\n",
      "0.991044776119403\n",
      "(200, 10)\n",
      "(200, 10)\n",
      "(200, 10)\n",
      "(200, 10)\n",
      "(200, 10)\n",
      "(200, 10)\n",
      "(70, 10)\n",
      "(70, 10)\n",
      "done with epochs :  5\n",
      "0.9925373134328358\n",
      "(200, 10)\n",
      "(200, 10)\n",
      "(200, 10)\n",
      "(200, 10)\n",
      "(200, 10)\n",
      "(200, 10)\n",
      "(70, 10)\n",
      "(70, 10)\n",
      "done with epochs :  6\n",
      "0.991044776119403\n",
      "(200, 10)\n",
      "(200, 10)\n",
      "(200, 10)\n",
      "(200, 10)\n",
      "(200, 10)\n",
      "(200, 10)\n",
      "(70, 10)\n",
      "(70, 10)\n",
      "done with epochs :  7\n",
      "0.9940298507462687\n",
      "(200, 10)\n",
      "(200, 10)\n",
      "(200, 10)\n",
      "(200, 10)\n",
      "(200, 10)\n",
      "(200, 10)\n",
      "(70, 10)\n",
      "(70, 10)\n",
      "done with epochs :  8\n",
      "0.9925373134328358\n",
      "(200, 10)\n",
      "(200, 10)\n",
      "(200, 10)\n",
      "(200, 10)\n",
      "(200, 10)\n",
      "(200, 10)\n",
      "(70, 10)\n",
      "(70, 10)\n",
      "done with epochs :  9\n",
      "0.9955223880597015\n",
      "(200, 10)\n",
      "(200, 10)\n",
      "(200, 10)\n",
      "(200, 10)\n",
      "(200, 10)\n",
      "(200, 10)\n",
      "(70, 10)\n",
      "(70, 10)\n",
      "done with epochs :  10\n",
      "0.9955223880597015\n",
      "(200, 10)\n",
      "(200, 10)\n",
      "(200, 10)\n",
      "(200, 10)\n",
      "(200, 10)\n",
      "(200, 10)\n",
      "(70, 10)\n",
      "(70, 10)\n",
      "done with epochs :  11\n",
      "0.9955223880597015\n",
      "(200, 10)\n",
      "(200, 10)\n",
      "(200, 10)\n",
      "(200, 10)\n",
      "(200, 10)\n",
      "(200, 10)\n",
      "(70, 10)\n",
      "(70, 10)\n",
      "done with epochs :  12\n",
      "0.9970149253731343\n",
      "(200, 10)\n",
      "(200, 10)\n",
      "(200, 10)\n",
      "(200, 10)\n",
      "(200, 10)\n",
      "(200, 10)\n",
      "(70, 10)\n",
      "(70, 10)\n",
      "done with epochs :  13\n",
      "0.9985074626865672\n",
      "(200, 10)\n",
      "(200, 10)\n",
      "(200, 10)\n",
      "(200, 10)\n",
      "(200, 10)\n",
      "(200, 10)\n",
      "(70, 10)\n",
      "(70, 10)\n",
      "done with epochs :  14\n",
      "0.9970149253731343\n",
      "(200, 10)\n",
      "(200, 10)\n",
      "(200, 10)\n",
      "(200, 10)\n",
      "(200, 10)\n",
      "(200, 10)\n",
      "(70, 10)\n",
      "(70, 10)\n",
      "done with epochs :  15\n",
      "0.9985074626865672\n",
      "(200, 10)\n",
      "(200, 10)\n",
      "(200, 10)\n",
      "(200, 10)\n",
      "(200, 10)\n",
      "(200, 10)\n",
      "(70, 10)\n",
      "(70, 10)\n",
      "done with epochs :  16\n",
      "1.0\n",
      "(200, 10)\n",
      "(200, 10)\n",
      "(200, 10)\n",
      "(200, 10)\n",
      "(200, 10)\n",
      "(200, 10)\n",
      "(70, 10)\n",
      "(70, 10)\n",
      "done with epochs :  17\n",
      "0.9985074626865672\n",
      "(200, 10)\n",
      "(200, 10)\n",
      "(200, 10)\n",
      "(200, 10)\n",
      "(200, 10)\n",
      "(200, 10)\n",
      "(70, 10)\n",
      "(70, 10)\n",
      "done with epochs :  18\n",
      "0.9985074626865672\n",
      "(200, 10)\n",
      "(200, 10)\n",
      "(200, 10)\n",
      "(200, 10)\n",
      "(200, 10)\n",
      "(200, 10)\n",
      "(70, 10)\n",
      "(70, 10)\n",
      "done with epochs :  19\n",
      "1.0\n"
     ]
    }
   ],
   "source": [
    "main(m2, X_train, y_train, batch_size=200)"
   ]
  },
  {
   "cell_type": "code",
   "execution_count": 103,
   "metadata": {},
   "outputs": [
    {
     "name": "stdout",
     "output_type": "stream",
     "text": [
      "[2 5 2 9 7 7 7 8 1 5]\n",
      "[[2]\n",
      " [5]\n",
      " [2]\n",
      " [9]\n",
      " [8]\n",
      " [7]\n",
      " [7]\n",
      " [8]\n",
      " [1]\n",
      " [5]]\n"
     ]
    }
   ],
   "source": [
    "print(np.argmax(predictions(m2, X_train[:10]), axis=1))\n",
    "print(np.argmax(y_train[:10], axis=1))"
   ]
  },
  {
   "cell_type": "code",
   "execution_count": 124,
   "metadata": {},
   "outputs": [
    {
     "data": {
      "text/plain": [
       "1.0"
      ]
     },
     "execution_count": 124,
     "metadata": {},
     "output_type": "execute_result"
    }
   ],
   "source": [
    "accuracy(m2, X_train, y_train)"
   ]
  },
  {
   "cell_type": "code",
   "execution_count": 112,
   "metadata": {},
   "outputs": [
    {
     "data": {
      "text/plain": [
       "<matplotlib.collections.PathCollection at 0x1191d0898>"
      ]
     },
     "execution_count": 112,
     "metadata": {},
     "output_type": "execute_result"
    },
    {
     "data": {
      "image/png": "[encoded data removed]",
      "text/plain": [
       "<Figure size 432x288 with 1 Axes>"
      ]
     },
     "metadata": {
      "needs_background": "light"
     },
     "output_type": "display_data"
    }
   ],
   "source": [
    "plt.scatter(X_train[:, 0], X_train[:, 1])"
   ]
  },
  {
   "cell_type": "code",
   "execution_count": 123,
   "metadata": {},
   "outputs": [
    {
     "data": {
      "text/plain": [
       "0.990909090909091"
      ]
     },
     "execution_count": 123,
     "metadata": {},
     "output_type": "execute_result"
    }
   ],
   "source": [
    "accuracy(m2, X_test, y_test)"
   ]
  },
  {
   "cell_type": "code",
   "execution_count": null,
   "metadata": {},
   "outputs": [],
   "source": []
  }
 ],
 "metadata": {
  "kernelspec": {
   "display_name": "Python 3",
   "language": "python",
   "name": "python3"
  },
  "language_info": {
   "codemirror_mode": {
    "name": "ipython",
    "version": 3
   },
   "file_extension": ".py",
   "mimetype": "text/x-python",
   "name": "python",
   "nbconvert_exporter": "python",
   "pygments_lexer": "ipython3",
   "version": "3.7.2"
  }
 },
 "nbformat": 4,
 "nbformat_minor": 2
}

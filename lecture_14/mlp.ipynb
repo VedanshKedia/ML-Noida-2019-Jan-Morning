{
 "cells": [
  {
   "cell_type": "code",
   "execution_count": 2,
   "metadata": {},
   "outputs": [],
   "source": [
    "import numpy as np\n",
    "import matplotlib.pyplot as plt\n",
    "from sklearn.datasets import make_blobs\n",
    "from sklearn.model_selection import train_test_split\n",
    "from sklearn.preprocessing import OneHotEncoder"
   ]
  },
  {
   "cell_type": "code",
   "execution_count": 3,
   "metadata": {},
   "outputs": [],
   "source": [
    "X, y = make_blobs(n_samples=1000, n_features=2, centers=2)"
   ]
  },
  {
   "cell_type": "code",
   "execution_count": 8,
   "metadata": {},
   "outputs": [],
   "source": [
    "ohe = OneHotEncoder(categories=\"auto\")\n",
    "y_hot = ohe.fit_transform(y.reshape(-1, 1)).todense()"
   ]
  },
  {
   "cell_type": "code",
   "execution_count": 10,
   "metadata": {},
   "outputs": [],
   "source": [
    "X_train, X_test, y_train, y_test = train_test_split(X, y_hot, test_size=0.33, random_state=42)"
   ]
  },
  {
   "cell_type": "code",
   "execution_count": 15,
   "metadata": {},
   "outputs": [],
   "source": [
    "def generate_model(layers_list):\n",
    "    model = {}\n",
    "    model[\"input_size\"] = layers_list[0]\n",
    "    model[\"output_size\"] = layers_list[-1]\n",
    "    model[\"layers\"] = []\n",
    "    \n",
    "    for i in range(1, len(layers_list)):\n",
    "        layer = {}\n",
    "        layer[\"w\"] = np.zeros([layers_list[i-1], layers_list[i]])\n",
    "        layer[\"b\"] = np.zeros([1, layers_list[i]])\n",
    "        model[\"layers\"].append(layer)\n",
    "    \n",
    "    return model"
   ]
  },
  {
   "cell_type": "code",
   "execution_count": 16,
   "metadata": {},
   "outputs": [],
   "source": [
    "m1 = generate_model([2, 3, 2])"
   ]
  },
  {
   "cell_type": "code",
   "execution_count": 24,
   "metadata": {},
   "outputs": [],
   "source": [
    "def sigmoid(z):\n",
    "    return 1 / (1 + np.exp(-z))\n",
    "\n",
    "def softmax(z):\n",
    "    expo = np.exp(z)\n",
    "    total = np.sum(expo, axis=1, keepdims=True)\n",
    "    return expo / total"
   ]
  },
  {
   "cell_type": "code",
   "execution_count": 22,
   "metadata": {},
   "outputs": [],
   "source": [
    "val = sigmoid(np.array([-4, 0, 4]))"
   ]
  },
  {
   "cell_type": "code",
   "execution_count": 25,
   "metadata": {},
   "outputs": [],
   "source": [
    "val = softmax(np.array([[1, 6, 10], [2, 5, 9]]))"
   ]
  },
  {
   "cell_type": "code",
   "execution_count": 39,
   "metadata": {},
   "outputs": [],
   "source": [
    "def forword(model, x_data):\n",
    "    \n",
    "    layers = model[\"layers\"]\n",
    "    \n",
    "    a = x_data\n",
    "    \n",
    "    activations = []\n",
    "    \n",
    "    for l, layer in enumerate(layers):\n",
    "        z = np.dot(a, layer[\"w\"]) - layer[\"b\"]\n",
    "        \n",
    "        if l == (len(layers)-1):\n",
    "            a = softmax(z)\n",
    "        else:\n",
    "            a = sigmoid(z)\n",
    "        \n",
    "        activations.append(a)\n",
    "    \n",
    "    return activations\n",
    "        "
   ]
  },
  {
   "cell_type": "code",
   "execution_count": 95,
   "metadata": {},
   "outputs": [],
   "source": [
    "def backward(x_data, y_data, model, activations, lr = .01):\n",
    "    layers = model[\"layers\"]\n",
    "    \n",
    "    for l in range(len(layers) - 1, -1, -1):\n",
    "        if l == len(layers) - 1:\n",
    "            delta = y_data - activations[l]\n",
    "        else:\n",
    "            print(np.dot(delta, layers[l+1][\"w\"].T).shape)\n",
    "            delta = np.dot(delta, layers[l+1][\"w\"].T) * (activations[l] * (1 - activations[l]))\n",
    "        \n",
    "        if l != 0:\n",
    "            deltaw = np.dot(activations[l-1].T, delta)\n",
    "        else:\n",
    "            deltaw = np.dot(x_data.T, delta)\n",
    "            \n",
    "        deltab = np.sum(delta, axis=0)/delta.shape[0]\n",
    "        \n",
    "        layers[l][\"w\"] -=  deltaw * lr\n",
    "        layers[l][\"b\"] -= deltab * lr\n",
    "        \n",
    "        "
   ]
  },
  {
   "cell_type": "code",
   "execution_count": 96,
   "metadata": {},
   "outputs": [],
   "source": [
    "m2 = generate_model([2, 3, 2])"
   ]
  },
  {
   "cell_type": "code",
   "execution_count": 102,
   "metadata": {},
   "outputs": [],
   "source": [
    "# act = forword(m2, X_train)\n",
    "# backward(X_train, y_train, m2, act)\n"
   ]
  },
  {
   "cell_type": "code",
   "execution_count": 103,
   "metadata": {},
   "outputs": [],
   "source": [
    "def predictions(model, x_data):\n",
    "    y_ = forword(model, x_data)[-1]\n",
    "    return y_\n",
    "\n",
    "def accuracy(model, x_data, y_data):\n",
    "    pred = predictions(model, x_data)\n",
    "    \n",
    "    return (np.argmax(pred, axis=1) == np.argmax(y_data, axis=1)).mean()"
   ]
  },
  {
   "cell_type": "code",
   "execution_count": 107,
   "metadata": {},
   "outputs": [
    {
     "name": "stdout",
     "output_type": "stream",
     "text": [
      "[[9.99999549e-01 4.51469228e-07]\n",
      " [9.99999549e-01 4.51469228e-07]\n",
      " [9.99999549e-01 4.51469228e-07]\n",
      " ...\n",
      " [9.99999549e-01 4.51469228e-07]\n",
      " [9.99999549e-01 4.51469228e-07]\n",
      " [9.99999549e-01 4.51469228e-07]]\n"
     ]
    }
   ],
   "source": [
    "print(predictions(m2, X_train))"
   ]
  },
  {
   "cell_type": "code",
   "execution_count": 108,
   "metadata": {},
   "outputs": [
    {
     "data": {
      "text/plain": [
       "0.47313432835820896"
      ]
     },
     "execution_count": 108,
     "metadata": {},
     "output_type": "execute_result"
    }
   ],
   "source": [
    "accuracy(m2, X_train, y_train)"
   ]
  },
  {
   "cell_type": "code",
   "execution_count": null,
   "metadata": {},
   "outputs": [],
   "source": [
    "for "
   ]
  }
 ],
 "metadata": {
  "kernelspec": {
   "display_name": "Python 3",
   "language": "python",
   "name": "python3"
  },
  "language_info": {
   "codemirror_mode": {
    "name": "ipython",
    "version": 3
   },
   "file_extension": ".py",
   "mimetype": "text/x-python",
   "name": "python",
   "nbconvert_exporter": "python",
   "pygments_lexer": "ipython3",
   "version": "3.7.2"
  }
 },
 "nbformat": 4,
 "nbformat_minor": 2
}

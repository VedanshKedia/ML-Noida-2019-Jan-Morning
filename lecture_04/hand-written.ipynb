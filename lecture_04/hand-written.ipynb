{
 "cells": [
  {
   "cell_type": "code",
   "execution_count": 35,
   "metadata": {},
   "outputs": [],
   "source": [
    "import pandas as pd\n",
    "import matplotlib.pyplot as plt\n",
    "import numpy as np"
   ]
  },
  {
   "cell_type": "code",
   "execution_count": 36,
   "metadata": {},
   "outputs": [],
   "source": [
    "def eu_dist(p1, p2):\n",
    "    \n",
    "    return np.sqrt(np.sum((p1-p2)**2))\n",
    "\n",
    "def knn(X_train, Y_train, test, k=5):\n",
    "    \n",
    "    doori = []\n",
    "    \n",
    "    for x, y in zip(X_train, Y_train):\n",
    "        d = eu_dist(x, test)\n",
    "        doori.append((d, y))\n",
    "    \n",
    "    doori = sorted(doori, key=lambda x: x[0])\n",
    "    doori = doori[:k]\n",
    "    \n",
    "    k_dist = np.array(doori)\n",
    "    \n",
    "    items, counts = np.unique(k_dist[:,1], return_counts=True)\n",
    "    \n",
    "    return items[np.argmax(counts)]\n"
   ]
  },
  {
   "cell_type": "code",
   "execution_count": 55,
   "metadata": {},
   "outputs": [],
   "source": [
    "data = pd.read_csv(\"../dataset/mnist_train_small.csv\")"
   ]
  },
  {
   "cell_type": "code",
   "execution_count": 56,
   "metadata": {},
   "outputs": [],
   "source": [
    "df = data"
   ]
  },
  {
   "cell_type": "code",
   "execution_count": 57,
   "metadata": {},
   "outputs": [
    {
     "name": "stdout",
     "output_type": "stream",
     "text": [
      "(8000, 786)\n"
     ]
    }
   ],
   "source": [
    "data = df.values\n",
    "\n",
    "print(arr.shape)"
   ]
  },
  {
   "cell_type": "code",
   "execution_count": 58,
   "metadata": {},
   "outputs": [
    {
     "name": "stdout",
     "output_type": "stream",
     "text": [
      "9\n"
     ]
    },
    {
     "data": {
      "text/plain": [
       "<matplotlib.image.AxesImage at 0x118421f98>"
      ]
     },
     "execution_count": 58,
     "metadata": {},
     "output_type": "execute_result"
    },
    {
     "data": {
      "image/png": "[encoded data removed]",
      "text/plain": [
       "<Figure size 432x288 with 1 Axes>"
      ]
     },
     "metadata": {
      "needs_background": "light"
     },
     "output_type": "display_data"
    }
   ],
   "source": [
    "im = arr[3, 2:].reshape(28, -1)\n",
    "print(arr[3, 1])\n",
    "plt.imshow(im, cmap=\"gray\")"
   ]
  },
  {
   "cell_type": "code",
   "execution_count": null,
   "metadata": {},
   "outputs": [],
   "source": []
  },
  {
   "cell_type": "code",
   "execution_count": 59,
   "metadata": {},
   "outputs": [],
   "source": [
    "def accuracy(start, end, k):\n",
    "    count = 0\n",
    "    \n",
    "    for num in range(start, end):\n",
    "        test = data[num, 2:]\n",
    "        expected = data[num, 1]\n",
    "        \n",
    "        if expected == knn(X_train, Y_train, test, k):\n",
    "            count+=1\n",
    "    \n",
    "    return count / (end-start)"
   ]
  },
  {
   "cell_type": "code",
   "execution_count": 60,
   "metadata": {},
   "outputs": [
    {
     "name": "stdout",
     "output_type": "stream",
     "text": [
      "0.8\n"
     ]
    }
   ],
   "source": [
    "X_train = data[:7000, 2:]\n",
    "Y_train = data[:7000, 1]\n",
    "\n",
    "test = data[7000, 2:]\n",
    "# expected = data[7000, 1]\n",
    "\n",
    "print(accuracy(7000, 7020, 60))\n",
    "\n",
    "# lab = knn(X_train, Y_train, test, 10)\n",
    "\n",
    "# print(lab)\n",
    "\n",
    "# test_image = test.reshape(28, -1)\n",
    "# plt.imshow(test_image, cmap=\"gray\")\n"
   ]
  },
  {
   "cell_type": "code",
   "execution_count": null,
   "metadata": {},
   "outputs": [],
   "source": []
  }
 ],
 "metadata": {
  "kernelspec": {
   "display_name": "Python 3",
   "language": "python",
   "name": "python3"
  },
  "language_info": {
   "codemirror_mode": {
    "name": "ipython",
    "version": 3
   },
   "file_extension": ".py",
   "mimetype": "text/x-python",
   "name": "python",
   "nbconvert_exporter": "python",
   "pygments_lexer": "ipython3",
   "version": "3.7.1"
  }
 },
 "nbformat": 4,
 "nbformat_minor": 2
}
